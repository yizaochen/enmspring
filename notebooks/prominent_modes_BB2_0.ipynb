{
 "cells": [
  {
   "cell_type": "code",
   "execution_count": 1,
   "metadata": {},
   "outputs": [],
   "source": [
    "import matplotlib.pyplot as plt\n",
    "import numpy as np\n",
    "from enmspring.graphs_bigtraj import ProminentModesBB2\n",
    "from enmspring.abbr import Abbreviation\n",
    "\n",
    "rootfolder = '/home/ytcdata/bigtraj_fluctmatch/500ns'"
   ]
  },
  {
   "cell_type": "markdown",
   "metadata": {},
   "source": [
    "### Part 1: Initialize"
   ]
  },
  {
   "cell_type": "code",
   "execution_count": 2,
   "metadata": {},
   "outputs": [
    {
     "name": "stdout",
     "output_type": "stream",
     "text": [
      "/home/ytcdata/bigtraj_fluctmatch/500ns/a_tract_21mer/mean_mode_npy exists\n",
      "/home/ytcdata/bigtraj_fluctmatch/500ns/a_tract_21mer/bdna+bdna/0_500/pd_dfs exists\n",
      "/home/ytcdata/bigtraj_fluctmatch/500ns/a_tract_21mer/bdna+bdna/250_750/pd_dfs exists\n",
      "/home/ytcdata/bigtraj_fluctmatch/500ns/a_tract_21mer/bdna+bdna/500_1000/pd_dfs exists\n",
      "/home/ytcdata/bigtraj_fluctmatch/500ns/a_tract_21mer/bdna+bdna/750_1250/pd_dfs exists\n",
      "/home/ytcdata/bigtraj_fluctmatch/500ns/a_tract_21mer/bdna+bdna/1000_1500/pd_dfs exists\n",
      "/home/ytcdata/bigtraj_fluctmatch/500ns/a_tract_21mer/bdna+bdna/1250_1750/pd_dfs exists\n",
      "/home/ytcdata/bigtraj_fluctmatch/500ns/a_tract_21mer/bdna+bdna/1500_2000/pd_dfs exists\n",
      "/home/ytcdata/bigtraj_fluctmatch/500ns/a_tract_21mer/bdna+bdna/1750_2250/pd_dfs exists\n",
      "/home/ytcdata/bigtraj_fluctmatch/500ns/a_tract_21mer/bdna+bdna/2000_2500/pd_dfs exists\n",
      "/home/ytcdata/bigtraj_fluctmatch/500ns/a_tract_21mer/bdna+bdna/2250_2750/pd_dfs exists\n",
      "/home/ytcdata/bigtraj_fluctmatch/500ns/a_tract_21mer/bdna+bdna/2500_3000/pd_dfs exists\n",
      "/home/ytcdata/bigtraj_fluctmatch/500ns/a_tract_21mer/bdna+bdna/2750_3250/pd_dfs exists\n",
      "/home/ytcdata/bigtraj_fluctmatch/500ns/a_tract_21mer/bdna+bdna/3000_3500/pd_dfs exists\n",
      "/home/ytcdata/bigtraj_fluctmatch/500ns/a_tract_21mer/bdna+bdna/3250_3750/pd_dfs exists\n",
      "/home/ytcdata/bigtraj_fluctmatch/500ns/a_tract_21mer/bdna+bdna/3500_4000/pd_dfs exists\n",
      "/home/ytcdata/bigtraj_fluctmatch/500ns/a_tract_21mer/bdna+bdna/3750_4250/pd_dfs exists\n",
      "/home/ytcdata/bigtraj_fluctmatch/500ns/a_tract_21mer/bdna+bdna/4000_4500/pd_dfs exists\n",
      "/home/ytcdata/bigtraj_fluctmatch/500ns/a_tract_21mer/bdna+bdna/4250_4750/pd_dfs exists\n",
      "/home/ytcdata/bigtraj_fluctmatch/500ns/a_tract_21mer/bdna+bdna/4500_5000/pd_dfs exists\n",
      "Load laplacian_mat from /home/ytcdata/bigtraj_fluctmatch/500ns/a_tract_21mer/mean_mode_npy/laplacian_BB2.npy\n"
     ]
    }
   ],
   "source": [
    "host = 'a_tract_21mer'\n",
    "interval_time = 500\n",
    "p_agent = ProminentModesBB2(host, rootfolder, interval_time)"
   ]
  },
  {
   "cell_type": "markdown",
   "metadata": {},
   "source": [
    "### Part 2: Initialize all small agents"
   ]
  },
  {
   "cell_type": "code",
   "execution_count": 14,
   "metadata": {},
   "outputs": [
    {
     "name": "stdout",
     "output_type": "stream",
     "text": [
      "Thare are 456 nodes.\n",
      "Initialize adjacency, degree and Laplacian matrices... Done.\n",
      "Finish the setup for Laplaican matrix.\n",
      "Total number of nodes: 456\n",
      "There are 233 eigenvectors belonging to STRAND1.\n",
      "There are 223 eigenvectors belonging to STRAND2.\n",
      "Sum of two strands: 456\n",
      "Thare are 456 nodes.\n",
      "Initialize adjacency, degree and Laplacian matrices... Done.\n",
      "Finish the setup for Laplaican matrix.\n",
      "Total number of nodes: 456\n",
      "There are 233 eigenvectors belonging to STRAND1.\n",
      "There are 223 eigenvectors belonging to STRAND2.\n",
      "Sum of two strands: 456\n",
      "Thare are 456 nodes.\n",
      "Initialize adjacency, degree and Laplacian matrices... Done.\n",
      "Finish the setup for Laplaican matrix.\n",
      "Total number of nodes: 456\n",
      "There are 235 eigenvectors belonging to STRAND1.\n",
      "There are 221 eigenvectors belonging to STRAND2.\n",
      "Sum of two strands: 456\n",
      "Thare are 456 nodes.\n",
      "Initialize adjacency, degree and Laplacian matrices... Done.\n",
      "Finish the setup for Laplaican matrix.\n",
      "Total number of nodes: 456\n",
      "There are 235 eigenvectors belonging to STRAND1.\n",
      "There are 221 eigenvectors belonging to STRAND2.\n",
      "Sum of two strands: 456\n",
      "Thare are 456 nodes.\n",
      "Initialize adjacency, degree and Laplacian matrices... Done.\n",
      "Finish the setup for Laplaican matrix.\n",
      "Total number of nodes: 456\n",
      "There are 232 eigenvectors belonging to STRAND1.\n",
      "There are 224 eigenvectors belonging to STRAND2.\n",
      "Sum of two strands: 456\n",
      "Thare are 456 nodes.\n",
      "Initialize adjacency, degree and Laplacian matrices... Done.\n",
      "Finish the setup for Laplaican matrix.\n",
      "Total number of nodes: 456\n",
      "There are 232 eigenvectors belonging to STRAND1.\n",
      "There are 224 eigenvectors belonging to STRAND2.\n",
      "Sum of two strands: 456\n",
      "Thare are 456 nodes.\n",
      "Initialize adjacency, degree and Laplacian matrices... Done.\n",
      "Finish the setup for Laplaican matrix.\n",
      "Total number of nodes: 456\n",
      "There are 233 eigenvectors belonging to STRAND1.\n",
      "There are 223 eigenvectors belonging to STRAND2.\n",
      "Sum of two strands: 456\n",
      "Thare are 456 nodes.\n",
      "Initialize adjacency, degree and Laplacian matrices... Done.\n",
      "Finish the setup for Laplaican matrix.\n",
      "Total number of nodes: 456\n",
      "There are 232 eigenvectors belonging to STRAND1.\n",
      "There are 224 eigenvectors belonging to STRAND2.\n",
      "Sum of two strands: 456\n",
      "Thare are 456 nodes.\n",
      "Initialize adjacency, degree and Laplacian matrices... Done.\n",
      "Finish the setup for Laplaican matrix.\n",
      "Total number of nodes: 456\n",
      "There are 231 eigenvectors belonging to STRAND1.\n",
      "There are 225 eigenvectors belonging to STRAND2.\n",
      "Sum of two strands: 456\n",
      "Thare are 456 nodes.\n",
      "Initialize adjacency, degree and Laplacian matrices... Done.\n",
      "Finish the setup for Laplaican matrix.\n",
      "Total number of nodes: 456\n",
      "There are 232 eigenvectors belonging to STRAND1.\n",
      "There are 224 eigenvectors belonging to STRAND2.\n",
      "Sum of two strands: 456\n",
      "Thare are 456 nodes.\n",
      "Initialize adjacency, degree and Laplacian matrices... Done.\n",
      "Finish the setup for Laplaican matrix.\n",
      "Total number of nodes: 456\n",
      "There are 236 eigenvectors belonging to STRAND1.\n",
      "There are 220 eigenvectors belonging to STRAND2.\n",
      "Sum of two strands: 456\n",
      "Thare are 456 nodes.\n",
      "Initialize adjacency, degree and Laplacian matrices... Done.\n",
      "Finish the setup for Laplaican matrix.\n",
      "Total number of nodes: 456\n",
      "There are 239 eigenvectors belonging to STRAND1.\n",
      "There are 217 eigenvectors belonging to STRAND2.\n",
      "Sum of two strands: 456\n",
      "Thare are 456 nodes.\n",
      "Initialize adjacency, degree and Laplacian matrices... Done.\n",
      "Finish the setup for Laplaican matrix.\n",
      "Total number of nodes: 456\n",
      "There are 236 eigenvectors belonging to STRAND1.\n",
      "There are 220 eigenvectors belonging to STRAND2.\n",
      "Sum of two strands: 456\n",
      "Thare are 456 nodes.\n",
      "Initialize adjacency, degree and Laplacian matrices... Done.\n",
      "Finish the setup for Laplaican matrix.\n",
      "Total number of nodes: 456\n",
      "There are 236 eigenvectors belonging to STRAND1.\n",
      "There are 220 eigenvectors belonging to STRAND2.\n",
      "Sum of two strands: 456\n",
      "Thare are 456 nodes.\n",
      "Initialize adjacency, degree and Laplacian matrices... Done.\n",
      "Finish the setup for Laplaican matrix.\n",
      "Total number of nodes: 456\n",
      "There are 230 eigenvectors belonging to STRAND1.\n",
      "There are 226 eigenvectors belonging to STRAND2.\n",
      "Sum of two strands: 456\n",
      "Thare are 456 nodes.\n",
      "Initialize adjacency, degree and Laplacian matrices... Done.\n",
      "Finish the setup for Laplaican matrix.\n",
      "Total number of nodes: 456\n",
      "There are 232 eigenvectors belonging to STRAND1.\n",
      "There are 224 eigenvectors belonging to STRAND2.\n",
      "Sum of two strands: 456\n",
      "Thare are 456 nodes.\n",
      "Initialize adjacency, degree and Laplacian matrices... Done.\n",
      "Finish the setup for Laplaican matrix.\n",
      "Total number of nodes: 456\n",
      "There are 233 eigenvectors belonging to STRAND1.\n",
      "There are 223 eigenvectors belonging to STRAND2.\n",
      "Sum of two strands: 456\n",
      "Thare are 456 nodes.\n",
      "Initialize adjacency, degree and Laplacian matrices... Done.\n",
      "Finish the setup for Laplaican matrix.\n",
      "Total number of nodes: 456\n",
      "There are 238 eigenvectors belonging to STRAND1.\n",
      "There are 218 eigenvectors belonging to STRAND2.\n",
      "Sum of two strands: 456\n",
      "Thare are 456 nodes.\n",
      "Initialize adjacency, degree and Laplacian matrices... Done.\n",
      "Finish the setup for Laplaican matrix.\n",
      "Total number of nodes: 456\n",
      "There are 237 eigenvectors belonging to STRAND1.\n",
      "There are 219 eigenvectors belonging to STRAND2.\n",
      "Sum of two strands: 456\n"
     ]
    }
   ],
   "source": [
    "execute = True\n",
    "if execute:\n",
    "    p_agent.initialize_small_agents()"
   ]
  },
  {
   "cell_type": "markdown",
   "metadata": {},
   "source": [
    "### Part 3: Make/Read $\\left< r_{\\alpha '}\\right>$"
   ]
  },
  {
   "cell_type": "code",
   "execution_count": 15,
   "metadata": {},
   "outputs": [
    {
     "name": "stdout",
     "output_type": "stream",
     "text": [
      "Save mean_r_alpha_array into /home/ytcdata/bigtraj_fluctmatch/500ns/gcgc_21mer/mean_mode_npy/mean_r_alpha_BB2.npy\n"
     ]
    }
   ],
   "source": [
    "p_agent.set_mean_r_alpha_array()\n",
    "p_agent.save_mean_r_alpha_array()"
   ]
  },
  {
   "cell_type": "code",
   "execution_count": 4,
   "metadata": {},
   "outputs": [
    {
     "name": "stdout",
     "output_type": "stream",
     "text": [
      "Load mean_r_alpha_array from /home/ytcdata/bigtraj_fluctmatch/500ns/a_tract_21mer/mean_mode_npy/mean_r_alpha_BB2.npy\n"
     ]
    }
   ],
   "source": [
    "p_agent.load_mean_r_alpha_array()"
   ]
  },
  {
   "cell_type": "code",
   "execution_count": null,
   "metadata": {},
   "outputs": [],
   "source": []
  }
 ],
 "metadata": {
  "kernelspec": {
   "display_name": "Python 3",
   "language": "python",
   "name": "python3"
  },
  "language_info": {
   "codemirror_mode": {
    "name": "ipython",
    "version": 3
   },
   "file_extension": ".py",
   "mimetype": "text/x-python",
   "name": "python",
   "nbconvert_exporter": "python",
   "pygments_lexer": "ipython3",
   "version": "3.8.5"
  }
 },
 "nbformat": 4,
 "nbformat_minor": 4
}
