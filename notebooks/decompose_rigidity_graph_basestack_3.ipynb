{
 "cells": [
  {
   "cell_type": "code",
   "execution_count": 1,
   "metadata": {},
   "outputs": [],
   "source": [
    "from os import path\n",
    "import numpy as np\n",
    "import matplotlib.pyplot as plt\n",
    "from enmspring.graph_decompose import AtomImportance, Bar4Plot\n",
    "from enmspring.graphs import Stack\n",
    "from enmspring.vmddraw import StackWholeMolecule\n",
    "rootfolder = '/home/yizaochen/codes/dna_rna/fluctmatch_sequence'"
   ]
  },
  {
   "cell_type": "markdown",
   "metadata": {},
   "source": [
    "### Part 1: Initialize"
   ]
  },
  {
   "cell_type": "code",
   "execution_count": 2,
   "metadata": {},
   "outputs": [
    {
     "name": "stdout",
     "output_type": "stream",
     "text": [
      "/home/yizaochen/codes/dna_rna/fluctmatch_sequence/a_tract_21mer/bdna+bdna/pd_dfs exists\n",
      "Read Dataframe of stacking: df_st\n",
      "Thare are 399 nodes.\n",
      "Initialize adjacency, degree and Laplacian matrices... Done.\n",
      "Finish the setup for Laplaican matrix.\n",
      "Total number of nodes: 399\n",
      "There are 210 eigenvectors belonging to STRAND1.\n",
      "There are 189 eigenvectors belonging to STRAND2.\n",
      "Sum of two strands: 399\n"
     ]
    }
   ],
   "source": [
    "host = 'a_tract_21mer'\n",
    "a_agent = AtomImportance(host, rootfolder)"
   ]
  },
  {
   "cell_type": "markdown",
   "metadata": {},
   "source": [
    "#### Check $\\lambda_i=q_i^{T}\\textbf{A}q_i + q_i^{T}\\textbf{D}q_i$"
   ]
  },
  {
   "cell_type": "code",
   "execution_count": 17,
   "metadata": {},
   "outputs": [
    {
     "name": "stdout",
     "output_type": "stream",
     "text": [
      "The 1-th eigenvalue is: 19.503\n",
      "The 1-th eigenvalue from decompose is: 19.503\n"
     ]
    }
   ],
   "source": [
    "sele_id = 1\n",
    "eigvalue = a_agent.g_agent.get_eigenvalue_by_id(sele_id)\n",
    "q = a_agent.g_agent.get_eigenvector_by_id(sele_id)\n",
    "A = a_agent.g_agent.adjacency_mat\n",
    "D = a_agent.g_agent.degree_mat\n",
    "eigvalue_from_decomp = np.dot(q.T, np.dot(A, q)) + np.dot(q.T, np.dot(D, q))\n",
    "print(f'The {sele_id}-th eigenvalue is: {eigvalue:.3f}')\n",
    "print(f'The {sele_id}-th eigenvalue from decompose is: {eigvalue_from_decomp:.3f}')"
   ]
  },
  {
   "cell_type": "markdown",
   "metadata": {},
   "source": [
    "### Part 2: Bar-Plot for 4 hosts"
   ]
  },
  {
   "cell_type": "code",
   "execution_count": 2,
   "metadata": {},
   "outputs": [
    {
     "name": "stdout",
     "output_type": "stream",
     "text": [
      "/home/yizaochen/codes/dna_rna/fluctmatch_sequence/a_tract_21mer/bdna+bdna/pd_dfs exists\n",
      "Read Dataframe of stacking: df_st\n",
      "Thare are 399 nodes.\n",
      "Initialize adjacency, degree and Laplacian matrices... Done.\n",
      "Finish the setup for Laplaican matrix.\n",
      "Total number of nodes: 399\n",
      "There are 210 eigenvectors belonging to STRAND1.\n",
      "There are 189 eigenvectors belonging to STRAND2.\n",
      "Sum of two strands: 399\n",
      "/home/yizaochen/codes/dna_rna/fluctmatch_sequence/g_tract_21mer/bdna+bdna/pd_dfs exists\n",
      "Read Dataframe of stacking: df_st\n",
      "Thare are 399 nodes.\n",
      "Initialize adjacency, degree and Laplacian matrices... Done.\n",
      "Finish the setup for Laplaican matrix.\n",
      "Total number of nodes: 399\n",
      "There are 231 eigenvectors belonging to STRAND1.\n",
      "There are 168 eigenvectors belonging to STRAND2.\n",
      "Sum of two strands: 399\n"
     ]
    }
   ],
   "source": [
    "b_agent = Bar4Plot(rootfolder)"
   ]
  },
  {
   "cell_type": "code",
   "execution_count": 5,
   "metadata": {},
   "outputs": [
    {
     "data": {
      "image/png": "[encoded data removed]",
      "text/plain": [
       "<Figure size 432x288 with 1 Axes>"
      ]
     },
     "metadata": {
      "needs_background": "light"
     },
     "output_type": "display_data"
    }
   ],
   "source": [
    "figsize = (6, 4)\n",
    "small_width = 1\n",
    "big_width = 1.2\n",
    "n_modes = 5\n",
    "strandid = 'STRAND1' # 'STRAND1' or 'STRAND2'\n",
    "\n",
    "b_agent.plot_main(figsize, small_width, big_width, n_modes, strandid)\n",
    "plt.tight_layout()\n",
    "#plt.savefig('basestack_qTAq_purine_strand.png', dpi=300)\n",
    "plt.show()"
   ]
  },
  {
   "cell_type": "code",
   "execution_count": 6,
   "metadata": {},
   "outputs": [
    {
     "data": {
      "image/png": "[encoded data removed]",
      "text/plain": [
       "<Figure size 432x288 with 1 Axes>"
      ]
     },
     "metadata": {
      "needs_background": "light"
     },
     "output_type": "display_data"
    }
   ],
   "source": [
    "figsize = (6, 4)\n",
    "small_width = 1\n",
    "big_width = 1.2\n",
    "n_modes = 5\n",
    "strandid = 'STRAND2' # 'STRAND1' or 'STRAND2'\n",
    "\n",
    "b_agent.plot_main(figsize, small_width, big_width, n_modes, strandid)\n",
    "plt.tight_layout()\n",
    "#plt.savefig('basestack_qTAq_pyrimidine_strand.png', dpi=300)\n",
    "plt.show()"
   ]
  },
  {
   "cell_type": "markdown",
   "metadata": {},
   "source": [
    "### Part 3: Show edges in molecule for a specific mode"
   ]
  },
  {
   "cell_type": "code",
   "execution_count": 86,
   "metadata": {},
   "outputs": [
    {
     "name": "stdout",
     "output_type": "stream",
     "text": [
      "/home/yizaochen/codes/dna_rna/fluctmatch_sequence/a_tract_21mer/bdna+bdna/pd_dfs exists\n",
      "Read Dataframe of stacking: df_st\n",
      "Thare are 399 nodes.\n",
      "Initialize adjacency, degree and Laplacian matrices... Done.\n",
      "Finish the setup for Laplaican matrix.\n",
      "Total number of nodes: 399\n",
      "There are 210 eigenvectors belonging to STRAND1.\n",
      "There are 189 eigenvectors belonging to STRAND2.\n",
      "Sum of two strands: 399\n"
     ]
    }
   ],
   "source": [
    "host = 'a_tract_21mer'\n",
    "g_agent = Stack(host, rootfolder)\n",
    "g_agent.pre_process()"
   ]
  },
  {
   "cell_type": "code",
   "execution_count": 123,
   "metadata": {},
   "outputs": [
    {
     "data": {
      "text/html": [
       "<div>\n",
       "<style scoped>\n",
       "    .dataframe tbody tr th:only-of-type {\n",
       "        vertical-align: middle;\n",
       "    }\n",
       "\n",
       "    .dataframe tbody tr th {\n",
       "        vertical-align: top;\n",
       "    }\n",
       "\n",
       "    .dataframe thead th {\n",
       "        text-align: right;\n",
       "    }\n",
       "</style>\n",
       "<table border=\"1\" class=\"dataframe\">\n",
       "  <thead>\n",
       "    <tr style=\"text-align: right;\">\n",
       "      <th></th>\n",
       "      <th>Strand_i</th>\n",
       "      <th>Resid_i</th>\n",
       "      <th>Atomname_i</th>\n",
       "      <th>Strand_j</th>\n",
       "      <th>Resid_j</th>\n",
       "      <th>Atomname_j</th>\n",
       "      <th>qTAq</th>\n",
       "    </tr>\n",
       "  </thead>\n",
       "  <tbody>\n",
       "    <tr>\n",
       "      <th>0</th>\n",
       "      <td>STRAND1</td>\n",
       "      <td>1</td>\n",
       "      <td>N9</td>\n",
       "      <td>STRAND1</td>\n",
       "      <td>2</td>\n",
       "      <td>C8</td>\n",
       "      <td>0.0</td>\n",
       "    </tr>\n",
       "    <tr>\n",
       "      <th>1</th>\n",
       "      <td>STRAND1</td>\n",
       "      <td>1</td>\n",
       "      <td>N9</td>\n",
       "      <td>STRAND1</td>\n",
       "      <td>2</td>\n",
       "      <td>N7</td>\n",
       "      <td>0.0</td>\n",
       "    </tr>\n",
       "    <tr>\n",
       "      <th>2</th>\n",
       "      <td>STRAND1</td>\n",
       "      <td>1</td>\n",
       "      <td>N9</td>\n",
       "      <td>STRAND1</td>\n",
       "      <td>2</td>\n",
       "      <td>C5</td>\n",
       "      <td>0.0</td>\n",
       "    </tr>\n",
       "    <tr>\n",
       "      <th>3</th>\n",
       "      <td>STRAND1</td>\n",
       "      <td>1</td>\n",
       "      <td>C8</td>\n",
       "      <td>STRAND1</td>\n",
       "      <td>2</td>\n",
       "      <td>C8</td>\n",
       "      <td>0.0</td>\n",
       "    </tr>\n",
       "    <tr>\n",
       "      <th>4</th>\n",
       "      <td>STRAND1</td>\n",
       "      <td>1</td>\n",
       "      <td>C8</td>\n",
       "      <td>STRAND1</td>\n",
       "      <td>2</td>\n",
       "      <td>N7</td>\n",
       "      <td>0.0</td>\n",
       "    </tr>\n",
       "  </tbody>\n",
       "</table>\n",
       "</div>"
      ],
      "text/plain": [
       "  Strand_i  Resid_i Atomname_i Strand_j  Resid_j Atomname_j  qTAq\n",
       "0  STRAND1        1         N9  STRAND1        2         C8   0.0\n",
       "1  STRAND1        1         N9  STRAND1        2         N7   0.0\n",
       "2  STRAND1        1         N9  STRAND1        2         C5   0.0\n",
       "3  STRAND1        1         C8  STRAND1        2         C8   0.0\n",
       "4  STRAND1        1         C8  STRAND1        2         N7   0.0"
      ]
     },
     "execution_count": 123,
     "metadata": {},
     "output_type": "execute_result"
    }
   ],
   "source": [
    "strandid = 'STRAND2' # 'STRAND1' or 'STRAND2'\n",
    "eigv_id = 5\n",
    "df = g_agent.get_df_qTAq_for_vmd_draw(eigv_id, strandid)\n",
    "df.head()"
   ]
  },
  {
   "cell_type": "code",
   "execution_count": 124,
   "metadata": {},
   "outputs": [
    {
     "name": "stdout",
     "output_type": "stream",
     "text": [
      "There are 14 bonds left.\n"
     ]
    }
   ],
   "source": [
    "filter_criteria = 1e-1\n",
    "mask = df['qTAq'] > filter_criteria\n",
    "df1 = df[mask]\n",
    "print(f'There are {df1.shape[0]} bonds left.')"
   ]
  },
  {
   "cell_type": "markdown",
   "metadata": {},
   "source": [
    "### Part 4: Use DataFrame obtained above to draw important bonds on VMD"
   ]
  },
  {
   "cell_type": "code",
   "execution_count": 125,
   "metadata": {},
   "outputs": [
    {
     "name": "stdout",
     "output_type": "stream",
     "text": [
      "/home/yizaochen/codes/dna_rna/fluctmatch_sequence/a_tract_21mer/bdna+bdna/pd_dfs exists\n",
      "Read Dataframe of stacking: df_st\n",
      "Thare are 399 nodes.\n",
      "Initialize adjacency, degree and Laplacian matrices... Done.\n",
      "Finish the setup for Laplaican matrix.\n",
      "Total number of nodes: 399\n",
      "There are 210 eigenvectors belonging to STRAND1.\n",
      "There are 189 eigenvectors belonging to STRAND2.\n",
      "Sum of two strands: 399\n",
      "/home/yizaochen/Desktop/dna_slide_202102/mol_structure exists\n"
     ]
    }
   ],
   "source": [
    "pic_out_folder = '/home/yizaochen/Desktop/dna_slide_202102'\n",
    "draw_agent = StackWholeMolecule(host, rootfolder, pic_out_folder)"
   ]
  },
  {
   "cell_type": "code",
   "execution_count": 126,
   "metadata": {},
   "outputs": [
    {
     "name": "stdout",
     "output_type": "stream",
     "text": [
      "vmd -gro /home/yizaochen/codes/dna_rna/all_systems/a_tract_21mer/bdna+bdna/input/allatoms/bdna+bdna.perfect.gro\n",
      "source /home/yizaochen/codes/dna_rna/enmspring/tclscripts/show_basestack_pair.tcl\n",
      "/home/yizaochen/Desktop/dna_slide_202102/mol_structure/a_tract_21mer_stack_STRAND2_5\n"
     ]
    }
   ],
   "source": [
    "radius = 0.2\n",
    "draw_agent.vmd_show_whole_stack(df1, radius, eigv_id, strandid)"
   ]
  },
  {
   "cell_type": "code",
   "execution_count": null,
   "metadata": {},
   "outputs": [],
   "source": []
  },
  {
   "cell_type": "code",
   "execution_count": null,
   "metadata": {},
   "outputs": [],
   "source": []
  }
 ],
 "metadata": {
  "kernelspec": {
   "display_name": "Python 3",
   "language": "python",
   "name": "python3"
  },
  "language_info": {
   "codemirror_mode": {
    "name": "ipython",
    "version": 3
   },
   "file_extension": ".py",
   "mimetype": "text/x-python",
   "name": "python",
   "nbconvert_exporter": "python",
   "pygments_lexer": "ipython3",
   "version": "3.8.5"
  }
 },
 "nbformat": 4,
 "nbformat_minor": 4
}
