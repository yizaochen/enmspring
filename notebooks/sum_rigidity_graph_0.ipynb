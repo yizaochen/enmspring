{
 "cells": [
  {
   "cell_type": "code",
   "execution_count": 1,
   "metadata": {},
   "outputs": [],
   "source": [
    "import numpy as np\n",
    "import matplotlib.pyplot as plt\n",
    "from enmspring.graphs_bigtraj import StackMeanModeAgent\n",
    "rootfolder = '/home/ytcdata/bigtraj_fluctmatch/500ns'"
   ]
  },
  {
   "cell_type": "markdown",
   "metadata": {},
   "source": [
    "### Part 1: Initialize"
   ]
  },
  {
   "cell_type": "code",
   "execution_count": 2,
   "metadata": {
    "collapsed": true,
    "jupyter": {
     "outputs_hidden": true
    }
   },
   "outputs": [
    {
     "name": "stdout",
     "output_type": "stream",
     "text": [
      "/home/ytcdata/bigtraj_fluctmatch/500ns/a_tract_21mer/mean_mode_npy exists\n",
      "/home/ytcdata/bigtraj_fluctmatch/500ns/a_tract_21mer/bdna+bdna/0_500/pd_dfs exists\n",
      "Read Dataframe of stacking: df_st\n",
      "/home/ytcdata/bigtraj_fluctmatch/500ns/a_tract_21mer/bdna+bdna/250_750/pd_dfs exists\n",
      "Read Dataframe of stacking: df_st\n",
      "/home/ytcdata/bigtraj_fluctmatch/500ns/a_tract_21mer/bdna+bdna/500_1000/pd_dfs exists\n",
      "Read Dataframe of stacking: df_st\n",
      "/home/ytcdata/bigtraj_fluctmatch/500ns/a_tract_21mer/bdna+bdna/750_1250/pd_dfs exists\n",
      "Read Dataframe of stacking: df_st\n",
      "/home/ytcdata/bigtraj_fluctmatch/500ns/a_tract_21mer/bdna+bdna/1000_1500/pd_dfs exists\n",
      "Read Dataframe of stacking: df_st\n",
      "/home/ytcdata/bigtraj_fluctmatch/500ns/a_tract_21mer/bdna+bdna/1250_1750/pd_dfs exists\n",
      "Read Dataframe of stacking: df_st\n",
      "/home/ytcdata/bigtraj_fluctmatch/500ns/a_tract_21mer/bdna+bdna/1500_2000/pd_dfs exists\n",
      "Read Dataframe of stacking: df_st\n",
      "/home/ytcdata/bigtraj_fluctmatch/500ns/a_tract_21mer/bdna+bdna/1750_2250/pd_dfs exists\n",
      "Read Dataframe of stacking: df_st\n",
      "/home/ytcdata/bigtraj_fluctmatch/500ns/a_tract_21mer/bdna+bdna/2000_2500/pd_dfs exists\n",
      "Read Dataframe of stacking: df_st\n",
      "/home/ytcdata/bigtraj_fluctmatch/500ns/a_tract_21mer/bdna+bdna/2250_2750/pd_dfs exists\n",
      "Read Dataframe of stacking: df_st\n",
      "/home/ytcdata/bigtraj_fluctmatch/500ns/a_tract_21mer/bdna+bdna/2500_3000/pd_dfs exists\n",
      "Read Dataframe of stacking: df_st\n",
      "/home/ytcdata/bigtraj_fluctmatch/500ns/a_tract_21mer/bdna+bdna/2750_3250/pd_dfs exists\n",
      "Read Dataframe of stacking: df_st\n",
      "/home/ytcdata/bigtraj_fluctmatch/500ns/a_tract_21mer/bdna+bdna/3000_3500/pd_dfs exists\n",
      "Read Dataframe of stacking: df_st\n",
      "/home/ytcdata/bigtraj_fluctmatch/500ns/a_tract_21mer/bdna+bdna/3250_3750/pd_dfs exists\n",
      "Read Dataframe of stacking: df_st\n",
      "/home/ytcdata/bigtraj_fluctmatch/500ns/a_tract_21mer/bdna+bdna/3500_4000/pd_dfs exists\n",
      "Read Dataframe of stacking: df_st\n",
      "/home/ytcdata/bigtraj_fluctmatch/500ns/a_tract_21mer/bdna+bdna/3750_4250/pd_dfs exists\n",
      "Read Dataframe of stacking: df_st\n",
      "/home/ytcdata/bigtraj_fluctmatch/500ns/a_tract_21mer/bdna+bdna/4000_4500/pd_dfs exists\n",
      "Read Dataframe of stacking: df_st\n",
      "/home/ytcdata/bigtraj_fluctmatch/500ns/a_tract_21mer/bdna+bdna/4250_4750/pd_dfs exists\n",
      "Read Dataframe of stacking: df_st\n",
      "/home/ytcdata/bigtraj_fluctmatch/500ns/a_tract_21mer/bdna+bdna/4500_5000/pd_dfs exists\n",
      "Read Dataframe of stacking: df_st\n"
     ]
    }
   ],
   "source": [
    "host = 'a_tract_21mer'\n",
    "interval_time = 500\n",
    "s_agent = StackMeanModeAgent(host, rootfolder, interval_time)"
   ]
  },
  {
   "cell_type": "code",
   "execution_count": 3,
   "metadata": {
    "collapsed": true,
    "jupyter": {
     "outputs_hidden": true
    }
   },
   "outputs": [
    {
     "name": "stdout",
     "output_type": "stream",
     "text": [
      "Load laplacian_mat from /home/ytcdata/bigtraj_fluctmatch/500ns/a_tract_21mer/mean_mode_npy/laplacian.npy\n",
      "Thare are 399 nodes.\n",
      "Total number of nodes: 399\n",
      "There are 210 eigenvectors belonging to STRAND1.\n",
      "There are 189 eigenvectors belonging to STRAND2.\n",
      "Sum of two strands: 399\n"
     ]
    }
   ],
   "source": [
    "s_agent.load_mean_mode_laplacian_from_npy()\n",
    "s_agent.eigen_decompose()\n",
    "s_agent.initialize_nodes_information()\n",
    "s_agent.split_node_list_into_two_strand()\n",
    "s_agent.set_benchmark_array()\n",
    "s_agent.set_strand_array()"
   ]
  },
  {
   "cell_type": "markdown",
   "metadata": {},
   "source": [
    "### Part 2: Build $\\textbf{Q}$\n",
    "$\n",
    "\\textbf{Q} = \n",
    "\\begin{bmatrix}\n",
    "    \\vert & \\vert & \\cdots & \\vert \\\\\n",
    "    e_1   & e_2  & \\cdots & e_{N_v} \\\\\n",
    "    \\vert & \\vert & \\cdots & \\lvert\n",
    "\\end{bmatrix}\n",
    "$"
   ]
  },
  {
   "cell_type": "code",
   "execution_count": 4,
   "metadata": {},
   "outputs": [],
   "source": [
    "Q = s_agent.v"
   ]
  },
  {
   "cell_type": "markdown",
   "metadata": {},
   "source": [
    "### Part 3: Build $\\Lambda_i$\n",
    "$\n",
    "\\Lambda_1 = \n",
    "\\begin{bmatrix}\n",
    "    \\lambda_1 & 0 & \\cdots & 0 \\\\\n",
    "    0  & 0  & \\cdots & 0 \\\\\n",
    "    \\vdots  & \\vdots  & \\cdots & \\vdots \\\\\n",
    "    0 & 0 & \\cdots & 0\n",
    "\\end{bmatrix}\n",
    "$"
   ]
  },
  {
   "cell_type": "code",
   "execution_count": 5,
   "metadata": {},
   "outputs": [],
   "source": [
    "eigv_id = 1\n",
    "lambda_mat = np.zeros((s_agent.n_node, s_agent.n_node))\n",
    "lambda_mat[eigv_id-1, eigv_id-1] = s_agent.get_eigenvalue_by_id(eigv_id)"
   ]
  },
  {
   "cell_type": "markdown",
   "metadata": {},
   "source": [
    "### Part 4: $\\textbf{K}^{(m,n)}=\\sum_{i=m}^{n}\\textbf{Q}\\Lambda_{i}\\textbf{Q}^T$"
   ]
  },
  {
   "cell_type": "code",
   "execution_count": 32,
   "metadata": {},
   "outputs": [],
   "source": [
    "m = 1\n",
    "n = s_agent.n_node\n",
    "\n",
    "norm_array = np.zeros(s_agent.n_node+1)\n",
    "K_mat = np.zeros((s_agent.n_node, s_agent.n_node))\n",
    "norm_array[0] = np.linalg.norm(K_mat-s_agent.laplacian_mat)\n",
    "for eigv_id in range(m, n+1):\n",
    "    lambda_mat = np.zeros((s_agent.n_node, s_agent.n_node))\n",
    "    lambda_mat[eigv_id-1, eigv_id-1] = s_agent.get_eigenvalue_by_id(eigv_id)\n",
    "    K_mat += np.dot(Q, np.dot(lambda_mat, Q.transpose()))\n",
    "    norm_array[eigv_id] = np.linalg.norm(K_mat-s_agent.laplacian_mat)"
   ]
  },
  {
   "cell_type": "code",
   "execution_count": 33,
   "metadata": {},
   "outputs": [],
   "source": [
    "m = 1\n",
    "n = s_agent.n_node\n",
    "\n",
    "target_diag = np.diag(s_agent.laplacian_mat)\n",
    "\n",
    "norm_array_diag = np.zeros(s_agent.n_node+1)\n",
    "K_mat = np.zeros((s_agent.n_node, s_agent.n_node))\n",
    "K_mat_diag = np.diag(K_mat)\n",
    "norm_array_diag[0] = np.linalg.norm(K_mat_diag-target_diag)\n",
    "for eigv_id in range(m, n+1):\n",
    "    lambda_mat = np.zeros((s_agent.n_node, s_agent.n_node))\n",
    "    lambda_mat[eigv_id-1, eigv_id-1] = s_agent.get_eigenvalue_by_id(eigv_id)\n",
    "    K_mat += np.dot(Q, np.dot(lambda_mat, Q.transpose()))\n",
    "    K_mat_diag = np.diag(K_mat)\n",
    "    norm_array_diag[eigv_id] = np.linalg.norm(K_mat_diag-target_diag)"
   ]
  },
  {
   "cell_type": "markdown",
   "metadata": {},
   "source": [
    "### Part 5: Plot"
   ]
  },
  {
   "cell_type": "code",
   "execution_count": 34,
   "metadata": {},
   "outputs": [
    {
     "data": {
      "image/png": "[encoded data removed]",
      "text/plain": [
       "<Figure size 576x288 with 1 Axes>"
      ]
     },
     "metadata": {
      "needs_background": "light"
     },
     "output_type": "display_data"
    }
   ],
   "source": [
    "fig, ax = plt.subplots(figsize=(8,4))\n",
    "\n",
    "xlist = list(range(s_agent.n_node+1))\n",
    "\n",
    "ax.plot(xlist, norm_array, '.-')\n",
    "ax.plot(xlist, norm_array_diag, '.-')\n",
    "\n",
    "\n",
    "plt.tight_layout()\n",
    "plt.show()"
   ]
  },
  {
   "cell_type": "markdown",
   "metadata": {},
   "source": [
    "### Part 6"
   ]
  },
  {
   "cell_type": "code",
   "execution_count": 35,
   "metadata": {},
   "outputs": [],
   "source": [
    "def upper_tri_masking(A):\n",
    "    m = A.shape[0]\n",
    "    r = np.arange(m)\n",
    "    mask = r[:,None] < r\n",
    "    return A[mask]"
   ]
  },
  {
   "cell_type": "code",
   "execution_count": 36,
   "metadata": {},
   "outputs": [
    {
     "data": {
      "text/plain": [
       "array([0., 0., 0., ..., 0., 0., 0.])"
      ]
     },
     "execution_count": 36,
     "metadata": {},
     "output_type": "execute_result"
    }
   ],
   "source": [
    "upper_tri_masking(s_agent.laplacian_mat)"
   ]
  },
  {
   "cell_type": "code",
   "execution_count": 37,
   "metadata": {},
   "outputs": [],
   "source": [
    "m = 1\n",
    "n = s_agent.n_node\n",
    "\n",
    "target_utrig = upper_tri_masking(s_agent.laplacian_mat)\n",
    "\n",
    "norm_array_utrig = np.zeros(s_agent.n_node+1)\n",
    "K_mat = np.zeros((s_agent.n_node, s_agent.n_node))\n",
    "K_mat_utrig = upper_tri_masking(K_mat)\n",
    "norm_array_utrig[0] = np.linalg.norm(K_mat_utrig-target_utrig)\n",
    "for eigv_id in range(m, n+1):\n",
    "    lambda_mat = np.zeros((s_agent.n_node, s_agent.n_node))\n",
    "    lambda_mat[eigv_id-1, eigv_id-1] = s_agent.get_eigenvalue_by_id(eigv_id)\n",
    "    K_mat += np.dot(Q, np.dot(lambda_mat, Q.transpose()))\n",
    "    K_mat_utrig = upper_tri_masking(K_mat)\n",
    "    norm_array_utrig[eigv_id] = np.linalg.norm(K_mat_utrig-target_utrig)"
   ]
  },
  {
   "cell_type": "code",
   "execution_count": 38,
   "metadata": {},
   "outputs": [
    {
     "data": {
      "image/png": "[encoded data removed]",
      "text/plain": [
       "<Figure size 576x288 with 1 Axes>"
      ]
     },
     "metadata": {
      "needs_background": "light"
     },
     "output_type": "display_data"
    }
   ],
   "source": [
    "fig, ax = plt.subplots(figsize=(8,4))\n",
    "\n",
    "xlist = list(range(s_agent.n_node+1))\n",
    "\n",
    "ax.plot(xlist, norm_array_utrig, '.-')\n",
    "\n",
    "\n",
    "plt.tight_layout()\n",
    "plt.show()"
   ]
  }
 ],
 "metadata": {
  "kernelspec": {
   "display_name": "Python 3",
   "language": "python",
   "name": "python3"
  },
  "language_info": {
   "codemirror_mode": {
    "name": "ipython",
    "version": 3
   },
   "file_extension": ".py",
   "mimetype": "text/x-python",
   "name": "python",
   "nbconvert_exporter": "python",
   "pygments_lexer": "ipython3",
   "version": "3.8.5"
  }
 },
 "nbformat": 4,
 "nbformat_minor": 4
}
