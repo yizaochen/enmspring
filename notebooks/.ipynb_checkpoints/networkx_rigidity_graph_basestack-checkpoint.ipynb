{
 "cells": [
  {
   "cell_type": "code",
   "execution_count": 1,
   "metadata": {},
   "outputs": [],
   "source": [
    "from os import path\n",
    "import numpy as np\n",
    "import matplotlib\n",
    "import matplotlib.pyplot as plt\n",
    "from enmspring.graphs import Stack\n",
    "import networkx as nx\n",
    "from networkx.drawing.nx_pylab import draw_networkx, draw_networkx_edge_labels\n",
    "rootfolder = '/home/yizaochen/codes/dna_rna/fluctmatch_sequence'\n",
    "enmroot = '/home/yizaochen/codes/dna_rna/enmspring'"
   ]
  },
  {
   "cell_type": "markdown",
   "metadata": {},
   "source": [
    "### Part 1: Initialize"
   ]
  },
  {
   "cell_type": "code",
   "execution_count": 2,
   "metadata": {},
   "outputs": [
    {
     "name": "stdout",
     "output_type": "stream",
     "text": [
      "/home/yizaochen/codes/dna_rna/fluctmatch_sequence/a_tract_21mer/bdna+bdna/pd_dfs exists\n",
      "Read Dataframe of stacking: df_st\n",
      "Thare are 399 nodes.\n",
      "Initialize adjacency, degree and Laplacian matrices... Done.\n"
     ]
    }
   ],
   "source": [
    "host = 'a_tract_21mer'\n",
    "g_agent = Stack(host, rootfolder)\n",
    "g_agent.build_node_list()\n",
    "g_agent.initialize_three_mat()\n",
    "\n",
    "node_list_by_id = g_agent.get_node_list_by_id()\n",
    "mapping = {atomid: g_agent.atomname_map[g_agent.atomid_map_inverse[atomid]] for atomid in node_list_by_id}"
   ]
  },
  {
   "cell_type": "code",
   "execution_count": 3,
   "metadata": {},
   "outputs": [
    {
     "data": {
      "text/html": [
       "<div>\n",
       "<style scoped>\n",
       "    .dataframe tbody tr th:only-of-type {\n",
       "        vertical-align: middle;\n",
       "    }\n",
       "\n",
       "    .dataframe tbody tr th {\n",
       "        vertical-align: top;\n",
       "    }\n",
       "\n",
       "    .dataframe thead th {\n",
       "        text-align: right;\n",
       "    }\n",
       "</style>\n",
       "<table border=\"1\" class=\"dataframe\">\n",
       "  <thead>\n",
       "    <tr style=\"text-align: right;\">\n",
       "      <th></th>\n",
       "      <th>PairID</th>\n",
       "      <th>PairType</th>\n",
       "      <th>Big_Category</th>\n",
       "      <th>Strand_i</th>\n",
       "      <th>Resid_i</th>\n",
       "      <th>Atomname_i</th>\n",
       "      <th>Atomid_i</th>\n",
       "      <th>Strand_j</th>\n",
       "      <th>Resid_j</th>\n",
       "      <th>Atomname_j</th>\n",
       "      <th>Atomid_j</th>\n",
       "      <th>k</th>\n",
       "      <th>b0</th>\n",
       "    </tr>\n",
       "  </thead>\n",
       "  <tbody>\n",
       "    <tr>\n",
       "      <th>78</th>\n",
       "      <td>79</td>\n",
       "      <td>STACK-1</td>\n",
       "      <td>stack</td>\n",
       "      <td>STRAND1</td>\n",
       "      <td>1</td>\n",
       "      <td>N9</td>\n",
       "      <td>6</td>\n",
       "      <td>STRAND1</td>\n",
       "      <td>2</td>\n",
       "      <td>C8</td>\n",
       "      <td>28</td>\n",
       "      <td>0.2395</td>\n",
       "      <td>3.6840</td>\n",
       "    </tr>\n",
       "    <tr>\n",
       "      <th>79</th>\n",
       "      <td>80</td>\n",
       "      <td>STACK-1</td>\n",
       "      <td>stack</td>\n",
       "      <td>STRAND1</td>\n",
       "      <td>1</td>\n",
       "      <td>N9</td>\n",
       "      <td>6</td>\n",
       "      <td>STRAND1</td>\n",
       "      <td>2</td>\n",
       "      <td>N7</td>\n",
       "      <td>29</td>\n",
       "      <td>0.3350</td>\n",
       "      <td>3.5543</td>\n",
       "    </tr>\n",
       "    <tr>\n",
       "      <th>80</th>\n",
       "      <td>81</td>\n",
       "      <td>STACK-1</td>\n",
       "      <td>stack</td>\n",
       "      <td>STRAND1</td>\n",
       "      <td>1</td>\n",
       "      <td>N9</td>\n",
       "      <td>6</td>\n",
       "      <td>STRAND1</td>\n",
       "      <td>2</td>\n",
       "      <td>C5</td>\n",
       "      <td>30</td>\n",
       "      <td>0.2749</td>\n",
       "      <td>3.9279</td>\n",
       "    </tr>\n",
       "    <tr>\n",
       "      <th>94</th>\n",
       "      <td>95</td>\n",
       "      <td>STACK-1</td>\n",
       "      <td>stack</td>\n",
       "      <td>STRAND1</td>\n",
       "      <td>1</td>\n",
       "      <td>C8</td>\n",
       "      <td>7</td>\n",
       "      <td>STRAND1</td>\n",
       "      <td>2</td>\n",
       "      <td>C8</td>\n",
       "      <td>28</td>\n",
       "      <td>0.0916</td>\n",
       "      <td>3.9429</td>\n",
       "    </tr>\n",
       "    <tr>\n",
       "      <th>95</th>\n",
       "      <td>96</td>\n",
       "      <td>STACK-1</td>\n",
       "      <td>stack</td>\n",
       "      <td>STRAND1</td>\n",
       "      <td>1</td>\n",
       "      <td>C8</td>\n",
       "      <td>7</td>\n",
       "      <td>STRAND1</td>\n",
       "      <td>2</td>\n",
       "      <td>N7</td>\n",
       "      <td>29</td>\n",
       "      <td>0.1937</td>\n",
       "      <td>3.5251</td>\n",
       "    </tr>\n",
       "  </tbody>\n",
       "</table>\n",
       "</div>"
      ],
      "text/plain": [
       "    PairID PairType Big_Category Strand_i  Resid_i Atomname_i  Atomid_i  \\\n",
       "78      79  STACK-1        stack  STRAND1        1         N9         6   \n",
       "79      80  STACK-1        stack  STRAND1        1         N9         6   \n",
       "80      81  STACK-1        stack  STRAND1        1         N9         6   \n",
       "94      95  STACK-1        stack  STRAND1        1         C8         7   \n",
       "95      96  STACK-1        stack  STRAND1        1         C8         7   \n",
       "\n",
       "   Strand_j  Resid_j Atomname_j  Atomid_j       k      b0  \n",
       "78  STRAND1        2         C8        28  0.2395  3.6840  \n",
       "79  STRAND1        2         N7        29  0.3350  3.5543  \n",
       "80  STRAND1        2         C5        30  0.2749  3.9279  \n",
       "94  STRAND1        2         C8        28  0.0916  3.9429  \n",
       "95  STRAND1        2         N7        29  0.1937  3.5251  "
      ]
     },
     "execution_count": 3,
     "metadata": {},
     "output_type": "execute_result"
    }
   ],
   "source": [
    "g_agent.df_st.head()"
   ]
  },
  {
   "cell_type": "markdown",
   "metadata": {},
   "source": [
    "### Part 2: Eigen-Decomposition"
   ]
  },
  {
   "cell_type": "code",
   "execution_count": 3,
   "metadata": {},
   "outputs": [
    {
     "name": "stdout",
     "output_type": "stream",
     "text": [
      "Finish the setup for Laplaican matrix.\n"
     ]
    }
   ],
   "source": [
    "g_agent.build_adjacency_from_df_st()\n",
    "g_agent.build_degree_from_adjacency()\n",
    "g_agent.build_laplacian_by_adjacency_degree()\n",
    "g_agent.eigen_decompose()"
   ]
  },
  {
   "cell_type": "markdown",
   "metadata": {},
   "source": [
    "### Part 3: Select Eigenvector"
   ]
  },
  {
   "cell_type": "code",
   "execution_count": 128,
   "metadata": {},
   "outputs": [
    {
     "name": "stdout",
     "output_type": "stream",
     "text": [
      "|Min|: 0.0000\n",
      "|Max|: 0.4375\n"
     ]
    }
   ],
   "source": [
    "sele_id = 1\n",
    "scale_factor = 1\n",
    "eigv = g_agent.get_eigenvector_by_id(sele_id)\n",
    "eigv_scale = np.abs(scale_factor * eigv)\n",
    "\n",
    "norm = matplotlib.colors.Normalize(vmin=eigv_scale.min(), vmax=eigv_scale.max())\n",
    "color_list = [norm(eigvec) for eigvec in eigv_scale]\n",
    "\n",
    "print(f\"|Min|: {eigv_scale.min():.4f}\")\n",
    "print(f\"|Max|: {eigv_scale.max():.4f}\")"
   ]
  },
  {
   "cell_type": "markdown",
   "metadata": {},
   "source": [
    "### Part 4: Build A Graph Layout"
   ]
  },
  {
   "cell_type": "code",
   "execution_count": 119,
   "metadata": {},
   "outputs": [
    {
     "data": {
      "text/plain": [
       "<Figure size 1152x5760 with 0 Axes>"
      ]
     },
     "metadata": {},
     "output_type": "display_data"
    }
   ],
   "source": [
    "radius = 2\n",
    "dist_bw_base = 10\n",
    "dist_bw_strand = 10\n",
    "d_pos = g_agent.get_networkx_d_pos(radius, dist_bw_base, dist_bw_strand)\n",
    "G = g_agent.get_networkx_graph(g_agent.df_st, key='k')\n",
    "\n",
    "fig, ax = plt.subplots(figsize=(16,80))\n",
    "draw_networkx(G, pos=d_pos, labels=mapping, cmap='Reds', node_color=color_list)\n",
    "ax.set_ylim(-205, 5)\n",
    "\n",
    "plt.savefig('Test.svg')\n",
    "plt.clf()\n",
    "#plt.show()"
   ]
  },
  {
   "cell_type": "markdown",
   "metadata": {},
   "source": [
    "### Part 5: Make filter"
   ]
  },
  {
   "cell_type": "code",
   "execution_count": 4,
   "metadata": {},
   "outputs": [],
   "source": [
    "sele_name = 'C6'\n",
    "sele_strandid = 'STRAND1'\n",
    "filter_given = g_agent.get_filter_by_atomname_strandid(sele_name, sele_strandid)"
   ]
  },
  {
   "cell_type": "code",
   "execution_count": 37,
   "metadata": {},
   "outputs": [
    {
     "data": {
      "image/png": "[encoded data removed]",
      "text/plain": [
       "<Figure size 576x288 with 1 Axes>"
      ]
     },
     "metadata": {
      "needs_background": "light"
     },
     "output_type": "display_data"
    }
   ],
   "source": [
    "lw = 2\n",
    "x = range(1, g_agent.n_node+1)\n",
    "lbfz = 16\n",
    "tkfz = 12\n",
    "\n",
    "fig, ax = plt.subplots(figsize=(8,4))\n",
    "ax.vlines(x, 0, filter_given, colors='cyan', lw=lw)\n",
    "ax.set_ylim(0,1)\n",
    "ax.set_xticks(x[::50])\n",
    "ax.set_xlabel(\"Atom Index\", fontsize=lbfz)\n",
    "ax.set_ylabel(r\"$\\vec{v}_{\\mathrm{filter}}$\", fontsize=lbfz)\n",
    "title = r'$|\\vec{v}_{\\mathrm{filter}}|=1$'\n",
    "ax.set_title(title, fontsize=lbfz)\n",
    "ax.tick_params(axis='both', labelsize=tkfz)\n",
    "plt.tight_layout()\n",
    "#plt.savefig('filter_example.svg')\n",
    "plt.show()"
   ]
  },
  {
   "cell_type": "code",
   "execution_count": 159,
   "metadata": {},
   "outputs": [
    {
     "data": {
      "text/plain": [
       "[34, 44, 54, 64, 74, 84, 94, 104, 114, 124, 134, 144, 154, 164, 174]"
      ]
     },
     "execution_count": 159,
     "metadata": {},
     "output_type": "execute_result"
    }
   ],
   "source": [
    "sele_idx_list"
   ]
  },
  {
   "cell_type": "code",
   "execution_count": 27,
   "metadata": {},
   "outputs": [
    {
     "name": "stdout",
     "output_type": "stream",
     "text": [
      "1.0\n",
      "0.8563488385776752\n"
     ]
    }
   ],
   "source": [
    "idx_list_1 = [54, 64, 74, 84, 94, 104, 114, 124, 134, 144, 154]\n",
    "example_1 = np.zeros(g_agent.n_node)\n",
    "example_1[idx_list_1] = 1\n",
    "example_1 = example_1 / np.linalg.norm(example_1)\n",
    "print(np.linalg.norm(example_1))\n",
    "print(np.dot(example_1, filter_given))"
   ]
  },
  {
   "cell_type": "code",
   "execution_count": 38,
   "metadata": {},
   "outputs": [
    {
     "data": {
      "image/png": "[encoded data removed]",
      "text/plain": [
       "<Figure size 576x288 with 1 Axes>"
      ]
     },
     "metadata": {
      "needs_background": "light"
     },
     "output_type": "display_data"
    }
   ],
   "source": [
    "lw = 2\n",
    "x = range(1, g_agent.n_node+1)\n",
    "lbfz = 16\n",
    "tkfz = 12\n",
    "\n",
    "fig, ax = plt.subplots(figsize=(8,4))\n",
    "ax.vlines(x, 0, example_1, colors='magenta', lw=lw)\n",
    "ax.set_ylim(0,1)\n",
    "ax.set_xticks(x[::50])\n",
    "ax.set_xlabel(\"Atom Index\", fontsize=lbfz)\n",
    "ax.set_ylabel(r\"$\\vec{v}_1$\", fontsize=lbfz)\n",
    "title = r'$|\\vec{v}_1|=1$     $\\vec{v}_{\\mathrm{filter}} \\cdot \\vec{v}_1 = 0.856$'\n",
    "ax.set_title(title, fontsize=lbfz)\n",
    "ax.tick_params(axis='both', labelsize=tkfz)\n",
    "plt.tight_layout()\n",
    "#plt.savefig('example1.svg')\n",
    "plt.show()"
   ]
  },
  {
   "cell_type": "code",
   "execution_count": 39,
   "metadata": {},
   "outputs": [
    {
     "name": "stdout",
     "output_type": "stream",
     "text": [
      "0.9999999999999999\n",
      "0.36514837167011066\n"
     ]
    }
   ],
   "source": [
    "idx_list_1 = [114, 124]\n",
    "example_1 = np.zeros(g_agent.n_node)\n",
    "example_1[idx_list_1] = 1\n",
    "example_1 = example_1 / np.linalg.norm(example_1)\n",
    "print(np.linalg.norm(example_1))\n",
    "print(np.dot(example_1, filter_given))"
   ]
  },
  {
   "cell_type": "code",
   "execution_count": 42,
   "metadata": {},
   "outputs": [
    {
     "data": {
      "image/png": "[encoded data removed]",
      "text/plain": [
       "<Figure size 576x288 with 1 Axes>"
      ]
     },
     "metadata": {
      "needs_background": "light"
     },
     "output_type": "display_data"
    }
   ],
   "source": [
    "lw = 2\n",
    "x = range(1, g_agent.n_node+1)\n",
    "lbfz = 16\n",
    "tkfz = 12\n",
    "\n",
    "fig, ax = plt.subplots(figsize=(8,4))\n",
    "ax.vlines(x, 0, example_1, colors='chartreuse', lw=lw)\n",
    "ax.set_ylim(0,1)\n",
    "ax.set_xticks(x[::50])\n",
    "ax.set_xlabel(\"Atom Index\", fontsize=lbfz)\n",
    "ax.set_ylabel(r\"$\\vec{v}_2$\", fontsize=lbfz)\n",
    "title = r'$|\\vec{v}_2|=1$     $\\vec{v}_{\\mathrm{filter}} \\cdot \\vec{v}_2 = 0.365$'\n",
    "ax.set_title(title, fontsize=lbfz)\n",
    "ax.tick_params(axis='both', labelsize=tkfz)\n",
    "plt.tight_layout()\n",
    "#plt.savefig('example2.svg')\n",
    "plt.show()"
   ]
  }
 ],
 "metadata": {
  "kernelspec": {
   "display_name": "Python 3",
   "language": "python",
   "name": "python3"
  },
  "language_info": {
   "codemirror_mode": {
    "name": "ipython",
    "version": 3
   },
   "file_extension": ".py",
   "mimetype": "text/x-python",
   "name": "python",
   "nbconvert_exporter": "python",
   "pygments_lexer": "ipython3",
   "version": "3.8.5"
  }
 },
 "nbformat": 4,
 "nbformat_minor": 4
}
