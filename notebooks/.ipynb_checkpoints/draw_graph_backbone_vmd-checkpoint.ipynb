{
 "cells": [
  {
   "cell_type": "code",
   "execution_count": 1,
   "metadata": {},
   "outputs": [],
   "source": [
    "from os import path\n",
    "from enmspring.graphs import hosts\n",
    "from enmspring.graphs import BackboneRibose\n",
    "rootfolder = '/home/yizaochen/codes/dna_rna/fluctmatch_sequence'\n",
    "enmroot = '/home/yizaochen/codes/dna_rna/enmspring'"
   ]
  },
  {
   "cell_type": "markdown",
   "metadata": {},
   "source": [
    "### Part 1: Initialize"
   ]
  },
  {
   "cell_type": "code",
   "execution_count": 2,
   "metadata": {},
   "outputs": [
    {
     "name": "stdout",
     "output_type": "stream",
     "text": [
      "/home/yizaochen/codes/dna_rna/fluctmatch_sequence/a_tract_21mer/bdna+bdna/pd_dfs exists\n",
      "Thare are 456 nodes.\n",
      "Initialize adjacency, degree and Laplacian matrices... Done.\n"
     ]
    }
   ],
   "source": [
    "host = 'a_tract_21mer'\n",
    "g_agent = BackboneRibose(host, rootfolder)\n",
    "g_agent.build_node_list()\n",
    "g_agent.initialize_three_mat()"
   ]
  },
  {
   "cell_type": "markdown",
   "metadata": {},
   "source": [
    "### Part 2: Show crd in VMD"
   ]
  },
  {
   "cell_type": "code",
   "execution_count": 3,
   "metadata": {},
   "outputs": [
    {
     "name": "stdout",
     "output_type": "stream",
     "text": [
      "vmd -cor /home/yizaochen/codes/dna_rna/fluctmatch_sequence/a_tract_21mer/bdna+bdna/input/bdna+bdna.nohydrogen.crd\n"
     ]
    }
   ],
   "source": [
    "g_agent.vmd_show_crd()"
   ]
  },
  {
   "cell_type": "markdown",
   "metadata": {},
   "source": [
    "### Part 3: Show nodes in the graph"
   ]
  },
  {
   "cell_type": "code",
   "execution_count": 4,
   "metadata": {},
   "outputs": [
    {
     "name": "stdout",
     "output_type": "stream",
     "text": [
      "Write tcl to /home/yizaochen/codes/dna_rna/enmspring/tclscripts/a_tract_21mer_base_nodes.tcl\n",
      "source /home/yizaochen/codes/dna_rna/enmspring/tclscripts/a_tract_21mer_base_nodes.tcl\n"
     ]
    }
   ],
   "source": [
    "tcl_out = path.join(enmroot, 'tclscripts', f'{host}_base_nodes.tcl')\n",
    "colorid = 0\n",
    "vdw_radius = 0.2\n",
    "g_agent.write_show_nodes_tcl(tcl_out, colorid=colorid, vdw_radius=vdw_radius)"
   ]
  },
  {
   "cell_type": "markdown",
   "metadata": {},
   "source": [
    "### Part 4: Show edges in the graph"
   ]
  },
  {
   "cell_type": "code",
   "execution_count": 9,
   "metadata": {},
   "outputs": [
    {
     "name": "stdout",
     "output_type": "stream",
     "text": [
      "Write tcl to /home/yizaochen/codes/dna_rna/enmspring/tclscripts/a_tract_21mer_backbone_edges.tcl\n",
      "source /home/yizaochen/codes/dna_rna/enmspring/tclscripts/a_tract_21mer_backbone_edges.tcl\n"
     ]
    }
   ],
   "source": [
    "tcl_out = path.join(enmroot, 'tclscripts', f'{host}_backbone_edges.tcl')\n",
    "radius = 0.05\n",
    "g_agent.write_show_backbone_edges_tcl(tcl_out, radius=radius)"
   ]
  },
  {
   "cell_type": "markdown",
   "metadata": {},
   "source": [
    "### Additional Part 1: Copy back"
   ]
  },
  {
   "cell_type": "code",
   "execution_count": 2,
   "metadata": {},
   "outputs": [
    {
     "name": "stdout",
     "output_type": "stream",
     "text": [
      "/home/yizaochen/codes/dna_rna/fluctmatch_sequence/a_tract_21mer/bdna+bdna/pd_dfs exists\n",
      "cp /home/yizaochen/codes/dna_rna/all_systems/a_tract_21mer/bdna+bdna/input/heavyatoms/bdna+bdna.nohydrogen.crd /home/yizaochen/codes/dna_rna/fluctmatch_sequence/a_tract_21mer/bdna+bdna/input/bdna+bdna.nohydrogen.crd\n",
      "/home/yizaochen/codes/dna_rna/fluctmatch_sequence/gcgc_21mer/bdna+bdna/pd_dfs exists\n",
      "cp /home/yizaochen/codes/dna_rna/all_systems/gcgc_21mer/bdna+bdna/input/heavyatoms/bdna+bdna.nohydrogen.crd /home/yizaochen/codes/dna_rna/fluctmatch_sequence/gcgc_21mer/bdna+bdna/input/bdna+bdna.nohydrogen.crd\n",
      "/home/yizaochen/codes/dna_rna/fluctmatch_sequence/tgtg_21mer/bdna+bdna/pd_dfs exists\n",
      "cp /home/yizaochen/codes/dna_rna/all_systems/tgtg_21mer/bdna+bdna/input/heavyatoms/bdna+bdna.nohydrogen.crd /home/yizaochen/codes/dna_rna/fluctmatch_sequence/tgtg_21mer/bdna+bdna/input/bdna+bdna.nohydrogen.crd\n",
      "/home/yizaochen/codes/dna_rna/fluctmatch_sequence/atat_21mer/bdna+bdna/pd_dfs exists\n",
      "cp /home/yizaochen/codes/dna_rna/all_systems/atat_21mer/bdna+bdna/input/heavyatoms/bdna+bdna.nohydrogen.crd /home/yizaochen/codes/dna_rna/fluctmatch_sequence/atat_21mer/bdna+bdna/input/bdna+bdna.nohydrogen.crd\n",
      "/home/yizaochen/codes/dna_rna/fluctmatch_sequence/ctct_21mer/bdna+bdna/pd_dfs exists\n",
      "cp /home/yizaochen/codes/dna_rna/all_systems/ctct_21mer/bdna+bdna/input/heavyatoms/bdna+bdna.nohydrogen.crd /home/yizaochen/codes/dna_rna/fluctmatch_sequence/ctct_21mer/bdna+bdna/input/bdna+bdna.nohydrogen.crd\n",
      "/home/yizaochen/codes/dna_rna/fluctmatch_sequence/g_tract_21mer/bdna+bdna/pd_dfs exists\n",
      "cp /home/yizaochen/codes/dna_rna/all_systems/g_tract_21mer/bdna+bdna/input/heavyatoms/bdna+bdna.nohydrogen.crd /home/yizaochen/codes/dna_rna/fluctmatch_sequence/g_tract_21mer/bdna+bdna/input/bdna+bdna.nohydrogen.crd\n"
     ]
    }
   ],
   "source": [
    "for host in hosts:\n",
    "    g_agent = GraphAgent(host, rootfolder)\n",
    "    g_agent.copy_nohydrogen_crd()"
   ]
  },
  {
   "cell_type": "markdown",
   "metadata": {},
   "source": [
    "### Additional Part 2: Find 5' of Guide"
   ]
  },
  {
   "cell_type": "code",
   "execution_count": 7,
   "metadata": {},
   "outputs": [
    {
     "name": "stdout",
     "output_type": "stream",
     "text": [
      "serial 6 7 8 9\n"
     ]
    }
   ],
   "source": [
    "print('serial 6 7 8 9')"
   ]
  },
  {
   "cell_type": "code",
   "execution_count": null,
   "metadata": {},
   "outputs": [],
   "source": []
  }
 ],
 "metadata": {
  "kernelspec": {
   "display_name": "Python 3",
   "language": "python",
   "name": "python3"
  },
  "language_info": {
   "codemirror_mode": {
    "name": "ipython",
    "version": 3
   },
   "file_extension": ".py",
   "mimetype": "text/x-python",
   "name": "python",
   "nbconvert_exporter": "python",
   "pygments_lexer": "ipython3",
   "version": "3.8.5"
  }
 },
 "nbformat": 4,
 "nbformat_minor": 4
}
