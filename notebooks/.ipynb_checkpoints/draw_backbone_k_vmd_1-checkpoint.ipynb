{
 "cells": [
  {
   "cell_type": "code",
   "execution_count": 1,
   "metadata": {},
   "outputs": [],
   "source": [
    "from enmspring.vmddraw_backbone import TriBaseStepsBackboneVMD\n",
    "all_folder = '/home/yizaochen/codes/dna_rna/all_systems'\n",
    "drawzone_folder = '/home/yizaochen/Desktop/drawzone_temp'\n",
    "tcl_folder = '/home/yizaochen/Desktop/drawzone_temp/tcl_folder'\n",
    "radius = 0.05\n",
    "colorname = 'orange'"
   ]
  },
  {
   "cell_type": "markdown",
   "metadata": {},
   "source": [
    "### Part 1: Initialize"
   ]
  },
  {
   "cell_type": "code",
   "execution_count": 2,
   "metadata": {},
   "outputs": [],
   "source": [
    "host = 'a_tract_21mer'\n",
    "resid_i = 10 # a_tract, g_tract -> 10     atat, gcgc -> 11\n",
    "tri_agent = TriBaseStepsBackboneVMD(all_folder, tcl_folder, host, resid_i)"
   ]
  },
  {
   "cell_type": "markdown",
   "metadata": {},
   "source": [
    "### Part 2: Open Tri-basesteps by VMD"
   ]
  },
  {
   "cell_type": "code",
   "execution_count": 3,
   "metadata": {},
   "outputs": [
    {
     "name": "stdout",
     "output_type": "stream",
     "text": [
      "vmd -pdb /home/yizaochen/codes/dna_rna/all_systems/a_tract_21mer/bdna+bdna/animations/tri_bs_resid10.pdb\n",
      "display resize 800 800\n"
     ]
    }
   ],
   "source": [
    "tri_agent.vmd_show()\n",
    "print('display resize 800 800')"
   ]
  },
  {
   "cell_type": "markdown",
   "metadata": {},
   "source": [
    "### Part 3: Highlight Single Nucleotide"
   ]
  },
  {
   "cell_type": "code",
   "execution_count": 9,
   "metadata": {},
   "outputs": [],
   "source": [
    "i_or_j = 'i' # 'i', 'j'"
   ]
  },
  {
   "cell_type": "code",
   "execution_count": 10,
   "metadata": {},
   "outputs": [
    {
     "name": "stdout",
     "output_type": "stream",
     "text": [
      "source /home/yizaochen/Desktop/drawzone_temp/tcl_folder/highlight_single_nucleotide_i.tcl\n"
     ]
    }
   ],
   "source": [
    "tri_agent.highlight_single_nucleotdie(i_or_j) # 'i', 'j'"
   ]
  },
  {
   "cell_type": "markdown",
   "metadata": {},
   "source": [
    "### Part 4: Highlight Springs"
   ]
  },
  {
   "cell_type": "code",
   "execution_count": 11,
   "metadata": {},
   "outputs": [],
   "source": [
    "d_springs = {\n",
    "    'a_tract_21mer': {('i', 'i+1'): [(\"C4'\", \"O5'\"), (\"C4'\", \"O2P\"), (\"C2'\", \"P\"), (\"C3'\", \"O2P\")],\n",
    "                      ('j', 'j'): [(\"C1'\", 'O2')]},\n",
    "    'g_tract_21mer': {('i', 'i'): [(\"C1'\", 'N3')],\n",
    "                      ('j', 'j'): [(\"C1'\", 'O2')]}\n",
    "}"
   ]
  },
  {
   "cell_type": "code",
   "execution_count": 12,
   "metadata": {},
   "outputs": [
    {
     "ename": "KeyError",
     "evalue": "('i', 'i')",
     "output_type": "error",
     "traceback": [
      "\u001b[0;31m---------------------------------------------------------------------------\u001b[0m",
      "\u001b[0;31mKeyError\u001b[0m                                  Traceback (most recent call last)",
      "\u001b[0;32m<ipython-input-12-586c6df416e8>\u001b[0m in \u001b[0;36m<module>\u001b[0;34m\u001b[0m\n\u001b[0;32m----> 1\u001b[0;31m \u001b[0mtri_agent\u001b[0m\u001b[0;34m.\u001b[0m\u001b[0mhighlight_springs\u001b[0m\u001b[0;34m(\u001b[0m\u001b[0mi_or_j\u001b[0m\u001b[0;34m,\u001b[0m \u001b[0md_springs\u001b[0m\u001b[0;34m,\u001b[0m \u001b[0mradius\u001b[0m\u001b[0;34m,\u001b[0m \u001b[0mcolorname\u001b[0m\u001b[0;34m)\u001b[0m\u001b[0;34m\u001b[0m\u001b[0;34m\u001b[0m\u001b[0m\n\u001b[0m",
      "\u001b[0;32m~/codes/dna_rna/enmspring/enmspring/vmddraw_backbone.py\u001b[0m in \u001b[0;36mhighlight_springs\u001b[0;34m(self, i_or_j, d_springs, radius, colorname)\u001b[0m\n\u001b[1;32m     13\u001b[0m     \u001b[0;32mdef\u001b[0m \u001b[0mhighlight_springs\u001b[0m\u001b[0;34m(\u001b[0m\u001b[0mself\u001b[0m\u001b[0;34m,\u001b[0m \u001b[0mi_or_j\u001b[0m\u001b[0;34m,\u001b[0m \u001b[0md_springs\u001b[0m\u001b[0;34m,\u001b[0m \u001b[0mradius\u001b[0m\u001b[0;34m,\u001b[0m \u001b[0mcolorname\u001b[0m\u001b[0;34m)\u001b[0m\u001b[0;34m:\u001b[0m\u001b[0;34m\u001b[0m\u001b[0;34m\u001b[0m\u001b[0m\n\u001b[1;32m     14\u001b[0m         \u001b[0;31m#i_or_j: 'i', 'j'\u001b[0m\u001b[0;34m\u001b[0m\u001b[0;34m\u001b[0m\u001b[0;34m\u001b[0m\u001b[0m\n\u001b[0;32m---> 15\u001b[0;31m         \u001b[0mtcl_lst\u001b[0m \u001b[0;34m=\u001b[0m \u001b[0mself\u001b[0m\u001b[0;34m.\u001b[0m\u001b[0mtri_agent\u001b[0m\u001b[0;34m.\u001b[0m\u001b[0mget_highlight_springs_tcl_txt_backbone\u001b[0m\u001b[0;34m(\u001b[0m\u001b[0mi_or_j\u001b[0m\u001b[0;34m,\u001b[0m \u001b[0md_springs\u001b[0m\u001b[0;34m,\u001b[0m \u001b[0mradius\u001b[0m\u001b[0;34m,\u001b[0m \u001b[0mcolorname\u001b[0m\u001b[0;34m)\u001b[0m\u001b[0;34m\u001b[0m\u001b[0;34m\u001b[0m\u001b[0m\n\u001b[0m\u001b[1;32m     16\u001b[0m         \u001b[0mf_tcl_out\u001b[0m \u001b[0;34m=\u001b[0m \u001b[0mpath\u001b[0m\u001b[0;34m.\u001b[0m\u001b[0mjoin\u001b[0m\u001b[0;34m(\u001b[0m\u001b[0mself\u001b[0m\u001b[0;34m.\u001b[0m\u001b[0mtcl_folder\u001b[0m\u001b[0;34m,\u001b[0m \u001b[0;34mf'highlight_springs_{i_or_j}.tcl'\u001b[0m\u001b[0;34m)\u001b[0m\u001b[0;34m\u001b[0m\u001b[0;34m\u001b[0m\u001b[0m\n\u001b[1;32m     17\u001b[0m         \u001b[0mself\u001b[0m\u001b[0;34m.\u001b[0m\u001b[0mwrite_tcl_out\u001b[0m\u001b[0;34m(\u001b[0m\u001b[0mf_tcl_out\u001b[0m\u001b[0;34m,\u001b[0m \u001b[0mtcl_lst\u001b[0m\u001b[0;34m)\u001b[0m\u001b[0;34m\u001b[0m\u001b[0;34m\u001b[0m\u001b[0m\n",
      "\u001b[0;32m~/codes/dna_rna/enmspring/enmspring/vmddraw_tribasesteps.py\u001b[0m in \u001b[0;36mget_highlight_springs_tcl_txt_backbone\u001b[0;34m(self, i_or_j, d_springs, radius, colorname)\u001b[0m\n\u001b[1;32m    212\u001b[0m         \u001b[0mtxt_lst\u001b[0m \u001b[0;34m=\u001b[0m \u001b[0;34m[\u001b[0m\u001b[0;34m]\u001b[0m\u001b[0;34m\u001b[0m\u001b[0;34m\u001b[0m\u001b[0m\n\u001b[1;32m    213\u001b[0m         \u001b[0;32mfor\u001b[0m \u001b[0mres_pair\u001b[0m \u001b[0;32min\u001b[0m \u001b[0mres_pair_lst\u001b[0m\u001b[0;34m:\u001b[0m\u001b[0;34m\u001b[0m\u001b[0;34m\u001b[0m\u001b[0m\n\u001b[0;32m--> 214\u001b[0;31m             \u001b[0mtxt_lst\u001b[0m \u001b[0;34m+=\u001b[0m \u001b[0mself\u001b[0m\u001b[0;34m.\u001b[0m\u001b[0mget_highlight_springs_tcl_txt_by_resid_symbols\u001b[0m\u001b[0;34m(\u001b[0m\u001b[0md_springs\u001b[0m\u001b[0;34m,\u001b[0m \u001b[0mres_pair\u001b[0m\u001b[0;34m,\u001b[0m \u001b[0mradius\u001b[0m\u001b[0;34m,\u001b[0m \u001b[0mcolorname\u001b[0m\u001b[0;34m)\u001b[0m\u001b[0;34m\u001b[0m\u001b[0;34m\u001b[0m\u001b[0m\n\u001b[0m\u001b[1;32m    215\u001b[0m         \u001b[0;32mreturn\u001b[0m \u001b[0mtxt_lst\u001b[0m\u001b[0;34m\u001b[0m\u001b[0;34m\u001b[0m\u001b[0m\n\u001b[1;32m    216\u001b[0m \u001b[0;34m\u001b[0m\u001b[0m\n",
      "\u001b[0;32m~/codes/dna_rna/enmspring/enmspring/vmddraw_tribasesteps.py\u001b[0m in \u001b[0;36mget_highlight_springs_tcl_txt_by_resid_symbols\u001b[0;34m(self, d_springs, res_pair, radius, colorname)\u001b[0m\n\u001b[1;32m    217\u001b[0m     \u001b[0;32mdef\u001b[0m \u001b[0mget_highlight_springs_tcl_txt_by_resid_symbols\u001b[0m\u001b[0;34m(\u001b[0m\u001b[0mself\u001b[0m\u001b[0;34m,\u001b[0m \u001b[0md_springs\u001b[0m\u001b[0;34m,\u001b[0m \u001b[0mres_pair\u001b[0m\u001b[0;34m,\u001b[0m \u001b[0mradius\u001b[0m\u001b[0;34m,\u001b[0m \u001b[0mcolorname\u001b[0m\u001b[0;34m)\u001b[0m\u001b[0;34m:\u001b[0m\u001b[0;34m\u001b[0m\u001b[0;34m\u001b[0m\u001b[0m\n\u001b[1;32m    218\u001b[0m         \u001b[0mtxt_lst\u001b[0m \u001b[0;34m=\u001b[0m \u001b[0;34m[\u001b[0m\u001b[0;34m]\u001b[0m\u001b[0;34m\u001b[0m\u001b[0;34m\u001b[0m\u001b[0m\n\u001b[0;32m--> 219\u001b[0;31m         \u001b[0mpair_lst\u001b[0m \u001b[0;34m=\u001b[0m \u001b[0md_springs\u001b[0m\u001b[0;34m[\u001b[0m\u001b[0mself\u001b[0m\u001b[0;34m.\u001b[0m\u001b[0mhost\u001b[0m\u001b[0;34m]\u001b[0m\u001b[0;34m[\u001b[0m\u001b[0mres_pair\u001b[0m\u001b[0;34m]\u001b[0m\u001b[0;34m\u001b[0m\u001b[0;34m\u001b[0m\u001b[0m\n\u001b[0m\u001b[1;32m    220\u001b[0m         \u001b[0mresid1\u001b[0m \u001b[0;34m=\u001b[0m \u001b[0mself\u001b[0m\u001b[0;34m.\u001b[0m\u001b[0md_resid_map\u001b[0m\u001b[0;34m[\u001b[0m\u001b[0mres_pair\u001b[0m\u001b[0;34m[\u001b[0m\u001b[0;36m0\u001b[0m\u001b[0;34m]\u001b[0m\u001b[0;34m]\u001b[0m\u001b[0;34m\u001b[0m\u001b[0;34m\u001b[0m\u001b[0m\n\u001b[1;32m    221\u001b[0m         \u001b[0mresid2\u001b[0m \u001b[0;34m=\u001b[0m \u001b[0mself\u001b[0m\u001b[0;34m.\u001b[0m\u001b[0md_resid_map\u001b[0m\u001b[0;34m[\u001b[0m\u001b[0mres_pair\u001b[0m\u001b[0;34m[\u001b[0m\u001b[0;36m1\u001b[0m\u001b[0;34m]\u001b[0m\u001b[0;34m]\u001b[0m\u001b[0;34m\u001b[0m\u001b[0;34m\u001b[0m\u001b[0m\n",
      "\u001b[0;31mKeyError\u001b[0m: ('i', 'i')"
     ]
    }
   ],
   "source": [
    "tri_agent.highlight_springs_with_next(i_or_j, d_springs, radius, colorname)"
   ]
  },
  {
   "cell_type": "code",
   "execution_count": 13,
   "metadata": {},
   "outputs": [
    {
     "name": "stdout",
     "output_type": "stream",
     "text": [
      "render Tachyon /home/yizaochen/Desktop/drawzone_temp/a_tract_21mer_i_outline \"/usr/local/lib/vmd/tachyon_LINUXAMD64\" -aasamples 12 %s -format TARGA -o %s.tga\n"
     ]
    }
   ],
   "source": [
    "tga_name = f'{host}_{i_or_j}_outline'\n",
    "tri_agent.tachyon_take_photo_cmd(drawzone_folder, tga_name)"
   ]
  },
  {
   "cell_type": "code",
   "execution_count": null,
   "metadata": {},
   "outputs": [],
   "source": []
  }
 ],
 "metadata": {
  "kernelspec": {
   "display_name": "Python 3",
   "language": "python",
   "name": "python3"
  },
  "language_info": {
   "codemirror_mode": {
    "name": "ipython",
    "version": 3
   },
   "file_extension": ".py",
   "mimetype": "text/x-python",
   "name": "python",
   "nbconvert_exporter": "python",
   "pygments_lexer": "ipython3",
   "version": "3.8.5"
  }
 },
 "nbformat": 4,
 "nbformat_minor": 4
}
