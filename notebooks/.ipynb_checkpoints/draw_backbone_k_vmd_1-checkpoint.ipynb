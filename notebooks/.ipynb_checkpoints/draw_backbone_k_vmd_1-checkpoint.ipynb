{
 "cells": [
  {
   "cell_type": "code",
   "execution_count": 26,
   "metadata": {},
   "outputs": [],
   "source": [
    "from enmspring.vmddraw_backbone import TriBaseStepsBackboneVMD\n",
    "all_folder = '/home/yizaochen/codes/dna_rna/all_systems'\n",
    "drawzone_folder = '/home/yizaochen/Desktop/drawzone_temp'\n",
    "tcl_folder = '/home/yizaochen/Desktop/drawzone_temp/tcl_folder'\n",
    "radius = 0.05\n",
    "colorname = 'orange'"
   ]
  },
  {
   "cell_type": "markdown",
   "metadata": {},
   "source": [
    "### Part 1: Initialize"
   ]
  },
  {
   "cell_type": "code",
   "execution_count": 34,
   "metadata": {},
   "outputs": [],
   "source": [
    "host = 'gcgc_21mer'\n",
    "resid_i = 11 # a_tract, g_tract -> 10     atat, gcgc -> 11\n",
    "tri_agent = TriBaseStepsBackboneVMD(all_folder, tcl_folder, host, resid_i)"
   ]
  },
  {
   "cell_type": "markdown",
   "metadata": {},
   "source": [
    "### Part 2: Open Tri-basesteps by VMD"
   ]
  },
  {
   "cell_type": "code",
   "execution_count": 35,
   "metadata": {},
   "outputs": [
    {
     "name": "stdout",
     "output_type": "stream",
     "text": [
      "vmd -pdb /home/yizaochen/codes/dna_rna/all_systems/gcgc_21mer/bdna+bdna/animations/tri_bs_resid11.pdb\n",
      "display resize 660 800\n"
     ]
    }
   ],
   "source": [
    "tri_agent.vmd_show()\n",
    "print('display resize 660 800')"
   ]
  },
  {
   "cell_type": "markdown",
   "metadata": {},
   "source": [
    "### Part 3: Highlight Single Nucleotide"
   ]
  },
  {
   "cell_type": "code",
   "execution_count": 36,
   "metadata": {},
   "outputs": [],
   "source": [
    "i_or_j = 'i' # 'i', 'j'"
   ]
  },
  {
   "cell_type": "code",
   "execution_count": 37,
   "metadata": {},
   "outputs": [
    {
     "name": "stdout",
     "output_type": "stream",
     "text": [
      "source /home/yizaochen/Desktop/drawzone_temp/tcl_folder/highlight_single_nucleotide_i.tcl\n"
     ]
    }
   ],
   "source": [
    "tri_agent.highlight_single_nucleotdie(i_or_j) # 'i', 'j'"
   ]
  },
  {
   "cell_type": "markdown",
   "metadata": {},
   "source": [
    "### Part 4: Highlight Springs"
   ]
  },
  {
   "cell_type": "code",
   "execution_count": 22,
   "metadata": {},
   "outputs": [],
   "source": [
    "d_springs = {\n",
    "    'a_tract_21mer': {('i', 'i+1'): [(\"C4'\", \"O5'\"), (\"C4'\", \"O2P\"), (\"C2'\", \"P\"), (\"C3'\", \"O2P\")],\n",
    "                      ('j', 'j+1'): [(\"C2'\", \"P\"), (\"C3'\", \"O2P\"), (\"C4'\", \"O5'\"), (\"O3'\", \"C5'\")]},\n",
    "    'g_tract_21mer': {('i', 'i+1'): [(\"C4'\", \"O5'\")],\n",
    "                      ('j', 'j+1'): [(\"C4'\", \"O5'\"), (\"C2'\", \"P\"), (\"C3'\", \"O2P\")]},\n",
    "    'atat_21mer': {('i', 'i+1'): [(\"C2'\", \"P\"), (\"C3'\", \"O2P\"), (\"C4'\", \"O5'\"), (\"O3'\", \"C5'\")],\n",
    "                   ('j', 'j+1'): [(\"C2'\", \"O1P\"), (\"C4'\", \"O5'\")]},\n",
    "    'gcgc_21mer': {('i', 'i+1'): [(\"C2'\", \"O1P\"), (\"C4'\", \"O2P\"), (\"C4'\", \"O5'\"), (\"C3'\", \"C5'\")],\n",
    "                   ('j', 'j+1'): [(\"C4'\", \"O5'\")]}\n",
    "}"
   ]
  },
  {
   "cell_type": "code",
   "execution_count": 38,
   "metadata": {},
   "outputs": [],
   "source": [
    "d_springs = {\n",
    "    'a_tract_21mer': {('i', 'i+1'): [(\"C3'\", \"O2P\"), (\"C2'\", \"P\"), (\"C2'\", \"O1P\")],\n",
    "                      ('j', 'j+1'): [(\"C3'\", \"O2P\"), (\"C2'\", \"P\"), (\"C2'\", \"O1P\")]},\n",
    "    'atat_21mer': {('i', 'i+1'): [(\"C3'\", \"O2P\"), (\"C2'\", \"P\"), (\"C2'\", \"O1P\")],\n",
    "                   ('j', 'j+1'): [(\"C4'\", \"O5'\"), (\"C2'\", \"P\"), (\"C2'\", \"O1P\")]},\n",
    "    'gcgc_21mer': {('i', 'i+1'): [(\"C3'\", \"O2P\"), (\"C2'\", \"P\"), (\"C2'\", \"O1P\")],\n",
    "                      ('j', 'j+1'): [(\"C3'\", \"O2P\"), (\"C2'\", \"P\"), (\"C2'\", \"O1P\")]},\n",
    "}"
   ]
  },
  {
   "cell_type": "code",
   "execution_count": 39,
   "metadata": {},
   "outputs": [
    {
     "name": "stdout",
     "output_type": "stream",
     "text": [
      "source /home/yizaochen/Desktop/drawzone_temp/tcl_folder/highlight_springs_i.tcl\n"
     ]
    }
   ],
   "source": [
    "tri_agent.highlight_springs_with_next(i_or_j, d_springs, radius, colorname)"
   ]
  },
  {
   "cell_type": "code",
   "execution_count": 40,
   "metadata": {},
   "outputs": [
    {
     "name": "stdout",
     "output_type": "stream",
     "text": [
      "render Tachyon /home/yizaochen/Desktop/drawzone_temp/gcgc_21mer_i_outline \"/usr/local/lib/vmd/tachyon_LINUXAMD64\" -aasamples 12 %s -format TARGA -o %s.tga\n"
     ]
    }
   ],
   "source": [
    "tga_name = f'{host}_{i_or_j}_outline'\n",
    "tri_agent.tachyon_take_photo_cmd(drawzone_folder, tga_name)"
   ]
  },
  {
   "cell_type": "code",
   "execution_count": null,
   "metadata": {},
   "outputs": [],
   "source": []
  }
 ],
 "metadata": {
  "kernelspec": {
   "display_name": "Python 3",
   "language": "python",
   "name": "python3"
  },
  "language_info": {
   "codemirror_mode": {
    "name": "ipython",
    "version": 3
   },
   "file_extension": ".py",
   "mimetype": "text/x-python",
   "name": "python",
   "nbconvert_exporter": "python",
   "pygments_lexer": "ipython3",
   "version": "3.8.5"
  }
 },
 "nbformat": 4,
 "nbformat_minor": 4
}
