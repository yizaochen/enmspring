{
 "cells": [
  {
   "cell_type": "code",
   "execution_count": 1,
   "metadata": {},
   "outputs": [],
   "source": [
    "import matplotlib.pyplot as plt\n",
    "import numpy as np\n",
    "from enmspring.eigenvector_plot import AtomSeparatePlot, BaseTypeEigenvector\n",
    "from enmspring.graphs_bigtraj import StackMeanModeAgent\n",
    "from enmspring.abbr import Abbreviation\n",
    "\n",
    "rootfolder = '/home/ytcdata/bigtraj_fluctmatch/500ns'"
   ]
  },
  {
   "cell_type": "markdown",
   "metadata": {},
   "source": [
    "### Part 1: Prepare s-agent"
   ]
  },
  {
   "cell_type": "code",
   "execution_count": 2,
   "metadata": {},
   "outputs": [
    {
     "name": "stdout",
     "output_type": "stream",
     "text": [
      "/home/ytcdata/bigtraj_fluctmatch/500ns/a_tract_21mer/mean_mode_npy exists\n",
      "/home/ytcdata/bigtraj_fluctmatch/500ns/a_tract_21mer/bdna+bdna/0_500/pd_dfs exists\n",
      "Read Dataframe of stacking: df_st\n",
      "/home/ytcdata/bigtraj_fluctmatch/500ns/a_tract_21mer/bdna+bdna/250_750/pd_dfs exists\n",
      "Read Dataframe of stacking: df_st\n",
      "/home/ytcdata/bigtraj_fluctmatch/500ns/a_tract_21mer/bdna+bdna/500_1000/pd_dfs exists\n",
      "Read Dataframe of stacking: df_st\n",
      "/home/ytcdata/bigtraj_fluctmatch/500ns/a_tract_21mer/bdna+bdna/750_1250/pd_dfs exists\n",
      "Read Dataframe of stacking: df_st\n",
      "/home/ytcdata/bigtraj_fluctmatch/500ns/a_tract_21mer/bdna+bdna/1000_1500/pd_dfs exists\n",
      "Read Dataframe of stacking: df_st\n",
      "/home/ytcdata/bigtraj_fluctmatch/500ns/a_tract_21mer/bdna+bdna/1250_1750/pd_dfs exists\n",
      "Read Dataframe of stacking: df_st\n",
      "/home/ytcdata/bigtraj_fluctmatch/500ns/a_tract_21mer/bdna+bdna/1500_2000/pd_dfs exists\n",
      "Read Dataframe of stacking: df_st\n",
      "/home/ytcdata/bigtraj_fluctmatch/500ns/a_tract_21mer/bdna+bdna/1750_2250/pd_dfs exists\n",
      "Read Dataframe of stacking: df_st\n",
      "/home/ytcdata/bigtraj_fluctmatch/500ns/a_tract_21mer/bdna+bdna/2000_2500/pd_dfs exists\n",
      "Read Dataframe of stacking: df_st\n",
      "/home/ytcdata/bigtraj_fluctmatch/500ns/a_tract_21mer/bdna+bdna/2250_2750/pd_dfs exists\n",
      "Read Dataframe of stacking: df_st\n",
      "/home/ytcdata/bigtraj_fluctmatch/500ns/a_tract_21mer/bdna+bdna/2500_3000/pd_dfs exists\n",
      "Read Dataframe of stacking: df_st\n",
      "/home/ytcdata/bigtraj_fluctmatch/500ns/a_tract_21mer/bdna+bdna/2750_3250/pd_dfs exists\n",
      "Read Dataframe of stacking: df_st\n",
      "/home/ytcdata/bigtraj_fluctmatch/500ns/a_tract_21mer/bdna+bdna/3000_3500/pd_dfs exists\n",
      "Read Dataframe of stacking: df_st\n",
      "/home/ytcdata/bigtraj_fluctmatch/500ns/a_tract_21mer/bdna+bdna/3250_3750/pd_dfs exists\n",
      "Read Dataframe of stacking: df_st\n",
      "/home/ytcdata/bigtraj_fluctmatch/500ns/a_tract_21mer/bdna+bdna/3500_4000/pd_dfs exists\n",
      "Read Dataframe of stacking: df_st\n",
      "/home/ytcdata/bigtraj_fluctmatch/500ns/a_tract_21mer/bdna+bdna/3750_4250/pd_dfs exists\n",
      "Read Dataframe of stacking: df_st\n",
      "/home/ytcdata/bigtraj_fluctmatch/500ns/a_tract_21mer/bdna+bdna/4000_4500/pd_dfs exists\n",
      "Read Dataframe of stacking: df_st\n",
      "/home/ytcdata/bigtraj_fluctmatch/500ns/a_tract_21mer/bdna+bdna/4250_4750/pd_dfs exists\n",
      "Read Dataframe of stacking: df_st\n",
      "/home/ytcdata/bigtraj_fluctmatch/500ns/a_tract_21mer/bdna+bdna/4500_5000/pd_dfs exists\n",
      "Read Dataframe of stacking: df_st\n"
     ]
    }
   ],
   "source": [
    "host = 'a_tract_21mer'\n",
    "interval_time = 500\n",
    "s_agent = StackMeanModeAgent(host, rootfolder, interval_time)"
   ]
  },
  {
   "cell_type": "code",
   "execution_count": 3,
   "metadata": {},
   "outputs": [
    {
     "name": "stdout",
     "output_type": "stream",
     "text": [
      "Load laplacian_mat from /home/ytcdata/bigtraj_fluctmatch/500ns/a_tract_21mer/mean_mode_npy/laplacian.npy\n",
      "Thare are 399 nodes.\n",
      "Total number of nodes: 399\n",
      "There are 210 eigenvectors belonging to STRAND1.\n",
      "There are 189 eigenvectors belonging to STRAND2.\n",
      "Sum of two strands: 399\n"
     ]
    }
   ],
   "source": [
    "s_agent.load_mean_mode_laplacian_from_npy()\n",
    "s_agent.eigen_decompose()\n",
    "s_agent.initialize_nodes_information()\n",
    "s_agent.split_node_list_into_two_strand()\n",
    "s_agent.set_benchmark_array()\n",
    "s_agent.set_strand_array()"
   ]
  },
  {
   "cell_type": "markdown",
   "metadata": {},
   "source": [
    "### Part 2: Prepare b-agent"
   ]
  },
  {
   "cell_type": "code",
   "execution_count": 17,
   "metadata": {},
   "outputs": [],
   "source": [
    "base_type = 'A' # 'A', 'T', 'C', 'G'\n",
    "strand_id = 'STRAND1' # 'STRAND1', 'STRAND2'\n",
    "b_agent = BaseTypeEigenvector(host, base_type, strand_id, s_agent)"
   ]
  },
  {
   "cell_type": "code",
   "execution_count": 18,
   "metadata": {},
   "outputs": [],
   "source": [
    "#b_agent.get_d_idx()"
   ]
  },
  {
   "cell_type": "markdown",
   "metadata": {},
   "source": [
    "### Part 3: Assign the index of eigenvector"
   ]
  },
  {
   "cell_type": "code",
   "execution_count": 19,
   "metadata": {},
   "outputs": [
    {
     "name": "stdout",
     "output_type": "stream",
     "text": [
      "STRAND-ID is consistent.\n"
     ]
    }
   ],
   "source": [
    "eigv_id = 1\n",
    "\n",
    "strand_id_by_eigv_id = s_agent.decide_eigenvector_strand_by_strand_array(eigv_id)\n",
    "if strand_id_by_eigv_id != strand_id:\n",
    "    print('STRAND-ID is not consistent!!!!!')\n",
    "else:\n",
    "    print('STRAND-ID is consistent.')"
   ]
  },
  {
   "cell_type": "markdown",
   "metadata": {},
   "source": [
    "### Part 4: Plot"
   ]
  },
  {
   "cell_type": "code",
   "execution_count": 20,
   "metadata": {},
   "outputs": [],
   "source": [
    "figsize = (24, 6)\n",
    "a_agent = AtomSeparatePlot(host, base_type, figsize)"
   ]
  },
  {
   "cell_type": "code",
   "execution_count": 28,
   "metadata": {},
   "outputs": [
    {
     "data": {
      "image/png": "[encoded data removed]",
      "text/plain": [
       "<Figure size 1728x432 with 10 Axes>"
      ]
     },
     "metadata": {},
     "output_type": "display_data"
    }
   ],
   "source": [
    "ylims = (-0.45,0.05) # None or (ymin, ymax)\n",
    "#ylims = None\n",
    "fig, axes = a_agent.plot_eigenvector_by_eigv_id(eigv_id, s_agent, b_agent, ylims)\n",
    "plt.tight_layout()\n",
    "#plt.savefig(f'/home/yizaochen/Desktop/drawzone_temp/{host}-{eigv_id}.png', dpi=200, transparent=False)\n",
    "plt.show()"
   ]
  },
  {
   "cell_type": "code",
   "execution_count": null,
   "metadata": {},
   "outputs": [],
   "source": []
  }
 ],
 "metadata": {
  "kernelspec": {
   "display_name": "Python 3",
   "language": "python",
   "name": "python3"
  },
  "language_info": {
   "codemirror_mode": {
    "name": "ipython",
    "version": 3
   },
   "file_extension": ".py",
   "mimetype": "text/x-python",
   "name": "python",
   "nbconvert_exporter": "python",
   "pygments_lexer": "ipython3",
   "version": "3.8.5"
  }
 },
 "nbformat": 4,
 "nbformat_minor": 4
}
