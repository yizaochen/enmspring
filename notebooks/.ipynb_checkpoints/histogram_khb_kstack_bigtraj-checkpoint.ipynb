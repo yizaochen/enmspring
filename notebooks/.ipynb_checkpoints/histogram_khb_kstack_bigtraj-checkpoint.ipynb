{
 "cells": [
  {
   "cell_type": "code",
   "execution_count": 2,
   "metadata": {},
   "outputs": [],
   "source": [
    "import matplotlib.pyplot as plt\n",
    "from enmspring.spring import BigTrajAgent\n",
    "interactions = ['other', 'backbone', 'stack', 'sugar', 'HB']\n",
    "bigtraj_folder = '/home/ytcdata/bigtraj_fluctmatch'"
   ]
  },
  {
   "cell_type": "markdown",
   "metadata": {},
   "source": [
    "### Part 0: Initialize"
   ]
  },
  {
   "cell_type": "code",
   "execution_count": 2,
   "metadata": {},
   "outputs": [
    {
     "name": "stdout",
     "output_type": "stream",
     "text": [
      "/home/ytcdata/bigtraj_fluctmatch/a_tract_21mer/bdna+bdna/0_1000/pd_dfs exists\n",
      "/home/ytcdata/bigtraj_fluctmatch/a_tract_21mer/bdna+bdna/500_1500/pd_dfs exists\n",
      "/home/ytcdata/bigtraj_fluctmatch/a_tract_21mer/bdna+bdna/1000_2000/pd_dfs exists\n",
      "/home/ytcdata/bigtraj_fluctmatch/a_tract_21mer/bdna+bdna/1500_2500/pd_dfs exists\n",
      "/home/ytcdata/bigtraj_fluctmatch/a_tract_21mer/bdna+bdna/2000_3000/pd_dfs exists\n",
      "/home/ytcdata/bigtraj_fluctmatch/a_tract_21mer/bdna+bdna/2500_3500/pd_dfs exists\n",
      "/home/ytcdata/bigtraj_fluctmatch/a_tract_21mer/bdna+bdna/3000_4000/pd_dfs exists\n",
      "/home/ytcdata/bigtraj_fluctmatch/a_tract_21mer/bdna+bdna/3500_4500/pd_dfs exists\n",
      "/home/ytcdata/bigtraj_fluctmatch/a_tract_21mer/bdna+bdna/4000_5000/pd_dfs exists\n"
     ]
    }
   ],
   "source": [
    "host = 'a_tract_21mer'\n",
    "type_na = 'bdna+bdna'\n",
    "only_central = True\n",
    "b_agent = BigTrajAgent(host, type_na, bigtraj_folder, only_central)"
   ]
  },
  {
   "cell_type": "markdown",
   "metadata": {},
   "source": [
    "### Part 1: Read all DataFrame"
   ]
  },
  {
   "cell_type": "code",
   "execution_count": 3,
   "metadata": {},
   "outputs": [
    {
     "name": "stdout",
     "output_type": "stream",
     "text": [
      "Read /home/ytcdata/bigtraj_fluctmatch/a_tract_21mer/bdna+bdna/0_1000/pd_dfs/pairtypes_k_b0_cutoff_4.70.csv into df_all_k\n",
      "Read /home/ytcdata/bigtraj_fluctmatch/a_tract_21mer/bdna+bdna/500_1500/pd_dfs/pairtypes_k_b0_cutoff_4.70.csv into df_all_k\n",
      "Read /home/ytcdata/bigtraj_fluctmatch/a_tract_21mer/bdna+bdna/1000_2000/pd_dfs/pairtypes_k_b0_cutoff_4.70.csv into df_all_k\n",
      "Read /home/ytcdata/bigtraj_fluctmatch/a_tract_21mer/bdna+bdna/1500_2500/pd_dfs/pairtypes_k_b0_cutoff_4.70.csv into df_all_k\n",
      "Read /home/ytcdata/bigtraj_fluctmatch/a_tract_21mer/bdna+bdna/2000_3000/pd_dfs/pairtypes_k_b0_cutoff_4.70.csv into df_all_k\n",
      "Read /home/ytcdata/bigtraj_fluctmatch/a_tract_21mer/bdna+bdna/2500_3500/pd_dfs/pairtypes_k_b0_cutoff_4.70.csv into df_all_k\n",
      "Read /home/ytcdata/bigtraj_fluctmatch/a_tract_21mer/bdna+bdna/3000_4000/pd_dfs/pairtypes_k_b0_cutoff_4.70.csv into df_all_k\n",
      "Read /home/ytcdata/bigtraj_fluctmatch/a_tract_21mer/bdna+bdna/3500_4500/pd_dfs/pairtypes_k_b0_cutoff_4.70.csv into df_all_k\n",
      "Read /home/ytcdata/bigtraj_fluctmatch/a_tract_21mer/bdna+bdna/4000_5000/pd_dfs/pairtypes_k_b0_cutoff_4.70.csv into df_all_k\n"
     ]
    }
   ],
   "source": [
    "b_agent.read_all_k_b0_pairtype_df()"
   ]
  },
  {
   "cell_type": "markdown",
   "metadata": {},
   "source": [
    "### Part 2: Process k-stack and k-HB"
   ]
  },
  {
   "cell_type": "code",
   "execution_count": 4,
   "metadata": {},
   "outputs": [
    {
     "name": "stdout",
     "output_type": "stream",
     "text": [
      "Read Dataframe of stacking: df_st\n",
      "Read Dataframe of stacking: df_st\n",
      "Read Dataframe of stacking: df_st\n",
      "Read Dataframe of stacking: df_st\n",
      "Read Dataframe of stacking: df_st\n",
      "Read Dataframe of stacking: df_st\n",
      "Read Dataframe of stacking: df_st\n",
      "Read Dataframe of stacking: df_st\n",
      "Read Dataframe of stacking: df_st\n",
      "Read Dataframe of HB: df_hb\n",
      "Read Dataframe of HB: df_hb\n",
      "Read Dataframe of HB: df_hb\n",
      "Read Dataframe of HB: df_hb\n",
      "Read Dataframe of HB: df_hb\n",
      "Read Dataframe of HB: df_hb\n",
      "Read Dataframe of HB: df_hb\n",
      "Read Dataframe of HB: df_hb\n",
      "Read Dataframe of HB: df_hb\n"
     ]
    }
   ],
   "source": [
    "b_agent.put_all_df_st_into_dict()\n",
    "b_agent.put_all_df_hb_into_dict()"
   ]
  },
  {
   "cell_type": "markdown",
   "metadata": {},
   "source": [
    "### Part 3: Histogram"
   ]
  },
  {
   "cell_type": "code",
   "execution_count": 5,
   "metadata": {},
   "outputs": [],
   "source": [
    "k_st_list = b_agent.get_k_st_list()\n",
    "k_hb_list = b_agent.get_k_hb_list()"
   ]
  },
  {
   "cell_type": "code",
   "execution_count": 6,
   "metadata": {},
   "outputs": [
    {
     "data": {
      "image/png": "[encoded data removed]",
      "text/plain": [
       "<Figure size 576x288 with 1 Axes>"
      ]
     },
     "metadata": {
      "needs_background": "light"
     },
     "output_type": "display_data"
    }
   ],
   "source": [
    "fig, ax = plt.subplots(figsize=(8,4))\n",
    "\n",
    "ax.hist(k_st_list, 50, density=True, facecolor='g', label='stack', alpha=0.75)\n",
    "ax.hist(k_hb_list, 50, density=True, facecolor='red', label='HB', alpha=0.75)\n",
    "\n",
    "ax.legend()\n",
    "plt.tight_layout()\n",
    "plt.show()"
   ]
  },
  {
   "cell_type": "code",
   "execution_count": 6,
   "metadata": {},
   "outputs": [
    {
     "data": {
      "image/png": "[encoded data removed]",
      "text/plain": [
       "<Figure size 576x288 with 1 Axes>"
      ]
     },
     "metadata": {
      "needs_background": "light"
     },
     "output_type": "display_data"
    }
   ],
   "source": [
    "fig, ax = plt.subplots(figsize=(8,4))\n",
    "\n",
    "ax.hist(k_st_list, 50, density=True, facecolor='g', label='stack', alpha=0.75)\n",
    "ax.hist(k_hb_list, 50, density=True, facecolor='red', label='HB', alpha=0.75)\n",
    "\n",
    "ax.legend()\n",
    "plt.tight_layout()\n",
    "plt.show()"
   ]
  },
  {
   "cell_type": "code",
   "execution_count": 3,
   "metadata": {
    "collapsed": true,
    "jupyter": {
     "outputs_hidden": true
    }
   },
   "outputs": [
    {
     "name": "stdout",
     "output_type": "stream",
     "text": [
      "/home/ytcdata/bigtraj_fluctmatch/a_tract_21mer/bdna+bdna/0_1000/pd_dfs exists\n",
      "/home/ytcdata/bigtraj_fluctmatch/a_tract_21mer/bdna+bdna/500_1500/pd_dfs exists\n",
      "/home/ytcdata/bigtraj_fluctmatch/a_tract_21mer/bdna+bdna/1000_2000/pd_dfs exists\n",
      "/home/ytcdata/bigtraj_fluctmatch/a_tract_21mer/bdna+bdna/1500_2500/pd_dfs exists\n",
      "/home/ytcdata/bigtraj_fluctmatch/a_tract_21mer/bdna+bdna/2000_3000/pd_dfs exists\n",
      "/home/ytcdata/bigtraj_fluctmatch/a_tract_21mer/bdna+bdna/2500_3500/pd_dfs exists\n",
      "/home/ytcdata/bigtraj_fluctmatch/a_tract_21mer/bdna+bdna/3000_4000/pd_dfs exists\n",
      "/home/ytcdata/bigtraj_fluctmatch/a_tract_21mer/bdna+bdna/3500_4500/pd_dfs exists\n",
      "/home/ytcdata/bigtraj_fluctmatch/a_tract_21mer/bdna+bdna/4000_5000/pd_dfs exists\n",
      "Read /home/ytcdata/bigtraj_fluctmatch/a_tract_21mer/bdna+bdna/0_1000/pd_dfs/pairtypes_k_b0_cutoff_4.70.csv into df_all_k\n",
      "Read /home/ytcdata/bigtraj_fluctmatch/a_tract_21mer/bdna+bdna/500_1500/pd_dfs/pairtypes_k_b0_cutoff_4.70.csv into df_all_k\n",
      "Read /home/ytcdata/bigtraj_fluctmatch/a_tract_21mer/bdna+bdna/1000_2000/pd_dfs/pairtypes_k_b0_cutoff_4.70.csv into df_all_k\n",
      "Read /home/ytcdata/bigtraj_fluctmatch/a_tract_21mer/bdna+bdna/1500_2500/pd_dfs/pairtypes_k_b0_cutoff_4.70.csv into df_all_k\n",
      "Read /home/ytcdata/bigtraj_fluctmatch/a_tract_21mer/bdna+bdna/2000_3000/pd_dfs/pairtypes_k_b0_cutoff_4.70.csv into df_all_k\n",
      "Read /home/ytcdata/bigtraj_fluctmatch/a_tract_21mer/bdna+bdna/2500_3500/pd_dfs/pairtypes_k_b0_cutoff_4.70.csv into df_all_k\n",
      "Read /home/ytcdata/bigtraj_fluctmatch/a_tract_21mer/bdna+bdna/3000_4000/pd_dfs/pairtypes_k_b0_cutoff_4.70.csv into df_all_k\n",
      "Read /home/ytcdata/bigtraj_fluctmatch/a_tract_21mer/bdna+bdna/3500_4500/pd_dfs/pairtypes_k_b0_cutoff_4.70.csv into df_all_k\n",
      "Read /home/ytcdata/bigtraj_fluctmatch/a_tract_21mer/bdna+bdna/4000_5000/pd_dfs/pairtypes_k_b0_cutoff_4.70.csv into df_all_k\n",
      "Read Dataframe of stacking: df_st\n",
      "Read Dataframe of stacking: df_st\n",
      "Read Dataframe of stacking: df_st\n",
      "Read Dataframe of stacking: df_st\n",
      "Read Dataframe of stacking: df_st\n",
      "Read Dataframe of stacking: df_st\n",
      "Read Dataframe of stacking: df_st\n",
      "Read Dataframe of stacking: df_st\n",
      "Read Dataframe of stacking: df_st\n",
      "Read Dataframe of HB: df_hb\n",
      "Read Dataframe of HB: df_hb\n",
      "Read Dataframe of HB: df_hb\n",
      "Read Dataframe of HB: df_hb\n",
      "Read Dataframe of HB: df_hb\n",
      "Read Dataframe of HB: df_hb\n",
      "Read Dataframe of HB: df_hb\n",
      "Read Dataframe of HB: df_hb\n",
      "Read Dataframe of HB: df_hb\n",
      "/home/ytcdata/bigtraj_fluctmatch/g_tract_21mer/bdna+bdna/0_1000/pd_dfs exists\n",
      "/home/ytcdata/bigtraj_fluctmatch/g_tract_21mer/bdna+bdna/500_1500/pd_dfs exists\n",
      "/home/ytcdata/bigtraj_fluctmatch/g_tract_21mer/bdna+bdna/1000_2000/pd_dfs exists\n",
      "/home/ytcdata/bigtraj_fluctmatch/g_tract_21mer/bdna+bdna/1500_2500/pd_dfs exists\n",
      "/home/ytcdata/bigtraj_fluctmatch/g_tract_21mer/bdna+bdna/2000_3000/pd_dfs exists\n",
      "/home/ytcdata/bigtraj_fluctmatch/g_tract_21mer/bdna+bdna/2500_3500/pd_dfs exists\n",
      "/home/ytcdata/bigtraj_fluctmatch/g_tract_21mer/bdna+bdna/3000_4000/pd_dfs exists\n",
      "/home/ytcdata/bigtraj_fluctmatch/g_tract_21mer/bdna+bdna/3500_4500/pd_dfs exists\n",
      "/home/ytcdata/bigtraj_fluctmatch/g_tract_21mer/bdna+bdna/4000_5000/pd_dfs exists\n",
      "Read /home/ytcdata/bigtraj_fluctmatch/g_tract_21mer/bdna+bdna/0_1000/pd_dfs/pairtypes_k_b0_cutoff_4.70.csv into df_all_k\n",
      "Read /home/ytcdata/bigtraj_fluctmatch/g_tract_21mer/bdna+bdna/500_1500/pd_dfs/pairtypes_k_b0_cutoff_4.70.csv into df_all_k\n",
      "Read /home/ytcdata/bigtraj_fluctmatch/g_tract_21mer/bdna+bdna/1000_2000/pd_dfs/pairtypes_k_b0_cutoff_4.70.csv into df_all_k\n",
      "Read /home/ytcdata/bigtraj_fluctmatch/g_tract_21mer/bdna+bdna/1500_2500/pd_dfs/pairtypes_k_b0_cutoff_4.70.csv into df_all_k\n",
      "Read /home/ytcdata/bigtraj_fluctmatch/g_tract_21mer/bdna+bdna/2000_3000/pd_dfs/pairtypes_k_b0_cutoff_4.70.csv into df_all_k\n",
      "Read /home/ytcdata/bigtraj_fluctmatch/g_tract_21mer/bdna+bdna/2500_3500/pd_dfs/pairtypes_k_b0_cutoff_4.70.csv into df_all_k\n",
      "Read /home/ytcdata/bigtraj_fluctmatch/g_tract_21mer/bdna+bdna/3000_4000/pd_dfs/pairtypes_k_b0_cutoff_4.70.csv into df_all_k\n",
      "Read /home/ytcdata/bigtraj_fluctmatch/g_tract_21mer/bdna+bdna/3500_4500/pd_dfs/pairtypes_k_b0_cutoff_4.70.csv into df_all_k\n",
      "Read /home/ytcdata/bigtraj_fluctmatch/g_tract_21mer/bdna+bdna/4000_5000/pd_dfs/pairtypes_k_b0_cutoff_4.70.csv into df_all_k\n",
      "Read Dataframe of stacking: df_st\n",
      "Read Dataframe of stacking: df_st\n",
      "Read Dataframe of stacking: df_st\n",
      "Read Dataframe of stacking: df_st\n",
      "Read Dataframe of stacking: df_st\n",
      "Read Dataframe of stacking: df_st\n",
      "Read Dataframe of stacking: df_st\n",
      "Read Dataframe of stacking: df_st\n",
      "Read Dataframe of stacking: df_st\n",
      "Read Dataframe of HB: df_hb\n",
      "Read Dataframe of HB: df_hb\n",
      "Read Dataframe of HB: df_hb\n",
      "Read Dataframe of HB: df_hb\n",
      "Read Dataframe of HB: df_hb\n",
      "Read Dataframe of HB: df_hb\n",
      "Read Dataframe of HB: df_hb\n",
      "Read Dataframe of HB: df_hb\n",
      "Read Dataframe of HB: df_hb\n",
      "/home/ytcdata/bigtraj_fluctmatch/atat_21mer/bdna+bdna/0_1000/pd_dfs exists\n",
      "/home/ytcdata/bigtraj_fluctmatch/atat_21mer/bdna+bdna/500_1500/pd_dfs exists\n",
      "/home/ytcdata/bigtraj_fluctmatch/atat_21mer/bdna+bdna/1000_2000/pd_dfs exists\n",
      "/home/ytcdata/bigtraj_fluctmatch/atat_21mer/bdna+bdna/1500_2500/pd_dfs exists\n",
      "/home/ytcdata/bigtraj_fluctmatch/atat_21mer/bdna+bdna/2000_3000/pd_dfs exists\n",
      "/home/ytcdata/bigtraj_fluctmatch/atat_21mer/bdna+bdna/2500_3500/pd_dfs exists\n",
      "/home/ytcdata/bigtraj_fluctmatch/atat_21mer/bdna+bdna/3000_4000/pd_dfs exists\n",
      "/home/ytcdata/bigtraj_fluctmatch/atat_21mer/bdna+bdna/3500_4500/pd_dfs exists\n",
      "/home/ytcdata/bigtraj_fluctmatch/atat_21mer/bdna+bdna/4000_5000/pd_dfs exists\n",
      "Read /home/ytcdata/bigtraj_fluctmatch/atat_21mer/bdna+bdna/0_1000/pd_dfs/pairtypes_k_b0_cutoff_4.70.csv into df_all_k\n",
      "Read /home/ytcdata/bigtraj_fluctmatch/atat_21mer/bdna+bdna/500_1500/pd_dfs/pairtypes_k_b0_cutoff_4.70.csv into df_all_k\n",
      "Read /home/ytcdata/bigtraj_fluctmatch/atat_21mer/bdna+bdna/1000_2000/pd_dfs/pairtypes_k_b0_cutoff_4.70.csv into df_all_k\n",
      "Read /home/ytcdata/bigtraj_fluctmatch/atat_21mer/bdna+bdna/1500_2500/pd_dfs/pairtypes_k_b0_cutoff_4.70.csv into df_all_k\n",
      "Read /home/ytcdata/bigtraj_fluctmatch/atat_21mer/bdna+bdna/2000_3000/pd_dfs/pairtypes_k_b0_cutoff_4.70.csv into df_all_k\n",
      "Read /home/ytcdata/bigtraj_fluctmatch/atat_21mer/bdna+bdna/2500_3500/pd_dfs/pairtypes_k_b0_cutoff_4.70.csv into df_all_k\n",
      "Read /home/ytcdata/bigtraj_fluctmatch/atat_21mer/bdna+bdna/3000_4000/pd_dfs/pairtypes_k_b0_cutoff_4.70.csv into df_all_k\n",
      "Read /home/ytcdata/bigtraj_fluctmatch/atat_21mer/bdna+bdna/3500_4500/pd_dfs/pairtypes_k_b0_cutoff_4.70.csv into df_all_k\n",
      "Read /home/ytcdata/bigtraj_fluctmatch/atat_21mer/bdna+bdna/4000_5000/pd_dfs/pairtypes_k_b0_cutoff_4.70.csv into df_all_k\n",
      "Read Dataframe of stacking: df_st\n",
      "Read Dataframe of stacking: df_st\n",
      "Read Dataframe of stacking: df_st\n",
      "Read Dataframe of stacking: df_st\n",
      "Read Dataframe of stacking: df_st\n",
      "Read Dataframe of stacking: df_st\n",
      "Read Dataframe of stacking: df_st\n",
      "Read Dataframe of stacking: df_st\n",
      "Read Dataframe of stacking: df_st\n",
      "Read Dataframe of HB: df_hb\n",
      "Read Dataframe of HB: df_hb\n",
      "Read Dataframe of HB: df_hb\n",
      "Read Dataframe of HB: df_hb\n",
      "Read Dataframe of HB: df_hb\n",
      "Read Dataframe of HB: df_hb\n",
      "Read Dataframe of HB: df_hb\n",
      "Read Dataframe of HB: df_hb\n",
      "Read Dataframe of HB: df_hb\n",
      "/home/ytcdata/bigtraj_fluctmatch/gcgc_21mer/bdna+bdna/0_1000/pd_dfs exists\n",
      "/home/ytcdata/bigtraj_fluctmatch/gcgc_21mer/bdna+bdna/500_1500/pd_dfs exists\n",
      "/home/ytcdata/bigtraj_fluctmatch/gcgc_21mer/bdna+bdna/1000_2000/pd_dfs exists\n",
      "/home/ytcdata/bigtraj_fluctmatch/gcgc_21mer/bdna+bdna/1500_2500/pd_dfs exists\n",
      "/home/ytcdata/bigtraj_fluctmatch/gcgc_21mer/bdna+bdna/2000_3000/pd_dfs exists\n",
      "/home/ytcdata/bigtraj_fluctmatch/gcgc_21mer/bdna+bdna/2500_3500/pd_dfs exists\n",
      "/home/ytcdata/bigtraj_fluctmatch/gcgc_21mer/bdna+bdna/3000_4000/pd_dfs exists\n",
      "/home/ytcdata/bigtraj_fluctmatch/gcgc_21mer/bdna+bdna/3500_4500/pd_dfs exists\n",
      "/home/ytcdata/bigtraj_fluctmatch/gcgc_21mer/bdna+bdna/4000_5000/pd_dfs exists\n",
      "Read /home/ytcdata/bigtraj_fluctmatch/gcgc_21mer/bdna+bdna/0_1000/pd_dfs/pairtypes_k_b0_cutoff_4.70.csv into df_all_k\n",
      "Read /home/ytcdata/bigtraj_fluctmatch/gcgc_21mer/bdna+bdna/500_1500/pd_dfs/pairtypes_k_b0_cutoff_4.70.csv into df_all_k\n",
      "Read /home/ytcdata/bigtraj_fluctmatch/gcgc_21mer/bdna+bdna/1000_2000/pd_dfs/pairtypes_k_b0_cutoff_4.70.csv into df_all_k\n",
      "Read /home/ytcdata/bigtraj_fluctmatch/gcgc_21mer/bdna+bdna/1500_2500/pd_dfs/pairtypes_k_b0_cutoff_4.70.csv into df_all_k\n",
      "Read /home/ytcdata/bigtraj_fluctmatch/gcgc_21mer/bdna+bdna/2000_3000/pd_dfs/pairtypes_k_b0_cutoff_4.70.csv into df_all_k\n",
      "Read /home/ytcdata/bigtraj_fluctmatch/gcgc_21mer/bdna+bdna/2500_3500/pd_dfs/pairtypes_k_b0_cutoff_4.70.csv into df_all_k\n",
      "Read /home/ytcdata/bigtraj_fluctmatch/gcgc_21mer/bdna+bdna/3000_4000/pd_dfs/pairtypes_k_b0_cutoff_4.70.csv into df_all_k\n",
      "Read /home/ytcdata/bigtraj_fluctmatch/gcgc_21mer/bdna+bdna/3500_4500/pd_dfs/pairtypes_k_b0_cutoff_4.70.csv into df_all_k\n",
      "Read /home/ytcdata/bigtraj_fluctmatch/gcgc_21mer/bdna+bdna/4000_5000/pd_dfs/pairtypes_k_b0_cutoff_4.70.csv into df_all_k\n",
      "Read Dataframe of stacking: df_st\n",
      "Read Dataframe of stacking: df_st\n",
      "Read Dataframe of stacking: df_st\n",
      "Read Dataframe of stacking: df_st\n",
      "Read Dataframe of stacking: df_st\n",
      "Read Dataframe of stacking: df_st\n",
      "Read Dataframe of stacking: df_st\n",
      "Read Dataframe of stacking: df_st\n",
      "Read Dataframe of stacking: df_st\n",
      "Read Dataframe of HB: df_hb\n",
      "Read Dataframe of HB: df_hb\n",
      "Read Dataframe of HB: df_hb\n",
      "Read Dataframe of HB: df_hb\n",
      "Read Dataframe of HB: df_hb\n",
      "Read Dataframe of HB: df_hb\n",
      "Read Dataframe of HB: df_hb\n",
      "Read Dataframe of HB: df_hb\n",
      "Read Dataframe of HB: df_hb\n"
     ]
    }
   ],
   "source": [
    "type_na = 'bdna+bdna'\n",
    "only_central = True\n",
    "hosts = ['a_tract_21mer', 'g_tract_21mer', 'atat_21mer', 'gcgc_21mer']\n",
    "d_results = dict()\n",
    "for host in hosts:\n",
    "    b_agent = BigTrajAgent(host, type_na, bigtraj_folder, only_central)\n",
    "    b_agent.read_all_k_b0_pairtype_df()\n",
    "    b_agent.put_all_df_st_into_dict()\n",
    "    b_agent.put_all_df_hb_into_dict()\n",
    "    \n",
    "    d_results[host] = dict()\n",
    "    d_results[host]['st'] = b_agent.get_k_st_list()\n",
    "    d_results[host]['hb'] = b_agent.get_k_hb_list()"
   ]
  },
  {
   "cell_type": "code",
   "execution_count": 4,
   "metadata": {},
   "outputs": [],
   "source": [
    "d_rowcols = {'a_tract_21mer':(0,0), 'g_tract_21mer':(0,1), 'atat_21mer':(1,0), 'gcgc_21mer':(1,1)}"
   ]
  },
  {
   "cell_type": "code",
   "execution_count": 12,
   "metadata": {},
   "outputs": [
    {
     "data": {
      "image/png": "[encoded data removed]",
      "text/plain": [
       "<Figure size 576x288 with 4 Axes>"
      ]
     },
     "metadata": {
      "needs_background": "light"
     },
     "output_type": "display_data"
    }
   ],
   "source": [
    "fig, axes = plt.subplots(nrows=2, ncols=2, figsize=(8, 4), sharey=True, sharex=True)\n",
    "\n",
    "for host in hosts:\n",
    "    row_id, col_id = d_rowcols[host]\n",
    "    ax = axes[row_id, col_id]\n",
    "    ax.hist(d_results[host]['st'], 50, density=True, facecolor='g', label='stack', alpha=0.75)\n",
    "    ax.hist(d_results[host]['hb'], 200, density=True, facecolor='red', label='HB', alpha=0.75)\n",
    "    ax.set_title(host)\n",
    "    ax.set_xlabel('k (kcal/mol/Å$^2$)')\n",
    "    ax.set_ylabel('Probability')\n",
    "    ax.legend(frameon=False)\n",
    "    \n",
    "plt.tight_layout()\n",
    "plt.savefig('histogram_kst_khb.pdf')\n",
    "plt.show()"
   ]
  },
  {
   "cell_type": "code",
   "execution_count": null,
   "metadata": {},
   "outputs": [],
   "source": []
  }
 ],
 "metadata": {
  "kernelspec": {
   "display_name": "Python 3",
   "language": "python",
   "name": "python3"
  },
  "language_info": {
   "codemirror_mode": {
    "name": "ipython",
    "version": 3
   },
   "file_extension": ".py",
   "mimetype": "text/x-python",
   "name": "python",
   "nbconvert_exporter": "python",
   "pygments_lexer": "ipython3",
   "version": "3.8.5"
  }
 },
 "nbformat": 4,
 "nbformat_minor": 4
}
