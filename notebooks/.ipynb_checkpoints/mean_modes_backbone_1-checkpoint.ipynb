{
 "cells": [
  {
   "cell_type": "code",
   "execution_count": 1,
   "metadata": {},
   "outputs": [],
   "source": [
    "import matplotlib.pyplot as plt\n",
    "import numpy as np\n",
    "from enmspring.graphs_bigtraj import BackboneMeanModeAgent\n",
    "from enmspring.abbr import Abbreviation\n",
    "\n",
    "rootfolder = '/home/ytcdata/bigtraj_fluctmatch/500ns'"
   ]
  },
  {
   "cell_type": "markdown",
   "metadata": {},
   "source": [
    "### Part 1: Batch Make DataFrame"
   ]
  },
  {
   "cell_type": "code",
   "execution_count": null,
   "metadata": {},
   "outputs": [],
   "source": [
    "hosts = ['a_tract_21mer', 'g_tract_21mer', 'atat_21mer', 'gcgc_21mer']\n",
    "interval_time = 500\n",
    "make_and_save = True\n",
    "for host in hosts:\n",
    "    s_agent = BackboneMeanModeAgent(host, rootfolder, interval_time)\n",
    "    if make_and_save:\n",
    "        s_agent.preprocess_all_small_agents()\n",
    "        s_agent.make_mean_mode_laplacian()\n",
    "        s_agent.save_mean_mode_laplacian_into_npy()\n",
    "        s_agent.make_mean_mode_std_laplacian()\n",
    "        s_agent.save_mean_mode_std_laplacian_into_npy()\n",
    "        s_agent.make_b0_mean_std()\n",
    "        s_agent.save_b0_mean_std_into_npy()"
   ]
  }
 ],
 "metadata": {
  "kernelspec": {
   "display_name": "Python 3",
   "language": "python",
   "name": "python3"
  },
  "language_info": {
   "codemirror_mode": {
    "name": "ipython",
    "version": 3
   },
   "file_extension": ".py",
   "mimetype": "text/x-python",
   "name": "python",
   "nbconvert_exporter": "python",
   "pygments_lexer": "ipython3",
   "version": "3.8.5"
  }
 },
 "nbformat": 4,
 "nbformat_minor": 4
}
