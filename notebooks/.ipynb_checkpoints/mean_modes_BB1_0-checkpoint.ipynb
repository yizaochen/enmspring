{
 "cells": [
  {
   "cell_type": "code",
   "execution_count": 1,
   "metadata": {},
   "outputs": [],
   "source": [
    "import matplotlib.pyplot as plt\n",
    "import numpy as np\n",
    "from enmspring.graphs_bigtraj import BB1MeanModeAgent\n",
    "from enmspring.abbr import Abbreviation\n",
    "rootfolder = '/home/ytcdata/bigtraj_fluctmatch/500ns'"
   ]
  },
  {
   "cell_type": "markdown",
   "metadata": {},
   "source": [
    "### Part 1: Batch Make DataFrame"
   ]
  },
  {
   "cell_type": "code",
   "execution_count": null,
   "metadata": {},
   "outputs": [],
   "source": [
    "host = 'a_tract_21mer'\n",
    "interval_time = 500\n",
    "make_and_save = True\n",
    "s_agent = BB1MeanModeAgent(host, rootfolder, interval_time)\n",
    "if make_and_save:\n",
    "    s_agent.preprocess_all_small_agents()\n",
    "    s_agent.make_mean_mode_laplacian()\n",
    "    s_agent.save_mean_mode_laplacian_into_npy()\n",
    "    s_agent.make_mean_mode_std_laplacian()\n",
    "    s_agent.save_mean_mode_std_laplacian_into_npy()\n",
    "    s_agent.make_b0_mean_std()\n",
    "    s_agent.save_b0_mean_std_into_npy()"
   ]
  },
  {
   "cell_type": "markdown",
   "metadata": {},
   "source": [
    "### Test"
   ]
  },
  {
   "cell_type": "code",
   "execution_count": 6,
   "metadata": {},
   "outputs": [],
   "source": [
    "from enmspring.graphs_bigtraj import BB1Graph"
   ]
  },
  {
   "cell_type": "code",
   "execution_count": 7,
   "metadata": {},
   "outputs": [
    {
     "name": "stdout",
     "output_type": "stream",
     "text": [
      "/home/ytcdata/bigtraj_fluctmatch/500ns/a_tract_21mer/bdna+bdna/0_500/pd_dfs exists\n"
     ]
    }
   ],
   "source": [
    "host = 'a_tract_21mer'\n",
    "time_label = '0_500'\n",
    "small_agent = BB1Graph(host, rootfolder, time_label)"
   ]
  },
  {
   "cell_type": "code",
   "execution_count": 8,
   "metadata": {},
   "outputs": [
    {
     "data": {
      "text/html": [
       "<div>\n",
       "<style scoped>\n",
       "    .dataframe tbody tr th:only-of-type {\n",
       "        vertical-align: middle;\n",
       "    }\n",
       "\n",
       "    .dataframe tbody tr th {\n",
       "        vertical-align: top;\n",
       "    }\n",
       "\n",
       "    .dataframe thead th {\n",
       "        text-align: right;\n",
       "    }\n",
       "</style>\n",
       "<table border=\"1\" class=\"dataframe\">\n",
       "  <thead>\n",
       "    <tr style=\"text-align: right;\">\n",
       "      <th></th>\n",
       "      <th>PairID</th>\n",
       "      <th>PairType</th>\n",
       "      <th>Big_Category</th>\n",
       "      <th>Strand_i</th>\n",
       "      <th>Resid_i</th>\n",
       "      <th>Atomname_i</th>\n",
       "      <th>Atomid_i</th>\n",
       "      <th>Strand_j</th>\n",
       "      <th>Resid_j</th>\n",
       "      <th>Atomname_j</th>\n",
       "      <th>Atomid_j</th>\n",
       "      <th>k</th>\n",
       "      <th>b0</th>\n",
       "    </tr>\n",
       "  </thead>\n",
       "  <tbody>\n",
       "    <tr>\n",
       "      <th>0</th>\n",
       "      <td>1</td>\n",
       "      <td>same-P-P-0</td>\n",
       "      <td>backbone</td>\n",
       "      <td>STRAND1</td>\n",
       "      <td>1</td>\n",
       "      <td>O5'</td>\n",
       "      <td>1</td>\n",
       "      <td>STRAND1</td>\n",
       "      <td>1</td>\n",
       "      <td>C5'</td>\n",
       "      <td>2</td>\n",
       "      <td>0.3622</td>\n",
       "      <td>1.9512</td>\n",
       "    </tr>\n",
       "    <tr>\n",
       "      <th>1</th>\n",
       "      <td>2</td>\n",
       "      <td>same-P-S-0</td>\n",
       "      <td>backbone</td>\n",
       "      <td>STRAND1</td>\n",
       "      <td>1</td>\n",
       "      <td>O5'</td>\n",
       "      <td>1</td>\n",
       "      <td>STRAND1</td>\n",
       "      <td>1</td>\n",
       "      <td>C4'</td>\n",
       "      <td>3</td>\n",
       "      <td>0.1289</td>\n",
       "      <td>2.8975</td>\n",
       "    </tr>\n",
       "    <tr>\n",
       "      <th>2</th>\n",
       "      <td>3</td>\n",
       "      <td>same-P-S-0</td>\n",
       "      <td>backbone</td>\n",
       "      <td>STRAND1</td>\n",
       "      <td>1</td>\n",
       "      <td>O5'</td>\n",
       "      <td>1</td>\n",
       "      <td>STRAND1</td>\n",
       "      <td>1</td>\n",
       "      <td>O4'</td>\n",
       "      <td>4</td>\n",
       "      <td>0.2113</td>\n",
       "      <td>3.3340</td>\n",
       "    </tr>\n",
       "    <tr>\n",
       "      <th>3</th>\n",
       "      <td>4</td>\n",
       "      <td>same-P-S-0</td>\n",
       "      <td>backbone</td>\n",
       "      <td>STRAND1</td>\n",
       "      <td>1</td>\n",
       "      <td>O5'</td>\n",
       "      <td>1</td>\n",
       "      <td>STRAND1</td>\n",
       "      <td>1</td>\n",
       "      <td>C1'</td>\n",
       "      <td>5</td>\n",
       "      <td>0.0000</td>\n",
       "      <td>4.1006</td>\n",
       "    </tr>\n",
       "    <tr>\n",
       "      <th>4</th>\n",
       "      <td>5</td>\n",
       "      <td>same-P-B-0</td>\n",
       "      <td>backbone</td>\n",
       "      <td>STRAND1</td>\n",
       "      <td>1</td>\n",
       "      <td>O5'</td>\n",
       "      <td>1</td>\n",
       "      <td>STRAND1</td>\n",
       "      <td>1</td>\n",
       "      <td>N9</td>\n",
       "      <td>6</td>\n",
       "      <td>0.0000</td>\n",
       "      <td>4.5977</td>\n",
       "    </tr>\n",
       "  </tbody>\n",
       "</table>\n",
       "</div>"
      ],
      "text/plain": [
       "   PairID    PairType Big_Category Strand_i  Resid_i Atomname_i  Atomid_i  \\\n",
       "0       1  same-P-P-0     backbone  STRAND1        1        O5'         1   \n",
       "1       2  same-P-S-0     backbone  STRAND1        1        O5'         1   \n",
       "2       3  same-P-S-0     backbone  STRAND1        1        O5'         1   \n",
       "3       4  same-P-S-0     backbone  STRAND1        1        O5'         1   \n",
       "4       5  same-P-B-0     backbone  STRAND1        1        O5'         1   \n",
       "\n",
       "  Strand_j  Resid_j Atomname_j  Atomid_j       k      b0  \n",
       "0  STRAND1        1        C5'         2  0.3622  1.9512  \n",
       "1  STRAND1        1        C4'         3  0.1289  2.8975  \n",
       "2  STRAND1        1        O4'         4  0.2113  3.3340  \n",
       "3  STRAND1        1        C1'         5  0.0000  4.1006  \n",
       "4  STRAND1        1         N9         6  0.0000  4.5977  "
      ]
     },
     "execution_count": 8,
     "metadata": {},
     "output_type": "execute_result"
    }
   ],
   "source": [
    "small_agent.df_all_k.head()"
   ]
  },
  {
   "cell_type": "code",
   "execution_count": null,
   "metadata": {},
   "outputs": [],
   "source": []
  }
 ],
 "metadata": {
  "kernelspec": {
   "display_name": "Python 3",
   "language": "python",
   "name": "python3"
  },
  "language_info": {
   "codemirror_mode": {
    "name": "ipython",
    "version": 3
   },
   "file_extension": ".py",
   "mimetype": "text/x-python",
   "name": "python",
   "nbconvert_exporter": "python",
   "pygments_lexer": "ipython3",
   "version": "3.8.5"
  }
 },
 "nbformat": 4,
 "nbformat_minor": 4
}
