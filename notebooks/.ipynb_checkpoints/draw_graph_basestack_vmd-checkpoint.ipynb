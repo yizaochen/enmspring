{
 "cells": [
  {
   "cell_type": "code",
   "execution_count": 1,
   "metadata": {},
   "outputs": [],
   "source": [
    "from os import path\n",
    "from enmspring.graphs import hosts\n",
    "from enmspring.graphs import GraphAgent\n",
    "rootfolder = '/home/yizaochen/codes/dna_rna/fluctmatch_sequence'\n",
    "enmroot = '/home/yizaochen/codes/dna_rna/enmspring'"
   ]
  },
  {
   "cell_type": "markdown",
   "metadata": {},
   "source": [
    "### Part 1: Initialize"
   ]
  },
  {
   "cell_type": "code",
   "execution_count": 2,
   "metadata": {},
   "outputs": [
    {
     "name": "stdout",
     "output_type": "stream",
     "text": [
      "/home/yizaochen/codes/dna_rna/fluctmatch_sequence/a_tract_21mer/bdna+bdna/pd_dfs exists\n"
     ]
    }
   ],
   "source": [
    "host = 'a_tract_21mer'\n",
    "g_agent = GraphAgent(host, rootfolder)\n",
    "g_agent.build_node_list()"
   ]
  },
  {
   "cell_type": "markdown",
   "metadata": {},
   "source": [
    "### Part 2: Show crd in VMD"
   ]
  },
  {
   "cell_type": "code",
   "execution_count": 3,
   "metadata": {},
   "outputs": [
    {
     "name": "stdout",
     "output_type": "stream",
     "text": [
      "vmd -cor /home/yizaochen/codes/dna_rna/fluctmatch_sequence/a_tract_21mer/bdna+bdna/input/bdna+bdna.nohydrogen.crd\n"
     ]
    }
   ],
   "source": [
    "g_agent.vmd_show_crd()"
   ]
  },
  {
   "cell_type": "markdown",
   "metadata": {},
   "source": [
    "### Part 3: Show nodes in the graph"
   ]
  },
  {
   "cell_type": "code",
   "execution_count": 5,
   "metadata": {},
   "outputs": [
    {
     "ename": "AttributeError",
     "evalue": "'NoneType' object has no attribute 'keys'",
     "output_type": "error",
     "traceback": [
      "\u001b[0;31m---------------------------------------------------------------------------\u001b[0m",
      "\u001b[0;31mAttributeError\u001b[0m                            Traceback (most recent call last)",
      "\u001b[0;32m<ipython-input-5-af505a97c5ba>\u001b[0m in \u001b[0;36m<module>\u001b[0;34m\u001b[0m\n\u001b[1;32m      2\u001b[0m \u001b[0mcolorid\u001b[0m \u001b[0;34m=\u001b[0m \u001b[0;36m0\u001b[0m\u001b[0;34m\u001b[0m\u001b[0;34m\u001b[0m\u001b[0m\n\u001b[1;32m      3\u001b[0m \u001b[0mvdw_radius\u001b[0m \u001b[0;34m=\u001b[0m \u001b[0;36m0.2\u001b[0m\u001b[0;34m\u001b[0m\u001b[0;34m\u001b[0m\u001b[0m\n\u001b[0;32m----> 4\u001b[0;31m \u001b[0mg_agent\u001b[0m\u001b[0;34m.\u001b[0m\u001b[0mwrite_show_nodes_tcl\u001b[0m\u001b[0;34m(\u001b[0m\u001b[0mtcl_out\u001b[0m\u001b[0;34m,\u001b[0m \u001b[0mcolorid\u001b[0m\u001b[0;34m=\u001b[0m\u001b[0mcolorid\u001b[0m\u001b[0;34m,\u001b[0m \u001b[0mvdw_radius\u001b[0m\u001b[0;34m=\u001b[0m\u001b[0mvdw_radius\u001b[0m\u001b[0;34m)\u001b[0m\u001b[0;34m\u001b[0m\u001b[0;34m\u001b[0m\u001b[0m\n\u001b[0m",
      "\u001b[0;32m~/codes/dna_rna/enmspring/enmspring/graphs.py\u001b[0m in \u001b[0;36mwrite_show_nodes_tcl\u001b[0;34m(self, tcl_out, colorid, vdw_radius)\u001b[0m\n\u001b[1;32m    150\u001b[0m \u001b[0;34m\u001b[0m\u001b[0m\n\u001b[1;32m    151\u001b[0m     \u001b[0;32mdef\u001b[0m \u001b[0mwrite_show_nodes_tcl\u001b[0m\u001b[0;34m(\u001b[0m\u001b[0mself\u001b[0m\u001b[0;34m,\u001b[0m \u001b[0mtcl_out\u001b[0m\u001b[0;34m,\u001b[0m \u001b[0mcolorid\u001b[0m\u001b[0;34m=\u001b[0m\u001b[0;36m0\u001b[0m\u001b[0;34m,\u001b[0m \u001b[0mvdw_radius\u001b[0m\u001b[0;34m=\u001b[0m\u001b[0;36m1.0\u001b[0m\u001b[0;34m)\u001b[0m\u001b[0;34m:\u001b[0m\u001b[0;34m\u001b[0m\u001b[0;34m\u001b[0m\u001b[0m\n\u001b[0;32m--> 152\u001b[0;31m         \u001b[0mserials_str\u001b[0m \u001b[0;34m=\u001b[0m \u001b[0mself\u001b[0m\u001b[0;34m.\u001b[0m\u001b[0m__get_serial_nodes\u001b[0m\u001b[0;34m(\u001b[0m\u001b[0;34m)\u001b[0m\u001b[0;34m\u001b[0m\u001b[0;34m\u001b[0m\u001b[0m\n\u001b[0m\u001b[1;32m    153\u001b[0m         \u001b[0mf\u001b[0m \u001b[0;34m=\u001b[0m \u001b[0mopen\u001b[0m\u001b[0;34m(\u001b[0m\u001b[0mtcl_out\u001b[0m\u001b[0;34m,\u001b[0m \u001b[0;34m'w'\u001b[0m\u001b[0;34m)\u001b[0m\u001b[0;34m\u001b[0m\u001b[0;34m\u001b[0m\u001b[0m\n\u001b[1;32m    154\u001b[0m         \u001b[0mf\u001b[0m\u001b[0;34m.\u001b[0m\u001b[0mwrite\u001b[0m\u001b[0;34m(\u001b[0m\u001b[0;34m'display resize 362 954\\n\\n'\u001b[0m\u001b[0;34m)\u001b[0m\u001b[0;34m\u001b[0m\u001b[0;34m\u001b[0m\u001b[0m\n",
      "\u001b[0;32m~/codes/dna_rna/enmspring/enmspring/graphs.py\u001b[0m in \u001b[0;36m__get_serial_nodes\u001b[0;34m(self)\u001b[0m\n\u001b[1;32m    192\u001b[0m \u001b[0;34m\u001b[0m\u001b[0m\n\u001b[1;32m    193\u001b[0m     \u001b[0;32mdef\u001b[0m \u001b[0m__get_serial_nodes\u001b[0m\u001b[0;34m(\u001b[0m\u001b[0mself\u001b[0m\u001b[0;34m)\u001b[0m\u001b[0;34m:\u001b[0m\u001b[0;34m\u001b[0m\u001b[0;34m\u001b[0m\u001b[0m\n\u001b[0;32m--> 194\u001b[0;31m         \u001b[0mserials_list\u001b[0m \u001b[0;34m=\u001b[0m \u001b[0;34m[\u001b[0m\u001b[0mstr\u001b[0m\u001b[0;34m(\u001b[0m\u001b[0mself\u001b[0m\u001b[0;34m.\u001b[0m\u001b[0matomid_map\u001b[0m\u001b[0;34m[\u001b[0m\u001b[0mcgname\u001b[0m\u001b[0;34m]\u001b[0m\u001b[0;34m)\u001b[0m \u001b[0;32mfor\u001b[0m \u001b[0mcgname\u001b[0m \u001b[0;32min\u001b[0m \u001b[0mself\u001b[0m\u001b[0;34m.\u001b[0m\u001b[0md_idx\u001b[0m\u001b[0;34m.\u001b[0m\u001b[0mkeys\u001b[0m\u001b[0;34m(\u001b[0m\u001b[0;34m)\u001b[0m\u001b[0;34m]\u001b[0m\u001b[0;34m\u001b[0m\u001b[0;34m\u001b[0m\u001b[0m\n\u001b[0m\u001b[1;32m    195\u001b[0m         \u001b[0;32mreturn\u001b[0m \u001b[0;34m' '\u001b[0m\u001b[0;34m.\u001b[0m\u001b[0mjoin\u001b[0m\u001b[0;34m(\u001b[0m\u001b[0mserials_list\u001b[0m\u001b[0;34m)\u001b[0m\u001b[0;34m\u001b[0m\u001b[0;34m\u001b[0m\u001b[0m\n\u001b[1;32m    196\u001b[0m \u001b[0;34m\u001b[0m\u001b[0m\n",
      "\u001b[0;31mAttributeError\u001b[0m: 'NoneType' object has no attribute 'keys'"
     ]
    }
   ],
   "source": [
    "tcl_out = path.join(enmroot, 'tclscripts', f'{host}_base_nodes.tcl')\n",
    "colorid = 0\n",
    "vdw_radius = 0.2\n",
    "g_agent.write_show_nodes_tcl(tcl_out, colorid=colorid, vdw_radius=vdw_radius)"
   ]
  },
  {
   "cell_type": "markdown",
   "metadata": {},
   "source": [
    "### Part 4: Show edges in the graph"
   ]
  },
  {
   "cell_type": "code",
   "execution_count": 17,
   "metadata": {},
   "outputs": [
    {
     "name": "stdout",
     "output_type": "stream",
     "text": [
      "Write tcl to /home/yizaochen/codes/dna_rna/enmspring/tclscripts/ctct_21mer_base_edges.tcl\n",
      "source /home/yizaochen/codes/dna_rna/enmspring/tclscripts/ctct_21mer_base_edges.tcl\n"
     ]
    }
   ],
   "source": [
    "tcl_out = path.join(enmroot, 'tclscripts', f'{host}_base_edges.tcl')\n",
    "radius = 0.05\n",
    "g_agent.write_show_base_edges_tcl(tcl_out, radius=radius)"
   ]
  },
  {
   "cell_type": "markdown",
   "metadata": {},
   "source": [
    "### Additional Part 1: Copy back"
   ]
  },
  {
   "cell_type": "code",
   "execution_count": 2,
   "metadata": {},
   "outputs": [
    {
     "name": "stdout",
     "output_type": "stream",
     "text": [
      "/home/yizaochen/codes/dna_rna/fluctmatch_sequence/a_tract_21mer/bdna+bdna/pd_dfs exists\n",
      "cp /home/yizaochen/codes/dna_rna/all_systems/a_tract_21mer/bdna+bdna/input/heavyatoms/bdna+bdna.nohydrogen.crd /home/yizaochen/codes/dna_rna/fluctmatch_sequence/a_tract_21mer/bdna+bdna/input/bdna+bdna.nohydrogen.crd\n",
      "/home/yizaochen/codes/dna_rna/fluctmatch_sequence/gcgc_21mer/bdna+bdna/pd_dfs exists\n",
      "cp /home/yizaochen/codes/dna_rna/all_systems/gcgc_21mer/bdna+bdna/input/heavyatoms/bdna+bdna.nohydrogen.crd /home/yizaochen/codes/dna_rna/fluctmatch_sequence/gcgc_21mer/bdna+bdna/input/bdna+bdna.nohydrogen.crd\n",
      "/home/yizaochen/codes/dna_rna/fluctmatch_sequence/tgtg_21mer/bdna+bdna/pd_dfs exists\n",
      "cp /home/yizaochen/codes/dna_rna/all_systems/tgtg_21mer/bdna+bdna/input/heavyatoms/bdna+bdna.nohydrogen.crd /home/yizaochen/codes/dna_rna/fluctmatch_sequence/tgtg_21mer/bdna+bdna/input/bdna+bdna.nohydrogen.crd\n",
      "/home/yizaochen/codes/dna_rna/fluctmatch_sequence/atat_21mer/bdna+bdna/pd_dfs exists\n",
      "cp /home/yizaochen/codes/dna_rna/all_systems/atat_21mer/bdna+bdna/input/heavyatoms/bdna+bdna.nohydrogen.crd /home/yizaochen/codes/dna_rna/fluctmatch_sequence/atat_21mer/bdna+bdna/input/bdna+bdna.nohydrogen.crd\n",
      "/home/yizaochen/codes/dna_rna/fluctmatch_sequence/ctct_21mer/bdna+bdna/pd_dfs exists\n",
      "cp /home/yizaochen/codes/dna_rna/all_systems/ctct_21mer/bdna+bdna/input/heavyatoms/bdna+bdna.nohydrogen.crd /home/yizaochen/codes/dna_rna/fluctmatch_sequence/ctct_21mer/bdna+bdna/input/bdna+bdna.nohydrogen.crd\n",
      "/home/yizaochen/codes/dna_rna/fluctmatch_sequence/g_tract_21mer/bdna+bdna/pd_dfs exists\n",
      "cp /home/yizaochen/codes/dna_rna/all_systems/g_tract_21mer/bdna+bdna/input/heavyatoms/bdna+bdna.nohydrogen.crd /home/yizaochen/codes/dna_rna/fluctmatch_sequence/g_tract_21mer/bdna+bdna/input/bdna+bdna.nohydrogen.crd\n"
     ]
    }
   ],
   "source": [
    "for host in hosts:\n",
    "    g_agent = GraphAgent(host, rootfolder)\n",
    "    g_agent.copy_nohydrogen_crd()"
   ]
  },
  {
   "cell_type": "markdown",
   "metadata": {},
   "source": [
    "### Additional Part 2: Find 5' of Guide"
   ]
  },
  {
   "cell_type": "code",
   "execution_count": 7,
   "metadata": {},
   "outputs": [
    {
     "name": "stdout",
     "output_type": "stream",
     "text": [
      "serial 6 7 8 9\n"
     ]
    }
   ],
   "source": [
    "print('serial 6 7 8 9')"
   ]
  },
  {
   "cell_type": "code",
   "execution_count": null,
   "metadata": {},
   "outputs": [],
   "source": []
  }
 ],
 "metadata": {
  "kernelspec": {
   "display_name": "Python 3",
   "language": "python",
   "name": "python3"
  },
  "language_info": {
   "codemirror_mode": {
    "name": "ipython",
    "version": 3
   },
   "file_extension": ".py",
   "mimetype": "text/x-python",
   "name": "python",
   "nbconvert_exporter": "python",
   "pygments_lexer": "ipython3",
   "version": "3.8.5"
  }
 },
 "nbformat": 4,
 "nbformat_minor": 4
}
