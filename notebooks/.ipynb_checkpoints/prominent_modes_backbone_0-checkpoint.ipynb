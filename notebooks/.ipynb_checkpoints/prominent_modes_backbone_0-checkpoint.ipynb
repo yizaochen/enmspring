{
 "cells": [
  {
   "cell_type": "code",
   "execution_count": 2,
   "metadata": {},
   "outputs": [],
   "source": [
    "import matplotlib.pyplot as plt\n",
    "import numpy as np\n",
    "from enmspring.graphs_bigtraj import ProminentModesBackbone\n",
    "from enmspring.abbr import Abbreviation\n",
    "\n",
    "rootfolder = '/home/ytcdata/bigtraj_fluctmatch/500ns'"
   ]
  },
  {
   "cell_type": "markdown",
   "metadata": {},
   "source": [
    "### Part 1: Initialize"
   ]
  },
  {
   "cell_type": "code",
   "execution_count": 2,
   "metadata": {
    "collapsed": true,
    "jupyter": {
     "outputs_hidden": true
    }
   },
   "outputs": [
    {
     "name": "stdout",
     "output_type": "stream",
     "text": [
      "/home/ytcdata/bigtraj_fluctmatch/500ns/a_tract_21mer/mean_mode_npy exists\n",
      "/home/ytcdata/bigtraj_fluctmatch/500ns/a_tract_21mer/bdna+bdna/0_500/pd_dfs exists\n",
      "Read Dataframe of stacking: df_st\n",
      "/home/ytcdata/bigtraj_fluctmatch/500ns/a_tract_21mer/bdna+bdna/250_750/pd_dfs exists\n",
      "Read Dataframe of stacking: df_st\n",
      "/home/ytcdata/bigtraj_fluctmatch/500ns/a_tract_21mer/bdna+bdna/500_1000/pd_dfs exists\n",
      "Read Dataframe of stacking: df_st\n",
      "/home/ytcdata/bigtraj_fluctmatch/500ns/a_tract_21mer/bdna+bdna/750_1250/pd_dfs exists\n",
      "Read Dataframe of stacking: df_st\n",
      "/home/ytcdata/bigtraj_fluctmatch/500ns/a_tract_21mer/bdna+bdna/1000_1500/pd_dfs exists\n",
      "Read Dataframe of stacking: df_st\n",
      "/home/ytcdata/bigtraj_fluctmatch/500ns/a_tract_21mer/bdna+bdna/1250_1750/pd_dfs exists\n",
      "Read Dataframe of stacking: df_st\n",
      "/home/ytcdata/bigtraj_fluctmatch/500ns/a_tract_21mer/bdna+bdna/1500_2000/pd_dfs exists\n",
      "Read Dataframe of stacking: df_st\n",
      "/home/ytcdata/bigtraj_fluctmatch/500ns/a_tract_21mer/bdna+bdna/1750_2250/pd_dfs exists\n",
      "Read Dataframe of stacking: df_st\n",
      "/home/ytcdata/bigtraj_fluctmatch/500ns/a_tract_21mer/bdna+bdna/2000_2500/pd_dfs exists\n",
      "Read Dataframe of stacking: df_st\n",
      "/home/ytcdata/bigtraj_fluctmatch/500ns/a_tract_21mer/bdna+bdna/2250_2750/pd_dfs exists\n",
      "Read Dataframe of stacking: df_st\n",
      "/home/ytcdata/bigtraj_fluctmatch/500ns/a_tract_21mer/bdna+bdna/2500_3000/pd_dfs exists\n",
      "Read Dataframe of stacking: df_st\n",
      "/home/ytcdata/bigtraj_fluctmatch/500ns/a_tract_21mer/bdna+bdna/2750_3250/pd_dfs exists\n",
      "Read Dataframe of stacking: df_st\n",
      "/home/ytcdata/bigtraj_fluctmatch/500ns/a_tract_21mer/bdna+bdna/3000_3500/pd_dfs exists\n",
      "Read Dataframe of stacking: df_st\n",
      "/home/ytcdata/bigtraj_fluctmatch/500ns/a_tract_21mer/bdna+bdna/3250_3750/pd_dfs exists\n",
      "Read Dataframe of stacking: df_st\n",
      "/home/ytcdata/bigtraj_fluctmatch/500ns/a_tract_21mer/bdna+bdna/3500_4000/pd_dfs exists\n",
      "Read Dataframe of stacking: df_st\n",
      "/home/ytcdata/bigtraj_fluctmatch/500ns/a_tract_21mer/bdna+bdna/3750_4250/pd_dfs exists\n",
      "Read Dataframe of stacking: df_st\n",
      "/home/ytcdata/bigtraj_fluctmatch/500ns/a_tract_21mer/bdna+bdna/4000_4500/pd_dfs exists\n",
      "Read Dataframe of stacking: df_st\n",
      "/home/ytcdata/bigtraj_fluctmatch/500ns/a_tract_21mer/bdna+bdna/4250_4750/pd_dfs exists\n",
      "Read Dataframe of stacking: df_st\n",
      "/home/ytcdata/bigtraj_fluctmatch/500ns/a_tract_21mer/bdna+bdna/4500_5000/pd_dfs exists\n",
      "Read Dataframe of stacking: df_st\n",
      "Load laplacian_mat from /home/ytcdata/bigtraj_fluctmatch/500ns/a_tract_21mer/mean_mode_npy/laplacian.npy\n"
     ]
    }
   ],
   "source": [
    "host = 'a_tract_21mer'\n",
    "interval_time = 500\n",
    "p_agent = ProminentModes(host, rootfolder, interval_time)"
   ]
  },
  {
   "cell_type": "markdown",
   "metadata": {},
   "source": [
    "### Part 2: Initialize all small agents"
   ]
  },
  {
   "cell_type": "code",
   "execution_count": 3,
   "metadata": {
    "collapsed": true,
    "jupyter": {
     "outputs_hidden": true
    }
   },
   "outputs": [
    {
     "name": "stdout",
     "output_type": "stream",
     "text": [
      "Thare are 399 nodes.\n",
      "Initialize adjacency, degree and Laplacian matrices... Done.\n",
      "Finish the setup for Laplaican matrix.\n",
      "Total number of nodes: 399\n",
      "There are 210 eigenvectors belonging to STRAND1.\n",
      "There are 189 eigenvectors belonging to STRAND2.\n",
      "Sum of two strands: 399\n",
      "Thare are 399 nodes.\n",
      "Initialize adjacency, degree and Laplacian matrices... Done.\n",
      "Finish the setup for Laplaican matrix.\n",
      "Total number of nodes: 399\n",
      "There are 210 eigenvectors belonging to STRAND1.\n",
      "There are 189 eigenvectors belonging to STRAND2.\n",
      "Sum of two strands: 399\n",
      "Thare are 399 nodes.\n",
      "Initialize adjacency, degree and Laplacian matrices... Done.\n",
      "Finish the setup for Laplaican matrix.\n",
      "Total number of nodes: 399\n",
      "There are 210 eigenvectors belonging to STRAND1.\n",
      "There are 189 eigenvectors belonging to STRAND2.\n",
      "Sum of two strands: 399\n",
      "Thare are 399 nodes.\n",
      "Initialize adjacency, degree and Laplacian matrices... Done.\n",
      "Finish the setup for Laplaican matrix.\n",
      "Total number of nodes: 399\n",
      "There are 210 eigenvectors belonging to STRAND1.\n",
      "There are 189 eigenvectors belonging to STRAND2.\n",
      "Sum of two strands: 399\n",
      "Thare are 399 nodes.\n",
      "Initialize adjacency, degree and Laplacian matrices... Done.\n",
      "Finish the setup for Laplaican matrix.\n",
      "Total number of nodes: 399\n",
      "There are 210 eigenvectors belonging to STRAND1.\n",
      "There are 189 eigenvectors belonging to STRAND2.\n",
      "Sum of two strands: 399\n",
      "Thare are 399 nodes.\n",
      "Initialize adjacency, degree and Laplacian matrices... Done.\n",
      "Finish the setup for Laplaican matrix.\n",
      "Total number of nodes: 399\n",
      "There are 209 eigenvectors belonging to STRAND1.\n",
      "There are 190 eigenvectors belonging to STRAND2.\n",
      "Sum of two strands: 399\n",
      "Thare are 399 nodes.\n",
      "Initialize adjacency, degree and Laplacian matrices... Done.\n",
      "Finish the setup for Laplaican matrix.\n",
      "Total number of nodes: 399\n",
      "There are 211 eigenvectors belonging to STRAND1.\n",
      "There are 188 eigenvectors belonging to STRAND2.\n",
      "Sum of two strands: 399\n",
      "Thare are 399 nodes.\n",
      "Initialize adjacency, degree and Laplacian matrices... Done.\n",
      "Finish the setup for Laplaican matrix.\n",
      "Total number of nodes: 399\n",
      "There are 211 eigenvectors belonging to STRAND1.\n",
      "There are 188 eigenvectors belonging to STRAND2.\n",
      "Sum of two strands: 399\n",
      "Thare are 399 nodes.\n",
      "Initialize adjacency, degree and Laplacian matrices... Done.\n",
      "Finish the setup for Laplaican matrix.\n",
      "Total number of nodes: 399\n",
      "There are 211 eigenvectors belonging to STRAND1.\n",
      "There are 188 eigenvectors belonging to STRAND2.\n",
      "Sum of two strands: 399\n",
      "Thare are 399 nodes.\n",
      "Initialize adjacency, degree and Laplacian matrices... Done.\n",
      "Finish the setup for Laplaican matrix.\n",
      "Total number of nodes: 399\n",
      "There are 211 eigenvectors belonging to STRAND1.\n",
      "There are 188 eigenvectors belonging to STRAND2.\n",
      "Sum of two strands: 399\n",
      "Thare are 399 nodes.\n",
      "Initialize adjacency, degree and Laplacian matrices... Done.\n",
      "Finish the setup for Laplaican matrix.\n",
      "Total number of nodes: 399\n",
      "There are 211 eigenvectors belonging to STRAND1.\n",
      "There are 188 eigenvectors belonging to STRAND2.\n",
      "Sum of two strands: 399\n",
      "Thare are 399 nodes.\n",
      "Initialize adjacency, degree and Laplacian matrices... Done.\n",
      "Finish the setup for Laplaican matrix.\n",
      "Total number of nodes: 399\n",
      "There are 211 eigenvectors belonging to STRAND1.\n",
      "There are 188 eigenvectors belonging to STRAND2.\n",
      "Sum of two strands: 399\n",
      "Thare are 399 nodes.\n",
      "Initialize adjacency, degree and Laplacian matrices... Done.\n",
      "Finish the setup for Laplaican matrix.\n",
      "Total number of nodes: 399\n",
      "There are 211 eigenvectors belonging to STRAND1.\n",
      "There are 188 eigenvectors belonging to STRAND2.\n",
      "Sum of two strands: 399\n",
      "Thare are 399 nodes.\n",
      "Initialize adjacency, degree and Laplacian matrices... Done.\n",
      "Finish the setup for Laplaican matrix.\n",
      "Total number of nodes: 399\n",
      "There are 211 eigenvectors belonging to STRAND1.\n",
      "There are 188 eigenvectors belonging to STRAND2.\n",
      "Sum of two strands: 399\n",
      "Thare are 399 nodes.\n",
      "Initialize adjacency, degree and Laplacian matrices... Done.\n",
      "Finish the setup for Laplaican matrix.\n",
      "Total number of nodes: 399\n",
      "There are 211 eigenvectors belonging to STRAND1.\n",
      "There are 188 eigenvectors belonging to STRAND2.\n",
      "Sum of two strands: 399\n",
      "Thare are 399 nodes.\n",
      "Initialize adjacency, degree and Laplacian matrices... Done.\n",
      "Finish the setup for Laplaican matrix.\n",
      "Total number of nodes: 399\n",
      "There are 211 eigenvectors belonging to STRAND1.\n",
      "There are 188 eigenvectors belonging to STRAND2.\n",
      "Sum of two strands: 399\n",
      "Thare are 399 nodes.\n",
      "Initialize adjacency, degree and Laplacian matrices... Done.\n",
      "Finish the setup for Laplaican matrix.\n",
      "Total number of nodes: 399\n",
      "There are 211 eigenvectors belonging to STRAND1.\n",
      "There are 188 eigenvectors belonging to STRAND2.\n",
      "Sum of two strands: 399\n",
      "Thare are 399 nodes.\n",
      "Initialize adjacency, degree and Laplacian matrices... Done.\n",
      "Finish the setup for Laplaican matrix.\n",
      "Total number of nodes: 399\n",
      "There are 211 eigenvectors belonging to STRAND1.\n",
      "There are 188 eigenvectors belonging to STRAND2.\n",
      "Sum of two strands: 399\n",
      "Thare are 399 nodes.\n",
      "Initialize adjacency, degree and Laplacian matrices... Done.\n",
      "Finish the setup for Laplaican matrix.\n",
      "Total number of nodes: 399\n",
      "There are 211 eigenvectors belonging to STRAND1.\n",
      "There are 188 eigenvectors belonging to STRAND2.\n",
      "Sum of two strands: 399\n"
     ]
    }
   ],
   "source": [
    "execute = False\n",
    "if execute:\n",
    "    p_agent.initialize_small_agents()"
   ]
  },
  {
   "cell_type": "markdown",
   "metadata": {},
   "source": [
    "### Part 3: Make/Read $\\left< r_{\\alpha '}\\right>$"
   ]
  },
  {
   "cell_type": "code",
   "execution_count": 4,
   "metadata": {},
   "outputs": [
    {
     "name": "stdout",
     "output_type": "stream",
     "text": [
      "Save mean_r_alpha_array into /home/ytcdata/bigtraj_fluctmatch/500ns/a_tract_21mer/mean_mode_npy/mean_r_alpha.npy\n"
     ]
    }
   ],
   "source": [
    "p_agent.set_mean_r_alpha_array()\n",
    "p_agent.save_mean_r_alpha_array()"
   ]
  },
  {
   "cell_type": "code",
   "execution_count": 3,
   "metadata": {},
   "outputs": [
    {
     "name": "stdout",
     "output_type": "stream",
     "text": [
      "Load mean_r_alpha_array from /home/ytcdata/bigtraj_fluctmatch/500ns/a_tract_21mer/mean_mode_npy/mean_r_alpha.npy\n"
     ]
    }
   ],
   "source": [
    "p_agent.load_mean_r_alpha_array()"
   ]
  },
  {
   "cell_type": "markdown",
   "metadata": {},
   "source": [
    "### Part 4: Plot"
   ]
  },
  {
   "cell_type": "code",
   "execution_count": 4,
   "metadata": {
    "collapsed": true,
    "jupyter": {
     "outputs_hidden": true
    }
   },
   "outputs": [
    {
     "name": "stdout",
     "output_type": "stream",
     "text": [
      "/home/ytcdata/bigtraj_fluctmatch/500ns/a_tract_21mer/mean_mode_npy exists\n",
      "/home/ytcdata/bigtraj_fluctmatch/500ns/a_tract_21mer/bdna+bdna/0_500/pd_dfs exists\n",
      "/home/ytcdata/bigtraj_fluctmatch/500ns/a_tract_21mer/bdna+bdna/250_750/pd_dfs exists\n",
      "/home/ytcdata/bigtraj_fluctmatch/500ns/a_tract_21mer/bdna+bdna/500_1000/pd_dfs exists\n",
      "/home/ytcdata/bigtraj_fluctmatch/500ns/a_tract_21mer/bdna+bdna/750_1250/pd_dfs exists\n",
      "/home/ytcdata/bigtraj_fluctmatch/500ns/a_tract_21mer/bdna+bdna/1000_1500/pd_dfs exists\n",
      "/home/ytcdata/bigtraj_fluctmatch/500ns/a_tract_21mer/bdna+bdna/1250_1750/pd_dfs exists\n",
      "/home/ytcdata/bigtraj_fluctmatch/500ns/a_tract_21mer/bdna+bdna/1500_2000/pd_dfs exists\n",
      "/home/ytcdata/bigtraj_fluctmatch/500ns/a_tract_21mer/bdna+bdna/1750_2250/pd_dfs exists\n",
      "/home/ytcdata/bigtraj_fluctmatch/500ns/a_tract_21mer/bdna+bdna/2000_2500/pd_dfs exists\n",
      "/home/ytcdata/bigtraj_fluctmatch/500ns/a_tract_21mer/bdna+bdna/2250_2750/pd_dfs exists\n",
      "/home/ytcdata/bigtraj_fluctmatch/500ns/a_tract_21mer/bdna+bdna/2500_3000/pd_dfs exists\n",
      "/home/ytcdata/bigtraj_fluctmatch/500ns/a_tract_21mer/bdna+bdna/2750_3250/pd_dfs exists\n",
      "/home/ytcdata/bigtraj_fluctmatch/500ns/a_tract_21mer/bdna+bdna/3000_3500/pd_dfs exists\n",
      "/home/ytcdata/bigtraj_fluctmatch/500ns/a_tract_21mer/bdna+bdna/3250_3750/pd_dfs exists\n",
      "/home/ytcdata/bigtraj_fluctmatch/500ns/a_tract_21mer/bdna+bdna/3500_4000/pd_dfs exists\n",
      "/home/ytcdata/bigtraj_fluctmatch/500ns/a_tract_21mer/bdna+bdna/3750_4250/pd_dfs exists\n",
      "/home/ytcdata/bigtraj_fluctmatch/500ns/a_tract_21mer/bdna+bdna/4000_4500/pd_dfs exists\n",
      "/home/ytcdata/bigtraj_fluctmatch/500ns/a_tract_21mer/bdna+bdna/4250_4750/pd_dfs exists\n",
      "/home/ytcdata/bigtraj_fluctmatch/500ns/a_tract_21mer/bdna+bdna/4500_5000/pd_dfs exists\n",
      "Load laplacian_mat from /home/ytcdata/bigtraj_fluctmatch/500ns/a_tract_21mer/mean_mode_npy/laplacian_backbone.npy\n",
      "Load mean_r_alpha_array from /home/ytcdata/bigtraj_fluctmatch/500ns/a_tract_21mer/mean_mode_npy/mean_r_alpha_backbone.npy\n",
      "/home/ytcdata/bigtraj_fluctmatch/500ns/tat_21mer/mean_mode_npy exists\n",
      "/home/ytcdata/bigtraj_fluctmatch/500ns/tat_21mer/bdna+bdna/0_500/pd_dfs exists\n",
      "/home/ytcdata/bigtraj_fluctmatch/500ns/tat_21mer/bdna+bdna/250_750/pd_dfs exists\n",
      "/home/ytcdata/bigtraj_fluctmatch/500ns/tat_21mer/bdna+bdna/500_1000/pd_dfs exists\n",
      "/home/ytcdata/bigtraj_fluctmatch/500ns/tat_21mer/bdna+bdna/750_1250/pd_dfs exists\n",
      "/home/ytcdata/bigtraj_fluctmatch/500ns/tat_21mer/bdna+bdna/1000_1500/pd_dfs exists\n",
      "/home/ytcdata/bigtraj_fluctmatch/500ns/tat_21mer/bdna+bdna/1250_1750/pd_dfs exists\n",
      "/home/ytcdata/bigtraj_fluctmatch/500ns/tat_21mer/bdna+bdna/1500_2000/pd_dfs exists\n",
      "/home/ytcdata/bigtraj_fluctmatch/500ns/tat_21mer/bdna+bdna/1750_2250/pd_dfs exists\n",
      "/home/ytcdata/bigtraj_fluctmatch/500ns/tat_21mer/bdna+bdna/2000_2500/pd_dfs exists\n",
      "/home/ytcdata/bigtraj_fluctmatch/500ns/tat_21mer/bdna+bdna/2250_2750/pd_dfs exists\n",
      "/home/ytcdata/bigtraj_fluctmatch/500ns/tat_21mer/bdna+bdna/2500_3000/pd_dfs exists\n",
      "/home/ytcdata/bigtraj_fluctmatch/500ns/tat_21mer/bdna+bdna/2750_3250/pd_dfs exists\n",
      "/home/ytcdata/bigtraj_fluctmatch/500ns/tat_21mer/bdna+bdna/3000_3500/pd_dfs exists\n",
      "/home/ytcdata/bigtraj_fluctmatch/500ns/tat_21mer/bdna+bdna/3250_3750/pd_dfs exists\n",
      "/home/ytcdata/bigtraj_fluctmatch/500ns/tat_21mer/bdna+bdna/3500_4000/pd_dfs exists\n",
      "/home/ytcdata/bigtraj_fluctmatch/500ns/tat_21mer/bdna+bdna/3750_4250/pd_dfs exists\n",
      "/home/ytcdata/bigtraj_fluctmatch/500ns/tat_21mer/bdna+bdna/4000_4500/pd_dfs exists\n",
      "/home/ytcdata/bigtraj_fluctmatch/500ns/tat_21mer/bdna+bdna/4250_4750/pd_dfs exists\n",
      "/home/ytcdata/bigtraj_fluctmatch/500ns/tat_21mer/bdna+bdna/4500_5000/pd_dfs exists\n",
      "Load laplacian_mat from /home/ytcdata/bigtraj_fluctmatch/500ns/tat_21mer/mean_mode_npy/laplacian_backbone.npy\n",
      "Load mean_r_alpha_array from /home/ytcdata/bigtraj_fluctmatch/500ns/tat_21mer/mean_mode_npy/mean_r_alpha_backbone.npy\n",
      "/home/ytcdata/bigtraj_fluctmatch/500ns/g_tract_21mer/mean_mode_npy exists\n",
      "/home/ytcdata/bigtraj_fluctmatch/500ns/g_tract_21mer/bdna+bdna/0_500/pd_dfs exists\n",
      "/home/ytcdata/bigtraj_fluctmatch/500ns/g_tract_21mer/bdna+bdna/250_750/pd_dfs exists\n",
      "/home/ytcdata/bigtraj_fluctmatch/500ns/g_tract_21mer/bdna+bdna/500_1000/pd_dfs exists\n",
      "/home/ytcdata/bigtraj_fluctmatch/500ns/g_tract_21mer/bdna+bdna/750_1250/pd_dfs exists\n",
      "/home/ytcdata/bigtraj_fluctmatch/500ns/g_tract_21mer/bdna+bdna/1000_1500/pd_dfs exists\n",
      "/home/ytcdata/bigtraj_fluctmatch/500ns/g_tract_21mer/bdna+bdna/1250_1750/pd_dfs exists\n",
      "/home/ytcdata/bigtraj_fluctmatch/500ns/g_tract_21mer/bdna+bdna/1500_2000/pd_dfs exists\n",
      "/home/ytcdata/bigtraj_fluctmatch/500ns/g_tract_21mer/bdna+bdna/1750_2250/pd_dfs exists\n",
      "/home/ytcdata/bigtraj_fluctmatch/500ns/g_tract_21mer/bdna+bdna/2000_2500/pd_dfs exists\n",
      "/home/ytcdata/bigtraj_fluctmatch/500ns/g_tract_21mer/bdna+bdna/2250_2750/pd_dfs exists\n",
      "/home/ytcdata/bigtraj_fluctmatch/500ns/g_tract_21mer/bdna+bdna/2500_3000/pd_dfs exists\n",
      "/home/ytcdata/bigtraj_fluctmatch/500ns/g_tract_21mer/bdna+bdna/2750_3250/pd_dfs exists\n",
      "/home/ytcdata/bigtraj_fluctmatch/500ns/g_tract_21mer/bdna+bdna/3000_3500/pd_dfs exists\n",
      "/home/ytcdata/bigtraj_fluctmatch/500ns/g_tract_21mer/bdna+bdna/3250_3750/pd_dfs exists\n",
      "/home/ytcdata/bigtraj_fluctmatch/500ns/g_tract_21mer/bdna+bdna/3500_4000/pd_dfs exists\n",
      "/home/ytcdata/bigtraj_fluctmatch/500ns/g_tract_21mer/bdna+bdna/3750_4250/pd_dfs exists\n",
      "/home/ytcdata/bigtraj_fluctmatch/500ns/g_tract_21mer/bdna+bdna/4000_4500/pd_dfs exists\n",
      "/home/ytcdata/bigtraj_fluctmatch/500ns/g_tract_21mer/bdna+bdna/4250_4750/pd_dfs exists\n",
      "/home/ytcdata/bigtraj_fluctmatch/500ns/g_tract_21mer/bdna+bdna/4500_5000/pd_dfs exists\n",
      "Load laplacian_mat from /home/ytcdata/bigtraj_fluctmatch/500ns/g_tract_21mer/mean_mode_npy/laplacian_backbone.npy\n",
      "Load mean_r_alpha_array from /home/ytcdata/bigtraj_fluctmatch/500ns/g_tract_21mer/mean_mode_npy/mean_r_alpha_backbone.npy\n",
      "/home/ytcdata/bigtraj_fluctmatch/500ns/gcgc_21mer/mean_mode_npy exists\n",
      "/home/ytcdata/bigtraj_fluctmatch/500ns/gcgc_21mer/bdna+bdna/0_500/pd_dfs exists\n",
      "/home/ytcdata/bigtraj_fluctmatch/500ns/gcgc_21mer/bdna+bdna/250_750/pd_dfs exists\n",
      "/home/ytcdata/bigtraj_fluctmatch/500ns/gcgc_21mer/bdna+bdna/500_1000/pd_dfs exists\n",
      "/home/ytcdata/bigtraj_fluctmatch/500ns/gcgc_21mer/bdna+bdna/750_1250/pd_dfs exists\n",
      "/home/ytcdata/bigtraj_fluctmatch/500ns/gcgc_21mer/bdna+bdna/1000_1500/pd_dfs exists\n",
      "/home/ytcdata/bigtraj_fluctmatch/500ns/gcgc_21mer/bdna+bdna/1250_1750/pd_dfs exists\n",
      "/home/ytcdata/bigtraj_fluctmatch/500ns/gcgc_21mer/bdna+bdna/1500_2000/pd_dfs exists\n",
      "/home/ytcdata/bigtraj_fluctmatch/500ns/gcgc_21mer/bdna+bdna/1750_2250/pd_dfs exists\n",
      "/home/ytcdata/bigtraj_fluctmatch/500ns/gcgc_21mer/bdna+bdna/2000_2500/pd_dfs exists\n",
      "/home/ytcdata/bigtraj_fluctmatch/500ns/gcgc_21mer/bdna+bdna/2250_2750/pd_dfs exists\n",
      "/home/ytcdata/bigtraj_fluctmatch/500ns/gcgc_21mer/bdna+bdna/2500_3000/pd_dfs exists\n",
      "/home/ytcdata/bigtraj_fluctmatch/500ns/gcgc_21mer/bdna+bdna/2750_3250/pd_dfs exists\n",
      "/home/ytcdata/bigtraj_fluctmatch/500ns/gcgc_21mer/bdna+bdna/3000_3500/pd_dfs exists\n",
      "/home/ytcdata/bigtraj_fluctmatch/500ns/gcgc_21mer/bdna+bdna/3250_3750/pd_dfs exists\n",
      "/home/ytcdata/bigtraj_fluctmatch/500ns/gcgc_21mer/bdna+bdna/3500_4000/pd_dfs exists\n",
      "/home/ytcdata/bigtraj_fluctmatch/500ns/gcgc_21mer/bdna+bdna/3750_4250/pd_dfs exists\n",
      "/home/ytcdata/bigtraj_fluctmatch/500ns/gcgc_21mer/bdna+bdna/4000_4500/pd_dfs exists\n",
      "/home/ytcdata/bigtraj_fluctmatch/500ns/gcgc_21mer/bdna+bdna/4250_4750/pd_dfs exists\n",
      "/home/ytcdata/bigtraj_fluctmatch/500ns/gcgc_21mer/bdna+bdna/4500_5000/pd_dfs exists\n",
      "Load laplacian_mat from /home/ytcdata/bigtraj_fluctmatch/500ns/gcgc_21mer/mean_mode_npy/laplacian_backbone.npy\n",
      "Load mean_r_alpha_array from /home/ytcdata/bigtraj_fluctmatch/500ns/gcgc_21mer/mean_mode_npy/mean_r_alpha_backbone.npy\n"
     ]
    }
   ],
   "source": [
    "hosts = ['a_tract_21mer', 'tat_21mer', 'g_tract_21mer', 'gcgc_21mer']\n",
    "d_axes_col_row = {'a_tract_21mer': (0,0), 'tat_21mer': (0,1), 'g_tract_21mer': (1,0), 'gcgc_21mer': (1,1)}\n",
    "d_data = dict()\n",
    "for host in hosts:\n",
    "    p_agent = ProminentModesBackbone(host, rootfolder, interval_time)\n",
    "    p_agent.load_mean_r_alpha_array()\n",
    "    d_data[host] = {'mean_r_alpha_array': p_agent.mean_r_alpha_array, 'lambda_array': p_agent.mean_modes_w}"
   ]
  },
  {
   "cell_type": "code",
   "execution_count": 6,
   "metadata": {},
   "outputs": [
    {
     "data": {
      "image/png": "[encoded data removed]",
      "text/plain": [
       "<Figure size 864x576 with 4 Axes>"
      ]
     },
     "metadata": {},
     "output_type": "display_data"
    }
   ],
   "source": [
    "fig, axes = plt.subplots(nrows=2, ncols=2, figsize=(12, 8), facecolor=\"white\")\n",
    "\n",
    "ylims = (0,1.05)\n",
    "xlims = (-1,502)\n",
    "\n",
    "for host in hosts:\n",
    "    ax = axes[d_axes_col_row[host]]\n",
    "    x = d_data[host]['lambda_array']\n",
    "    y = d_data[host]['mean_r_alpha_array']\n",
    "    ax.scatter(x, y, s=5)\n",
    "    ax.set_xlabel(r'$\\lambda_{\\alpha}$', fontsize=14)\n",
    "    ax.set_ylabel(r'$\\left< r_{\\alpha}\\right>$', fontsize=14)\n",
    "    ax.set_xlim(xlims)\n",
    "    ax.set_ylim(ylims)\n",
    "    title = Abbreviation.get_abbreviation(host)\n",
    "    ax.set_title(title,fontsize=16)\n",
    "\n",
    "plt.tight_layout()\n",
    "#plt.savefig('/home/yizaochen/Desktop/drawzone_temp/prominent_mode_backbone_500ns.png', dpi=200, transparent=False)\n",
    "plt.show()"
   ]
  },
  {
   "cell_type": "markdown",
   "metadata": {},
   "source": [
    "### Batch Run"
   ]
  },
  {
   "cell_type": "code",
   "execution_count": null,
   "metadata": {},
   "outputs": [],
   "source": [
    "hosts = ['a_tract_21mer', 'g_tract_21mer', 'gcgc_21mer', 'tat_21mer']\n",
    "interval_time = 500\n",
    "for host in hosts:\n",
    "    #p_agent = ProminentModesBackbone(host, rootfolder, interval_time)\n",
    "    #p_agent.initialize_small_agents()\n",
    "    #p_agent.set_mean_r_alpha_array()\n",
    "    #p_agent.save_mean_r_alpha_array()"
   ]
  },
  {
   "cell_type": "code",
   "execution_count": null,
   "metadata": {},
   "outputs": [],
   "source": []
  }
 ],
 "metadata": {
  "kernelspec": {
   "display_name": "Python 3",
   "language": "python",
   "name": "python3"
  },
  "language_info": {
   "codemirror_mode": {
    "name": "ipython",
    "version": 3
   },
   "file_extension": ".py",
   "mimetype": "text/x-python",
   "name": "python",
   "nbconvert_exporter": "python",
   "pygments_lexer": "ipython3",
   "version": "3.8.5"
  }
 },
 "nbformat": 4,
 "nbformat_minor": 4
}
