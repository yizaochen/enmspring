{
 "cells": [
  {
   "cell_type": "code",
   "execution_count": 1,
   "metadata": {},
   "outputs": [],
   "source": [
    "import numpy as np\n",
    "import matplotlib.pyplot as plt\n",
    "from matplotlib.colors import Normalize\n",
    "from matplotlib.colors import LinearSegmentedColormap\n",
    "from matplotlib.colorbar import ColorbarBase\n",
    "from matplotlib import cm\n",
    "from enmspring.graphs_bigtraj import BackboneMeanModeAgent\n",
    "from enmspring.kappa_mat import KMat\n",
    "from enmspring.kappa_mat_backbone import KappaBackboneWithNext, KappaStrandBackbone, MeanKappaStrandBackboneWithNext, MeanKappaStrandHetreoBackboneWithNext\n",
    "from enmspring.na_seq import sequences\n",
    "rootfolder = '/home/ytcdata/bigtraj_fluctmatch/500ns'"
   ]
  },
  {
   "cell_type": "markdown",
   "metadata": {},
   "source": [
    "### Part 1: Initialize s-agent"
   ]
  },
  {
   "cell_type": "code",
   "execution_count": 2,
   "metadata": {},
   "outputs": [
    {
     "name": "stdout",
     "output_type": "stream",
     "text": [
      "/home/ytcdata/bigtraj_fluctmatch/500ns/atat_21mer/mean_mode_npy exists\n",
      "/home/ytcdata/bigtraj_fluctmatch/500ns/atat_21mer/bdna+bdna/0_500/pd_dfs exists\n",
      "/home/ytcdata/bigtraj_fluctmatch/500ns/atat_21mer/bdna+bdna/250_750/pd_dfs exists\n",
      "/home/ytcdata/bigtraj_fluctmatch/500ns/atat_21mer/bdna+bdna/500_1000/pd_dfs exists\n",
      "/home/ytcdata/bigtraj_fluctmatch/500ns/atat_21mer/bdna+bdna/750_1250/pd_dfs exists\n",
      "/home/ytcdata/bigtraj_fluctmatch/500ns/atat_21mer/bdna+bdna/1000_1500/pd_dfs exists\n",
      "/home/ytcdata/bigtraj_fluctmatch/500ns/atat_21mer/bdna+bdna/1250_1750/pd_dfs exists\n",
      "/home/ytcdata/bigtraj_fluctmatch/500ns/atat_21mer/bdna+bdna/1500_2000/pd_dfs exists\n",
      "/home/ytcdata/bigtraj_fluctmatch/500ns/atat_21mer/bdna+bdna/1750_2250/pd_dfs exists\n",
      "/home/ytcdata/bigtraj_fluctmatch/500ns/atat_21mer/bdna+bdna/2000_2500/pd_dfs exists\n",
      "/home/ytcdata/bigtraj_fluctmatch/500ns/atat_21mer/bdna+bdna/2250_2750/pd_dfs exists\n",
      "/home/ytcdata/bigtraj_fluctmatch/500ns/atat_21mer/bdna+bdna/2500_3000/pd_dfs exists\n",
      "/home/ytcdata/bigtraj_fluctmatch/500ns/atat_21mer/bdna+bdna/2750_3250/pd_dfs exists\n",
      "/home/ytcdata/bigtraj_fluctmatch/500ns/atat_21mer/bdna+bdna/3000_3500/pd_dfs exists\n",
      "/home/ytcdata/bigtraj_fluctmatch/500ns/atat_21mer/bdna+bdna/3250_3750/pd_dfs exists\n",
      "/home/ytcdata/bigtraj_fluctmatch/500ns/atat_21mer/bdna+bdna/3500_4000/pd_dfs exists\n",
      "/home/ytcdata/bigtraj_fluctmatch/500ns/atat_21mer/bdna+bdna/3750_4250/pd_dfs exists\n",
      "/home/ytcdata/bigtraj_fluctmatch/500ns/atat_21mer/bdna+bdna/4000_4500/pd_dfs exists\n",
      "/home/ytcdata/bigtraj_fluctmatch/500ns/atat_21mer/bdna+bdna/4250_4750/pd_dfs exists\n",
      "/home/ytcdata/bigtraj_fluctmatch/500ns/atat_21mer/bdna+bdna/4500_5000/pd_dfs exists\n"
     ]
    }
   ],
   "source": [
    "host = 'gcgc_21mer'\n",
    "interval_time = 500\n",
    "s_agent = BackboneMeanModeAgent(host, rootfolder, interval_time)"
   ]
  },
  {
   "cell_type": "markdown",
   "metadata": {},
   "source": [
    "### Part 2: Initialize k-agent"
   ]
  },
  {
   "cell_type": "code",
   "execution_count": 3,
   "metadata": {},
   "outputs": [
    {
     "name": "stdout",
     "output_type": "stream",
     "text": [
      "Load laplacian_mat from /home/ytcdata/bigtraj_fluctmatch/500ns/atat_21mer/mean_mode_npy/laplacian_backbone.npy\n",
      "Thare are 855 nodes.\n",
      "Total number of nodes: 855\n",
      "There are 428 eigenvectors belonging to STRAND1.\n",
      "There are 427 eigenvectors belonging to STRAND2.\n",
      "Sum of two strands: 855\n"
     ]
    }
   ],
   "source": [
    "kmat_agent = KMat(s_agent)"
   ]
  },
  {
   "cell_type": "markdown",
   "metadata": {},
   "source": [
    "### Part 3: Set Strand ID"
   ]
  },
  {
   "cell_type": "code",
   "execution_count": 4,
   "metadata": {},
   "outputs": [],
   "source": [
    "strand_id = 'STRAND1' #  STRAND1, STRAND2"
   ]
  },
  {
   "cell_type": "markdown",
   "metadata": {},
   "source": [
    "### Part 4: Get K-mat"
   ]
  },
  {
   "cell_type": "code",
   "execution_count": 10,
   "metadata": {
    "jupyter": {
     "source_hidden": true
    }
   },
   "outputs": [
    {
     "name": "stdout",
     "output_type": "stream",
     "text": [
      "Minimum: -0.000\n",
      "Maximum: 29.556\n"
     ]
    }
   ],
   "source": [
    "# Set start-mode, end-mode\n",
    "m = 1 # start mode\n",
    "n = s_agent.get_last_mode_by_strand_id(strand_id) # end mode\n",
    "\n",
    "mode_list = list(range(m, n+1))\n",
    "kmat = kmat_agent.get_K_mat_by_strandid_modelist(strand_id, mode_list)\n",
    "kmat = kmat_agent.set_diagonal_zero(kmat)\n",
    "print(f'Minimum: {kmat.min():.3f}')\n",
    "print(f'Maximum: {kmat.max():.3f}')\n",
    "#kmat[np.where(kmat > 5)]"
   ]
  },
  {
   "cell_type": "markdown",
   "metadata": {},
   "source": [
    "### Part 5: Set Normalize"
   ]
  },
  {
   "cell_type": "code",
   "execution_count": 5,
   "metadata": {},
   "outputs": [],
   "source": [
    "vmin = 2\n",
    "vmax = 10\n",
    "norm = Normalize(vmin=vmin, vmax=vmax)"
   ]
  },
  {
   "cell_type": "markdown",
   "metadata": {},
   "source": [
    "### Part 6: Build $\\kappa$"
   ]
  },
  {
   "cell_type": "code",
   "execution_count": 7,
   "metadata": {
    "jupyter": {
     "source_hidden": true
    }
   },
   "outputs": [],
   "source": [
    "d_seq = {'STRAND1': sequences[host]['guide'], 'STRAND2': sequences[host]['target']}\n",
    "seq = d_seq[strand_id]\n",
    "dmap = s_agent.get_map_idx_from_strand_resid_atomname()"
   ]
  },
  {
   "cell_type": "code",
   "execution_count": 8,
   "metadata": {
    "jupyter": {
     "source_hidden": true
    }
   },
   "outputs": [],
   "source": [
    "resid_i = 11\n",
    "k_agent = KappaBackboneWithNext(host, strand_id, resid_i, s_agent, dmap, seq)"
   ]
  },
  {
   "cell_type": "code",
   "execution_count": 10,
   "metadata": {
    "collapsed": true,
    "jupyter": {
     "outputs_hidden": true,
     "source_hidden": true
    }
   },
   "outputs": [
    {
     "data": {
      "image/png": "[encoded data removed]",
      "text/plain": [
       "<Figure size 288x288 with 1 Axes>"
      ]
     },
     "metadata": {
      "needs_background": "light"
     },
     "output_type": "display_data"
    }
   ],
   "source": [
    "fig, ax = plt.subplots(figsize=(4, 4))\n",
    "im = k_agent.heatmap(ax, kmat, norm)\n",
    "plt.tight_layout()\n",
    "plt.show()"
   ]
  },
  {
   "cell_type": "markdown",
   "metadata": {},
   "source": [
    "### Part 7: Strand Plot"
   ]
  },
  {
   "cell_type": "code",
   "execution_count": 22,
   "metadata": {
    "jupyter": {
     "source_hidden": true
    }
   },
   "outputs": [],
   "source": [
    "ks_agent = KappaStrandBackbone(host, strand_id, s_agent, kmat_agent)"
   ]
  },
  {
   "cell_type": "code",
   "execution_count": 23,
   "metadata": {
    "collapsed": true,
    "jupyter": {
     "outputs_hidden": true,
     "source_hidden": true
    }
   },
   "outputs": [
    {
     "data": {
      "image/png": "[encoded data removed]",
      "text/plain": [
       "<Figure size 1440x432 with 14 Axes>"
      ]
     },
     "metadata": {},
     "output_type": "display_data"
    }
   ],
   "source": [
    "figsize = (20, 6)\n",
    "fig, d_axes = ks_agent.plot_all_heatmap(figsize, m, n, vmin, vmax, lbfz=8, tickfz=4)\n",
    "plt.tight_layout()\n",
    "#plt.savefig(f'/home/yizaochen/Desktop/drawzone_temp/{host}_{strand_id}_{m}_{n}.png', dpi=200, transparent=False)\n",
    "plt.show()"
   ]
  },
  {
   "cell_type": "markdown",
   "metadata": {},
   "source": [
    "### Part 8: Mean Kappa"
   ]
  },
  {
   "cell_type": "code",
   "execution_count": 9,
   "metadata": {},
   "outputs": [],
   "source": [
    "if host in ['a_tract_21mer', 'g_tract_21mer']:\n",
    "    m_agent = MeanKappaStrandBackboneWithNext(host, strand_id, s_agent, kmat_agent)\n",
    "elif host in ['atat_21mer', 'gcgc_21mer']:\n",
    "    basetype_i = 'T' # 'A', 'T', 'G', 'C'\n",
    "    m_agent = MeanKappaStrandHetreoBackboneWithNext(host, basetype_i, s_agent, kmat_agent)"
   ]
  },
  {
   "cell_type": "code",
   "execution_count": 10,
   "metadata": {},
   "outputs": [],
   "source": [
    "# Set start-mode, end-mode\n",
    "if host in ['a_tract_21mer', 'g_tract_21mer']:\n",
    "    m = 1 # start mode\n",
    "    n = s_agent.get_last_mode_by_strand_id(strand_id) # end mode\n",
    "elif host in ['atat_21mer', 'gcgc_21mer']:\n",
    "    m = 1 # start mode\n",
    "    n = s_agent.get_last_mode_by_strand_id('STRAND1') + s_agent.get_last_mode_by_strand_id('STRAND2') # end mode\n",
    "dot_criteria = 3."
   ]
  },
  {
   "cell_type": "code",
   "execution_count": 11,
   "metadata": {},
   "outputs": [
    {
     "data": {
      "image/png": "[encoded data removed]",
      "text/plain": [
       "<Figure size 288x288 with 1 Axes>"
      ]
     },
     "metadata": {},
     "output_type": "display_data"
    }
   ],
   "source": [
    "figsize = (4, 4)\n",
    "\n",
    "fig, im_j, axes = m_agent.plot_mean_heatmap_single(figsize, m, n, vmin, vmax, dot_criteria)\n",
    "plt.tight_layout()\n",
    "\n",
    "if host in ['a_tract_21mer', 'g_tract_21mer']:\n",
    "    plt.savefig(f'/home/yizaochen/Desktop/drawzone_temp/{host}_{strand_id}_{m}_{n}.svg', dpi=300, transparent=False)\n",
    "elif host in ['atat_21mer', 'gcgc_21mer']:\n",
    "    plt.savefig(f'/home/yizaochen/Desktop/drawzone_temp/{host}_{basetype_i}_{m}_{n}.svg', dpi=300, transparent=False)\n",
    "plt.show()"
   ]
  },
  {
   "cell_type": "markdown",
   "metadata": {},
   "source": [
    "### Color Bar"
   ]
  },
  {
   "cell_type": "code",
   "execution_count": 13,
   "metadata": {},
   "outputs": [],
   "source": [
    "CMAP = LinearSegmentedColormap.from_list('mycmap', ['white','red'])"
   ]
  },
  {
   "cell_type": "code",
   "execution_count": 15,
   "metadata": {},
   "outputs": [
    {
     "data": {
      "image/png": "[encoded data removed]",
      "text/plain": [
       "<Figure size 72x72 with 1 Axes>"
      ]
     },
     "metadata": {
      "needs_background": "light"
     },
     "output_type": "display_data"
    }
   ],
   "source": [
    "figsize = (1, 1)\n",
    "fig = plt.figure(figsize=figsize)\n",
    "ax1 = fig.add_axes([0.05, 0.80, 0.9, 0.15])\n",
    "norm = Normalize(vmin=vmin, vmax=vmax)\n",
    "cmap = cm.get_cmap(CMAP)\n",
    "cb1 = ColorbarBase(ax1, cmap=cmap, norm=norm, orientation='horizontal')\n",
    "cb1.ax.tick_params(labelsize=4, length=1, pad=1.0, width=0.4)\n",
    "cb1.set_ticks(range(0,11,2))\n",
    "cb1.outline.set_linewidth(0.4)\n",
    "plt.savefig('/home/yizaochen/Desktop/drawzone_temp/colorbar.svg', dpi=300, transparent=True)\n",
    "plt.show()"
   ]
  },
  {
   "cell_type": "code",
   "execution_count": null,
   "metadata": {},
   "outputs": [],
   "source": []
  }
 ],
 "metadata": {
  "kernelspec": {
   "display_name": "Python 3",
   "language": "python",
   "name": "python3"
  },
  "language_info": {
   "codemirror_mode": {
    "name": "ipython",
    "version": 3
   },
   "file_extension": ".py",
   "mimetype": "text/x-python",
   "name": "python",
   "nbconvert_exporter": "python",
   "pygments_lexer": "ipython3",
   "version": "3.8.5"
  }
 },
 "nbformat": 4,
 "nbformat_minor": 4
}
