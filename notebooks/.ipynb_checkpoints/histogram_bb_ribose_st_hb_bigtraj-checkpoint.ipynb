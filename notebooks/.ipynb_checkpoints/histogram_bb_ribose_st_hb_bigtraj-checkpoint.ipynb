{
 "cells": [
  {
   "cell_type": "code",
   "execution_count": 1,
   "metadata": {},
   "outputs": [],
   "source": [
    "import matplotlib.pyplot as plt\n",
    "from enmspring.spring import BigTrajAgent\n",
    "interactions = ['other', 'backbone', 'stack', 'sugar', 'HB']\n",
    "bigtraj_folder = '/home/ytcdata/bigtraj_fluctmatch'"
   ]
  },
  {
   "cell_type": "markdown",
   "metadata": {},
   "source": [
    "### Part 0: Pre-process"
   ]
  },
  {
   "cell_type": "code",
   "execution_count": 2,
   "metadata": {
    "collapsed": true,
    "jupyter": {
     "outputs_hidden": true
    }
   },
   "outputs": [
    {
     "name": "stdout",
     "output_type": "stream",
     "text": [
      "/home/ytcdata/bigtraj_fluctmatch/a_tract_21mer/bdna+bdna/0_1000/pd_dfs exists\n",
      "/home/ytcdata/bigtraj_fluctmatch/a_tract_21mer/bdna+bdna/500_1500/pd_dfs exists\n",
      "/home/ytcdata/bigtraj_fluctmatch/a_tract_21mer/bdna+bdna/1000_2000/pd_dfs exists\n",
      "/home/ytcdata/bigtraj_fluctmatch/a_tract_21mer/bdna+bdna/1500_2500/pd_dfs exists\n",
      "/home/ytcdata/bigtraj_fluctmatch/a_tract_21mer/bdna+bdna/2000_3000/pd_dfs exists\n",
      "/home/ytcdata/bigtraj_fluctmatch/a_tract_21mer/bdna+bdna/2500_3500/pd_dfs exists\n",
      "/home/ytcdata/bigtraj_fluctmatch/a_tract_21mer/bdna+bdna/3000_4000/pd_dfs exists\n",
      "/home/ytcdata/bigtraj_fluctmatch/a_tract_21mer/bdna+bdna/3500_4500/pd_dfs exists\n",
      "/home/ytcdata/bigtraj_fluctmatch/a_tract_21mer/bdna+bdna/4000_5000/pd_dfs exists\n",
      "Read /home/ytcdata/bigtraj_fluctmatch/a_tract_21mer/bdna+bdna/0_1000/pd_dfs/pairtypes_k_b0_cutoff_4.70.csv into df_all_k\n",
      "Read /home/ytcdata/bigtraj_fluctmatch/a_tract_21mer/bdna+bdna/500_1500/pd_dfs/pairtypes_k_b0_cutoff_4.70.csv into df_all_k\n",
      "Read /home/ytcdata/bigtraj_fluctmatch/a_tract_21mer/bdna+bdna/1000_2000/pd_dfs/pairtypes_k_b0_cutoff_4.70.csv into df_all_k\n",
      "Read /home/ytcdata/bigtraj_fluctmatch/a_tract_21mer/bdna+bdna/1500_2500/pd_dfs/pairtypes_k_b0_cutoff_4.70.csv into df_all_k\n",
      "Read /home/ytcdata/bigtraj_fluctmatch/a_tract_21mer/bdna+bdna/2000_3000/pd_dfs/pairtypes_k_b0_cutoff_4.70.csv into df_all_k\n",
      "Read /home/ytcdata/bigtraj_fluctmatch/a_tract_21mer/bdna+bdna/2500_3500/pd_dfs/pairtypes_k_b0_cutoff_4.70.csv into df_all_k\n",
      "Read /home/ytcdata/bigtraj_fluctmatch/a_tract_21mer/bdna+bdna/3000_4000/pd_dfs/pairtypes_k_b0_cutoff_4.70.csv into df_all_k\n",
      "Read /home/ytcdata/bigtraj_fluctmatch/a_tract_21mer/bdna+bdna/3500_4500/pd_dfs/pairtypes_k_b0_cutoff_4.70.csv into df_all_k\n",
      "Read /home/ytcdata/bigtraj_fluctmatch/a_tract_21mer/bdna+bdna/4000_5000/pd_dfs/pairtypes_k_b0_cutoff_4.70.csv into df_all_k\n",
      "Read Dataframe of stacking: df_st\n",
      "Read Dataframe of stacking: df_st\n",
      "Read Dataframe of stacking: df_st\n",
      "Read Dataframe of stacking: df_st\n",
      "Read Dataframe of stacking: df_st\n",
      "Read Dataframe of stacking: df_st\n",
      "Read Dataframe of stacking: df_st\n",
      "Read Dataframe of stacking: df_st\n",
      "Read Dataframe of stacking: df_st\n",
      "Read Dataframe of HB: df_hb\n",
      "Read Dataframe of HB: df_hb\n",
      "Read Dataframe of HB: df_hb\n",
      "Read Dataframe of HB: df_hb\n",
      "Read Dataframe of HB: df_hb\n",
      "Read Dataframe of HB: df_hb\n",
      "Read Dataframe of HB: df_hb\n",
      "Read Dataframe of HB: df_hb\n",
      "Read Dataframe of HB: df_hb\n",
      "/home/ytcdata/bigtraj_fluctmatch/g_tract_21mer/bdna+bdna/0_1000/pd_dfs exists\n",
      "/home/ytcdata/bigtraj_fluctmatch/g_tract_21mer/bdna+bdna/500_1500/pd_dfs exists\n",
      "/home/ytcdata/bigtraj_fluctmatch/g_tract_21mer/bdna+bdna/1000_2000/pd_dfs exists\n",
      "/home/ytcdata/bigtraj_fluctmatch/g_tract_21mer/bdna+bdna/1500_2500/pd_dfs exists\n",
      "/home/ytcdata/bigtraj_fluctmatch/g_tract_21mer/bdna+bdna/2000_3000/pd_dfs exists\n",
      "/home/ytcdata/bigtraj_fluctmatch/g_tract_21mer/bdna+bdna/2500_3500/pd_dfs exists\n",
      "/home/ytcdata/bigtraj_fluctmatch/g_tract_21mer/bdna+bdna/3000_4000/pd_dfs exists\n",
      "/home/ytcdata/bigtraj_fluctmatch/g_tract_21mer/bdna+bdna/3500_4500/pd_dfs exists\n",
      "/home/ytcdata/bigtraj_fluctmatch/g_tract_21mer/bdna+bdna/4000_5000/pd_dfs exists\n",
      "Read /home/ytcdata/bigtraj_fluctmatch/g_tract_21mer/bdna+bdna/0_1000/pd_dfs/pairtypes_k_b0_cutoff_4.70.csv into df_all_k\n",
      "Read /home/ytcdata/bigtraj_fluctmatch/g_tract_21mer/bdna+bdna/500_1500/pd_dfs/pairtypes_k_b0_cutoff_4.70.csv into df_all_k\n",
      "Read /home/ytcdata/bigtraj_fluctmatch/g_tract_21mer/bdna+bdna/1000_2000/pd_dfs/pairtypes_k_b0_cutoff_4.70.csv into df_all_k\n",
      "Read /home/ytcdata/bigtraj_fluctmatch/g_tract_21mer/bdna+bdna/1500_2500/pd_dfs/pairtypes_k_b0_cutoff_4.70.csv into df_all_k\n",
      "Read /home/ytcdata/bigtraj_fluctmatch/g_tract_21mer/bdna+bdna/2000_3000/pd_dfs/pairtypes_k_b0_cutoff_4.70.csv into df_all_k\n",
      "Read /home/ytcdata/bigtraj_fluctmatch/g_tract_21mer/bdna+bdna/2500_3500/pd_dfs/pairtypes_k_b0_cutoff_4.70.csv into df_all_k\n",
      "Read /home/ytcdata/bigtraj_fluctmatch/g_tract_21mer/bdna+bdna/3000_4000/pd_dfs/pairtypes_k_b0_cutoff_4.70.csv into df_all_k\n",
      "Read /home/ytcdata/bigtraj_fluctmatch/g_tract_21mer/bdna+bdna/3500_4500/pd_dfs/pairtypes_k_b0_cutoff_4.70.csv into df_all_k\n",
      "Read /home/ytcdata/bigtraj_fluctmatch/g_tract_21mer/bdna+bdna/4000_5000/pd_dfs/pairtypes_k_b0_cutoff_4.70.csv into df_all_k\n",
      "Read Dataframe of stacking: df_st\n",
      "Read Dataframe of stacking: df_st\n",
      "Read Dataframe of stacking: df_st\n",
      "Read Dataframe of stacking: df_st\n",
      "Read Dataframe of stacking: df_st\n",
      "Read Dataframe of stacking: df_st\n",
      "Read Dataframe of stacking: df_st\n",
      "Read Dataframe of stacking: df_st\n",
      "Read Dataframe of stacking: df_st\n",
      "Read Dataframe of HB: df_hb\n",
      "Read Dataframe of HB: df_hb\n",
      "Read Dataframe of HB: df_hb\n",
      "Read Dataframe of HB: df_hb\n",
      "Read Dataframe of HB: df_hb\n",
      "Read Dataframe of HB: df_hb\n",
      "Read Dataframe of HB: df_hb\n",
      "Read Dataframe of HB: df_hb\n",
      "Read Dataframe of HB: df_hb\n"
     ]
    }
   ],
   "source": [
    "type_na = 'bdna+bdna'\n",
    "only_central = True\n",
    "hosts = ['a_tract_21mer', 'g_tract_21mer']\n",
    "d_results = dict()\n",
    "for host in hosts:\n",
    "    b_agent = BigTrajAgent(host, type_na, bigtraj_folder, only_central)\n",
    "    b_agent.read_all_k_b0_pairtype_df()\n",
    "    b_agent.put_all_df_st_into_dict()\n",
    "    b_agent.put_all_df_hb_into_dict()\n",
    "    b_agent.put_all_df_backbone_into_dict()\n",
    "    b_agent.put_all_df_ribose_into_dict()\n",
    "    \n",
    "    d_results[host] = dict()\n",
    "    d_results[host]['st'] = b_agent.get_k_st_list()\n",
    "    d_results[host]['hb'] = b_agent.get_k_hb_list()\n",
    "    d_results[host]['backbone'] = b_agent.get_k_backbone_list()\n",
    "    d_results[host]['ribose'] = b_agent.get_k_ribose_list()"
   ]
  },
  {
   "cell_type": "markdown",
   "metadata": {},
   "source": [
    "### Part 1: Backbone"
   ]
  },
  {
   "cell_type": "code",
   "execution_count": 4,
   "metadata": {},
   "outputs": [
    {
     "data": {
      "image/png": "[encoded data removed]",
      "text/plain": [
       "<Figure size 288x288 with 1 Axes>"
      ]
     },
     "metadata": {
      "needs_background": "light"
     },
     "output_type": "display_data"
    }
   ],
   "source": [
    "fig, ax = plt.subplots(figsize=(4, 4))\n",
    "\n",
    "host = 'a_tract_21mer'\n",
    "ax.hist(d_results[host]['backbone'], 100, density=True, facecolor='blue', label=host, alpha=0.75)\n",
    "host = 'g_tract_21mer'\n",
    "ax.hist(d_results[host]['backbone'], 100, density=True, facecolor='red', label=host, alpha=0.75)\n",
    "    \n",
    "ax.set_title('backbone')\n",
    "ax.set_xlabel('k (kcal/mol/Å$^2$)')\n",
    "ax.set_ylabel('Probability')\n",
    "ax.legend(frameon=False)\n",
    "    \n",
    "plt.tight_layout()\n",
    "#plt.savefig('histogram_kst_khb.pdf')\n",
    "plt.show()"
   ]
  },
  {
   "cell_type": "markdown",
   "metadata": {},
   "source": [
    "### Part 2: Ribose"
   ]
  },
  {
   "cell_type": "code",
   "execution_count": 5,
   "metadata": {},
   "outputs": [
    {
     "data": {
      "image/png": "[encoded data removed]",
      "text/plain": [
       "<Figure size 288x288 with 1 Axes>"
      ]
     },
     "metadata": {
      "needs_background": "light"
     },
     "output_type": "display_data"
    }
   ],
   "source": [
    "fig, ax = plt.subplots(figsize=(4, 4))\n",
    "\n",
    "host = 'a_tract_21mer'\n",
    "ax.hist(d_results[host]['ribose'], 100, density=True, facecolor='blue', label=host, alpha=0.75)\n",
    "host = 'g_tract_21mer'\n",
    "ax.hist(d_results[host]['ribose'], 100, density=True, facecolor='red', label=host, alpha=0.75)\n",
    "    \n",
    "ax.set_title('ribose')\n",
    "ax.set_xlabel('k (kcal/mol/Å$^2$)')\n",
    "ax.set_ylabel('Probability')\n",
    "ax.legend(frameon=False)\n",
    "    \n",
    "plt.tight_layout()\n",
    "#plt.savefig('histogram_kst_khb.pdf')\n",
    "plt.show()"
   ]
  },
  {
   "cell_type": "markdown",
   "metadata": {},
   "source": [
    "### Part 3: Stack"
   ]
  },
  {
   "cell_type": "code",
   "execution_count": 12,
   "metadata": {},
   "outputs": [
    {
     "data": {
      "image/png": "[encoded data removed]",
      "text/plain": [
       "<Figure size 288x288 with 1 Axes>"
      ]
     },
     "metadata": {
      "needs_background": "light"
     },
     "output_type": "display_data"
    }
   ],
   "source": [
    "fig, ax = plt.subplots(figsize=(4, 4))\n",
    "\n",
    "host = 'a_tract_21mer'\n",
    "ax.hist(d_results[host]['st'], 25, density=True, facecolor='blue', label=host, alpha=0.75)\n",
    "host = 'g_tract_21mer'\n",
    "ax.hist(d_results[host]['st'], 25, density=True, facecolor='red', label=host, alpha=0.75)\n",
    "    \n",
    "ax.set_title('stack')\n",
    "ax.set_xlabel('k (kcal/mol/Å$^2$)')\n",
    "ax.set_ylabel('Probability')\n",
    "ax.legend(frameon=False)\n",
    "    \n",
    "plt.tight_layout()\n",
    "#plt.savefig('histogram_kst_khb.pdf')\n",
    "plt.show()"
   ]
  },
  {
   "cell_type": "markdown",
   "metadata": {},
   "source": [
    "### Part 4: HB"
   ]
  },
  {
   "cell_type": "code",
   "execution_count": 15,
   "metadata": {},
   "outputs": [
    {
     "data": {
      "image/png": "[encoded data removed]",
      "text/plain": [
       "<Figure size 288x288 with 1 Axes>"
      ]
     },
     "metadata": {
      "needs_background": "light"
     },
     "output_type": "display_data"
    }
   ],
   "source": [
    "fig, ax = plt.subplots(figsize=(4, 4))\n",
    "\n",
    "host = 'a_tract_21mer'\n",
    "ax.hist(d_results[host]['hb'], 25, density=True, facecolor='blue', label=host, alpha=0.75)\n",
    "host = 'g_tract_21mer'\n",
    "ax.hist(d_results[host]['hb'], 25, density=True, facecolor='red', label=host, alpha=0.75)\n",
    "    \n",
    "ax.set_title('HB')\n",
    "ax.set_xlabel('k (kcal/mol/Å$^2$)')\n",
    "ax.set_ylabel('Probability')\n",
    "ax.legend(frameon=False)\n",
    "    \n",
    "plt.tight_layout()\n",
    "#plt.savefig('histogram_kst_khb.pdf')\n",
    "plt.show()"
   ]
  },
  {
   "cell_type": "code",
   "execution_count": null,
   "metadata": {},
   "outputs": [],
   "source": []
  }
 ],
 "metadata": {
  "kernelspec": {
   "display_name": "Python 3",
   "language": "python",
   "name": "python3"
  },
  "language_info": {
   "codemirror_mode": {
    "name": "ipython",
    "version": 3
   },
   "file_extension": ".py",
   "mimetype": "text/x-python",
   "name": "python",
   "nbconvert_exporter": "python",
   "pygments_lexer": "ipython3",
   "version": "3.8.5"
  }
 },
 "nbformat": 4,
 "nbformat_minor": 4
}
