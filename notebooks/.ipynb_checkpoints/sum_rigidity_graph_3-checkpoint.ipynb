{
 "cells": [
  {
   "cell_type": "code",
   "execution_count": 1,
   "metadata": {},
   "outputs": [],
   "source": [
    "import numpy as np\n",
    "import matplotlib.pyplot as plt\n",
    "from enmspring.graphs_bigtraj import StackMeanModeAgent\n",
    "from enmspring.kappa_mat import KMat, KappaStrand, Kappa, KappaUpperDown, MeanKappaStrand, MeanKappaStrandHetreo\n",
    "from matplotlib.colors import Normalize\n",
    "rootfolder = '/home/ytcdata/bigtraj_fluctmatch/500ns'"
   ]
  },
  {
   "cell_type": "markdown",
   "metadata": {},
   "source": [
    "### Part 1: Initialize s-agent"
   ]
  },
  {
   "cell_type": "code",
   "execution_count": 8,
   "metadata": {},
   "outputs": [
    {
     "name": "stdout",
     "output_type": "stream",
     "text": [
      "/home/ytcdata/bigtraj_fluctmatch/500ns/atat_21mer/mean_mode_npy exists\n",
      "/home/ytcdata/bigtraj_fluctmatch/500ns/atat_21mer/bdna+bdna/0_500/pd_dfs exists\n",
      "Read Dataframe of stacking: df_st\n",
      "/home/ytcdata/bigtraj_fluctmatch/500ns/atat_21mer/bdna+bdna/250_750/pd_dfs exists\n",
      "Read Dataframe of stacking: df_st\n",
      "/home/ytcdata/bigtraj_fluctmatch/500ns/atat_21mer/bdna+bdna/500_1000/pd_dfs exists\n",
      "Read Dataframe of stacking: df_st\n",
      "/home/ytcdata/bigtraj_fluctmatch/500ns/atat_21mer/bdna+bdna/750_1250/pd_dfs exists\n",
      "Read Dataframe of stacking: df_st\n",
      "/home/ytcdata/bigtraj_fluctmatch/500ns/atat_21mer/bdna+bdna/1000_1500/pd_dfs exists\n",
      "Read Dataframe of stacking: df_st\n",
      "/home/ytcdata/bigtraj_fluctmatch/500ns/atat_21mer/bdna+bdna/1250_1750/pd_dfs exists\n",
      "Read Dataframe of stacking: df_st\n",
      "/home/ytcdata/bigtraj_fluctmatch/500ns/atat_21mer/bdna+bdna/1500_2000/pd_dfs exists\n",
      "Read Dataframe of stacking: df_st\n",
      "/home/ytcdata/bigtraj_fluctmatch/500ns/atat_21mer/bdna+bdna/1750_2250/pd_dfs exists\n",
      "Read Dataframe of stacking: df_st\n",
      "/home/ytcdata/bigtraj_fluctmatch/500ns/atat_21mer/bdna+bdna/2000_2500/pd_dfs exists\n",
      "Read Dataframe of stacking: df_st\n",
      "/home/ytcdata/bigtraj_fluctmatch/500ns/atat_21mer/bdna+bdna/2250_2750/pd_dfs exists\n",
      "Read Dataframe of stacking: df_st\n",
      "/home/ytcdata/bigtraj_fluctmatch/500ns/atat_21mer/bdna+bdna/2500_3000/pd_dfs exists\n",
      "Read Dataframe of stacking: df_st\n",
      "/home/ytcdata/bigtraj_fluctmatch/500ns/atat_21mer/bdna+bdna/2750_3250/pd_dfs exists\n",
      "Read Dataframe of stacking: df_st\n",
      "/home/ytcdata/bigtraj_fluctmatch/500ns/atat_21mer/bdna+bdna/3000_3500/pd_dfs exists\n",
      "Read Dataframe of stacking: df_st\n",
      "/home/ytcdata/bigtraj_fluctmatch/500ns/atat_21mer/bdna+bdna/3250_3750/pd_dfs exists\n",
      "Read Dataframe of stacking: df_st\n",
      "/home/ytcdata/bigtraj_fluctmatch/500ns/atat_21mer/bdna+bdna/3500_4000/pd_dfs exists\n",
      "Read Dataframe of stacking: df_st\n",
      "/home/ytcdata/bigtraj_fluctmatch/500ns/atat_21mer/bdna+bdna/3750_4250/pd_dfs exists\n",
      "Read Dataframe of stacking: df_st\n",
      "/home/ytcdata/bigtraj_fluctmatch/500ns/atat_21mer/bdna+bdna/4000_4500/pd_dfs exists\n",
      "Read Dataframe of stacking: df_st\n",
      "/home/ytcdata/bigtraj_fluctmatch/500ns/atat_21mer/bdna+bdna/4250_4750/pd_dfs exists\n",
      "Read Dataframe of stacking: df_st\n",
      "/home/ytcdata/bigtraj_fluctmatch/500ns/atat_21mer/bdna+bdna/4500_5000/pd_dfs exists\n",
      "Read Dataframe of stacking: df_st\n"
     ]
    }
   ],
   "source": [
    "host = 'atat_21mer'\n",
    "interval_time = 500\n",
    "s_agent = StackMeanModeAgent(host, rootfolder, interval_time)"
   ]
  },
  {
   "cell_type": "markdown",
   "metadata": {},
   "source": [
    "### Part 2: Initialize K-Matrix"
   ]
  },
  {
   "cell_type": "code",
   "execution_count": 3,
   "metadata": {},
   "outputs": [
    {
     "name": "stdout",
     "output_type": "stream",
     "text": [
      "Load laplacian_mat from /home/ytcdata/bigtraj_fluctmatch/500ns/a_tract_21mer/mean_mode_npy/laplacian.npy\n",
      "Thare are 399 nodes.\n",
      "Total number of nodes: 399\n",
      "There are 210 eigenvectors belonging to STRAND1.\n",
      "There are 189 eigenvectors belonging to STRAND2.\n",
      "Sum of two strands: 399\n"
     ]
    }
   ],
   "source": [
    "kmat_agent = KMat(s_agent)"
   ]
  },
  {
   "cell_type": "markdown",
   "metadata": {},
   "source": [
    "### Part 3: Initialize Strand Plot"
   ]
  },
  {
   "cell_type": "code",
   "execution_count": 4,
   "metadata": {},
   "outputs": [],
   "source": [
    "# For a_tract_21mer, g_tract_21mer\n",
    "strand_id = 'STRAND2'\n",
    "ks_agent = KappaStrand(host, strand_id, s_agent, kmat_agent)\n",
    "m_agent = MeanKappaStrand(host, strand_id, s_agent, kmat_agent)"
   ]
  },
  {
   "cell_type": "code",
   "execution_count": 4,
   "metadata": {},
   "outputs": [],
   "source": [
    "# For atat_21mer, gcgc_21mer\n",
    "basetype_i = 'G' # 'A', 'T', 'G', 'C'\n",
    "m_agent = MeanKappaStrandHetreo(host, basetype_i, s_agent, kmat_agent)"
   ]
  },
  {
   "cell_type": "markdown",
   "metadata": {},
   "source": [
    "### Part 4: Set $m$ and $n$"
   ]
  },
  {
   "cell_type": "code",
   "execution_count": 5,
   "metadata": {},
   "outputs": [],
   "source": [
    "m = 1\n",
    "n = s_agent.n_node # s_agent.n_node"
   ]
  },
  {
   "cell_type": "markdown",
   "metadata": {},
   "source": [
    "### Part 5: Observe Min and Max"
   ]
  },
  {
   "cell_type": "code",
   "execution_count": 14,
   "metadata": {},
   "outputs": [
    {
     "name": "stdout",
     "output_type": "stream",
     "text": [
      "Min: -0.000  Max: 3.246\n"
     ]
    }
   ],
   "source": [
    "minimum, maximum = ks_agent.get_kmin_kmax(m, n)\n",
    "minimum = 0"
   ]
  },
  {
   "cell_type": "markdown",
   "metadata": {},
   "source": [
    "Min: -0.283  Max: 5.001"
   ]
  },
  {
   "cell_type": "code",
   "execution_count": 6,
   "metadata": {},
   "outputs": [],
   "source": [
    "minimum = 1.5 # 1.0 or 1.5\n",
    "maximum = 3.246"
   ]
  },
  {
   "cell_type": "markdown",
   "metadata": {},
   "source": [
    "### Part 6: Set Colors Normalize Object"
   ]
  },
  {
   "cell_type": "code",
   "execution_count": 20,
   "metadata": {},
   "outputs": [
    {
     "data": {
      "image/png": "[encoded data removed]",
      "text/plain": [
       "<Figure size 432x144 with 1 Axes>"
      ]
     },
     "metadata": {},
     "output_type": "display_data"
    }
   ],
   "source": [
    "figsize = (6, 2)\n",
    "cb1 = ks_agent.plot_colorbar(figsize, minimum, maximum)\n",
    "plt.savefig('/home/yizaochen/Desktop/drawzone_temp/colorbar.png', dpi=200, transparent=False)\n",
    "plt.show()"
   ]
  },
  {
   "cell_type": "markdown",
   "metadata": {},
   "source": [
    "### Part 7: Plot"
   ]
  },
  {
   "cell_type": "code",
   "execution_count": 7,
   "metadata": {},
   "outputs": [
    {
     "data": {
      "image/png": "[encoded data removed]",
      "text/plain": [
       "<Figure size 288x540 with 2 Axes>"
      ]
     },
     "metadata": {},
     "output_type": "display_data"
    }
   ],
   "source": [
    "figsize = (4, 7.5)\n",
    "fig, im_k, im_j, axes = m_agent.plot_mean_heatmap(figsize, m, n, minimum, maximum)\n",
    "#plt.tight_layout()\n",
    "if host in ['a_tract_21mer', 'g_tract_21mer']:\n",
    "    plt.savefig(f'/home/yizaochen/Desktop/drawzone_temp/{host}_{strand_id}_{m}_{n}.png', dpi=200, transparent=False)\n",
    "elif host in ['atat_21mer', 'gcgc_21mer']:\n",
    "    plt.savefig(f'/home/yizaochen/Desktop/drawzone_temp/{host}_{basetype_i}_{m}_{n}.png', dpi=200, transparent=False)\n",
    "plt.show()"
   ]
  },
  {
   "cell_type": "code",
   "execution_count": null,
   "metadata": {},
   "outputs": [],
   "source": []
  }
 ],
 "metadata": {
  "kernelspec": {
   "display_name": "Python 3",
   "language": "python",
   "name": "python3"
  },
  "language_info": {
   "codemirror_mode": {
    "name": "ipython",
    "version": 3
   },
   "file_extension": ".py",
   "mimetype": "text/x-python",
   "name": "python",
   "nbconvert_exporter": "python",
   "pygments_lexer": "ipython3",
   "version": "3.8.5"
  }
 },
 "nbformat": 4,
 "nbformat_minor": 4
}
