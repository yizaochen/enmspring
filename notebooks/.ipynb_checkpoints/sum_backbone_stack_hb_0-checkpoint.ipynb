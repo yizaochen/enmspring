{
 "cells": [
  {
   "cell_type": "code",
   "execution_count": 1,
   "metadata": {},
   "outputs": [],
   "source": [
    "from os import path\n",
    "from enmspring.sum_bb_st_hb_k import ThreeBar\n",
    "import matplotlib.pyplot as plt\n",
    "import numpy as np\n",
    "big_traj_folder = '/home/ytcdata/bigtraj_fluctmatch/500ns'\n",
    "drawzone_folder = '/home/yizaochen/Desktop/drawzone_temp'\n",
    "data_folder = '/home/yizaochen/Documents/dna_2021_drawzone/summation_bb_st_hb'"
   ]
  },
  {
   "cell_type": "markdown",
   "metadata": {},
   "source": [
    "### Part 1: Initailize Plot Agent"
   ]
  },
  {
   "cell_type": "code",
   "execution_count": 2,
   "metadata": {},
   "outputs": [],
   "source": [
    "plot_agent = ThreeBar(big_traj_folder, data_folder)"
   ]
  },
  {
   "cell_type": "markdown",
   "metadata": {},
   "source": [
    "### Part 2: Make/Read DataFrame"
   ]
  },
  {
   "cell_type": "code",
   "execution_count": 3,
   "metadata": {},
   "outputs": [],
   "source": [
    "makedf = False\n",
    "if makedf:\n",
    "    plot_agent.ini_b_agent()\n",
    "    plot_agent.ini_s_agent()\n",
    "    plot_agent.ini_h_agent()\n",
    "    plot_agent.make_df_for_all_host()"
   ]
  },
  {
   "cell_type": "code",
   "execution_count": 4,
   "metadata": {},
   "outputs": [],
   "source": [
    "plot_agent.read_df_for_all_host()"
   ]
  },
  {
   "cell_type": "markdown",
   "metadata": {},
   "source": [
    "### Part 2: Bar Plot"
   ]
  },
  {
   "cell_type": "code",
   "execution_count": 5,
   "metadata": {},
   "outputs": [
    {
     "data": {
      "image/png": "[encoded data removed]",
      "text/plain": [
       "<Figure size 130.824x107.064 with 3 Axes>"
      ]
     },
     "metadata": {},
     "output_type": "display_data"
    }
   ],
   "source": [
    "figsize = (1.817, 1.487)\n",
    "hspace = 0\n",
    "\n",
    "plot_agent.plot_main(figsize, hspace)\n",
    "svg_out = path.join(drawzone_folder, 'sum_bb_st_hb.svg')\n",
    "plt.savefig(svg_out, dpi=200)\n",
    "plt.show()"
   ]
  },
  {
   "cell_type": "code",
   "execution_count": 3,
   "metadata": {},
   "outputs": [],
   "source": [
    "from enmspring.graphs_bigtraj import BackboneMeanModeAgent"
   ]
  },
  {
   "cell_type": "code",
   "execution_count": 4,
   "metadata": {},
   "outputs": [
    {
     "name": "stdout",
     "output_type": "stream",
     "text": [
      "/home/ytcdata/bigtraj_fluctmatch/500ns/a_tract_21mer/mean_mode_npy exists\n",
      "/home/ytcdata/bigtraj_fluctmatch/500ns/a_tract_21mer/bdna+bdna/0_500/pd_dfs exists\n",
      "/home/ytcdata/bigtraj_fluctmatch/500ns/a_tract_21mer/bdna+bdna/250_750/pd_dfs exists\n",
      "/home/ytcdata/bigtraj_fluctmatch/500ns/a_tract_21mer/bdna+bdna/500_1000/pd_dfs exists\n",
      "/home/ytcdata/bigtraj_fluctmatch/500ns/a_tract_21mer/bdna+bdna/750_1250/pd_dfs exists\n",
      "/home/ytcdata/bigtraj_fluctmatch/500ns/a_tract_21mer/bdna+bdna/1000_1500/pd_dfs exists\n",
      "/home/ytcdata/bigtraj_fluctmatch/500ns/a_tract_21mer/bdna+bdna/1250_1750/pd_dfs exists\n",
      "/home/ytcdata/bigtraj_fluctmatch/500ns/a_tract_21mer/bdna+bdna/1500_2000/pd_dfs exists\n",
      "/home/ytcdata/bigtraj_fluctmatch/500ns/a_tract_21mer/bdna+bdna/1750_2250/pd_dfs exists\n",
      "/home/ytcdata/bigtraj_fluctmatch/500ns/a_tract_21mer/bdna+bdna/2000_2500/pd_dfs exists\n",
      "/home/ytcdata/bigtraj_fluctmatch/500ns/a_tract_21mer/bdna+bdna/2250_2750/pd_dfs exists\n",
      "/home/ytcdata/bigtraj_fluctmatch/500ns/a_tract_21mer/bdna+bdna/2500_3000/pd_dfs exists\n",
      "/home/ytcdata/bigtraj_fluctmatch/500ns/a_tract_21mer/bdna+bdna/2750_3250/pd_dfs exists\n",
      "/home/ytcdata/bigtraj_fluctmatch/500ns/a_tract_21mer/bdna+bdna/3000_3500/pd_dfs exists\n",
      "/home/ytcdata/bigtraj_fluctmatch/500ns/a_tract_21mer/bdna+bdna/3250_3750/pd_dfs exists\n",
      "/home/ytcdata/bigtraj_fluctmatch/500ns/a_tract_21mer/bdna+bdna/3500_4000/pd_dfs exists\n",
      "/home/ytcdata/bigtraj_fluctmatch/500ns/a_tract_21mer/bdna+bdna/3750_4250/pd_dfs exists\n",
      "/home/ytcdata/bigtraj_fluctmatch/500ns/a_tract_21mer/bdna+bdna/4000_4500/pd_dfs exists\n",
      "/home/ytcdata/bigtraj_fluctmatch/500ns/a_tract_21mer/bdna+bdna/4250_4750/pd_dfs exists\n",
      "/home/ytcdata/bigtraj_fluctmatch/500ns/a_tract_21mer/bdna+bdna/4500_5000/pd_dfs exists\n"
     ]
    }
   ],
   "source": [
    "host = 'a_tract_21mer'\n",
    "interval_time = 500\n",
    "b_agent = BackboneMeanModeAgent(host, big_traj_folder, interval_time)"
   ]
  },
  {
   "cell_type": "code",
   "execution_count": 5,
   "metadata": {
    "collapsed": true,
    "jupyter": {
     "outputs_hidden": true
    }
   },
   "outputs": [
    {
     "name": "stdout",
     "output_type": "stream",
     "text": [
      "Thare are 855 nodes.\n",
      "Initialize adjacency, degree and Laplacian matrices... Done.\n",
      "Finish the setup for Laplaican matrix.\n",
      "Total number of nodes: 855\n",
      "There are 438 eigenvectors belonging to STRAND1.\n",
      "There are 417 eigenvectors belonging to STRAND2.\n",
      "Sum of two strands: 855\n",
      "Thare are 855 nodes.\n",
      "Initialize adjacency, degree and Laplacian matrices... Done.\n",
      "Finish the setup for Laplaican matrix.\n",
      "Total number of nodes: 855\n",
      "There are 438 eigenvectors belonging to STRAND1.\n",
      "There are 417 eigenvectors belonging to STRAND2.\n",
      "Sum of two strands: 855\n",
      "Thare are 855 nodes.\n",
      "Initialize adjacency, degree and Laplacian matrices... Done.\n",
      "Finish the setup for Laplaican matrix.\n",
      "Total number of nodes: 855\n",
      "There are 438 eigenvectors belonging to STRAND1.\n",
      "There are 417 eigenvectors belonging to STRAND2.\n",
      "Sum of two strands: 855\n",
      "Thare are 855 nodes.\n",
      "Initialize adjacency, degree and Laplacian matrices... Done.\n",
      "Finish the setup for Laplaican matrix.\n",
      "Total number of nodes: 855\n",
      "There are 438 eigenvectors belonging to STRAND1.\n",
      "There are 417 eigenvectors belonging to STRAND2.\n",
      "Sum of two strands: 855\n",
      "Thare are 855 nodes.\n",
      "Initialize adjacency, degree and Laplacian matrices... Done.\n",
      "Finish the setup for Laplaican matrix.\n",
      "Total number of nodes: 855\n",
      "There are 438 eigenvectors belonging to STRAND1.\n",
      "There are 417 eigenvectors belonging to STRAND2.\n",
      "Sum of two strands: 855\n",
      "Thare are 855 nodes.\n",
      "Initialize adjacency, degree and Laplacian matrices... Done.\n",
      "Finish the setup for Laplaican matrix.\n",
      "Total number of nodes: 855\n",
      "There are 438 eigenvectors belonging to STRAND1.\n",
      "There are 417 eigenvectors belonging to STRAND2.\n",
      "Sum of two strands: 855\n",
      "Thare are 855 nodes.\n",
      "Initialize adjacency, degree and Laplacian matrices... Done.\n",
      "Finish the setup for Laplaican matrix.\n",
      "Total number of nodes: 855\n",
      "There are 438 eigenvectors belonging to STRAND1.\n",
      "There are 417 eigenvectors belonging to STRAND2.\n",
      "Sum of two strands: 855\n",
      "Thare are 855 nodes.\n",
      "Initialize adjacency, degree and Laplacian matrices... Done.\n",
      "Finish the setup for Laplaican matrix.\n",
      "Total number of nodes: 855\n",
      "There are 438 eigenvectors belonging to STRAND1.\n",
      "There are 417 eigenvectors belonging to STRAND2.\n",
      "Sum of two strands: 855\n",
      "Thare are 855 nodes.\n",
      "Initialize adjacency, degree and Laplacian matrices... Done.\n",
      "Finish the setup for Laplaican matrix.\n",
      "Total number of nodes: 855\n",
      "There are 438 eigenvectors belonging to STRAND1.\n",
      "There are 417 eigenvectors belonging to STRAND2.\n",
      "Sum of two strands: 855\n",
      "Thare are 855 nodes.\n",
      "Initialize adjacency, degree and Laplacian matrices... Done.\n",
      "Finish the setup for Laplaican matrix.\n",
      "Total number of nodes: 855\n",
      "There are 438 eigenvectors belonging to STRAND1.\n",
      "There are 417 eigenvectors belonging to STRAND2.\n",
      "Sum of two strands: 855\n",
      "Thare are 855 nodes.\n",
      "Initialize adjacency, degree and Laplacian matrices... Done.\n",
      "Finish the setup for Laplaican matrix.\n",
      "Total number of nodes: 855\n",
      "There are 438 eigenvectors belonging to STRAND1.\n",
      "There are 417 eigenvectors belonging to STRAND2.\n",
      "Sum of two strands: 855\n",
      "Thare are 855 nodes.\n",
      "Initialize adjacency, degree and Laplacian matrices... Done.\n",
      "Finish the setup for Laplaican matrix.\n",
      "Total number of nodes: 855\n",
      "There are 438 eigenvectors belonging to STRAND1.\n",
      "There are 417 eigenvectors belonging to STRAND2.\n",
      "Sum of two strands: 855\n",
      "Thare are 855 nodes.\n",
      "Initialize adjacency, degree and Laplacian matrices... Done.\n",
      "Finish the setup for Laplaican matrix.\n",
      "Total number of nodes: 855\n",
      "There are 438 eigenvectors belonging to STRAND1.\n",
      "There are 417 eigenvectors belonging to STRAND2.\n",
      "Sum of two strands: 855\n",
      "Thare are 855 nodes.\n",
      "Initialize adjacency, degree and Laplacian matrices... Done.\n",
      "Finish the setup for Laplaican matrix.\n",
      "Total number of nodes: 855\n",
      "There are 438 eigenvectors belonging to STRAND1.\n",
      "There are 417 eigenvectors belonging to STRAND2.\n",
      "Sum of two strands: 855\n",
      "Thare are 855 nodes.\n",
      "Initialize adjacency, degree and Laplacian matrices... Done.\n",
      "Finish the setup for Laplaican matrix.\n",
      "Total number of nodes: 855\n",
      "There are 438 eigenvectors belonging to STRAND1.\n",
      "There are 417 eigenvectors belonging to STRAND2.\n",
      "Sum of two strands: 855\n",
      "Thare are 855 nodes.\n",
      "Initialize adjacency, degree and Laplacian matrices... Done.\n",
      "Finish the setup for Laplaican matrix.\n",
      "Total number of nodes: 855\n",
      "There are 438 eigenvectors belonging to STRAND1.\n",
      "There are 417 eigenvectors belonging to STRAND2.\n",
      "Sum of two strands: 855\n",
      "Thare are 855 nodes.\n",
      "Initialize adjacency, degree and Laplacian matrices... Done.\n",
      "Finish the setup for Laplaican matrix.\n",
      "Total number of nodes: 855\n",
      "There are 438 eigenvectors belonging to STRAND1.\n",
      "There are 417 eigenvectors belonging to STRAND2.\n",
      "Sum of two strands: 855\n",
      "Thare are 855 nodes.\n",
      "Initialize adjacency, degree and Laplacian matrices... Done.\n",
      "Finish the setup for Laplaican matrix.\n",
      "Total number of nodes: 855\n",
      "There are 438 eigenvectors belonging to STRAND1.\n",
      "There are 417 eigenvectors belonging to STRAND2.\n",
      "Sum of two strands: 855\n",
      "Thare are 855 nodes.\n",
      "Initialize adjacency, degree and Laplacian matrices... Done.\n",
      "Finish the setup for Laplaican matrix.\n",
      "Total number of nodes: 855\n",
      "There are 438 eigenvectors belonging to STRAND1.\n",
      "There are 417 eigenvectors belonging to STRAND2.\n",
      "Sum of two strands: 855\n"
     ]
    }
   ],
   "source": [
    "b_agent.preprocess_all_small_agents()"
   ]
  },
  {
   "cell_type": "code",
   "execution_count": 8,
   "metadata": {},
   "outputs": [
    {
     "data": {
      "text/plain": [
       "array([[0.5454, 0.    , 0.1289, ..., 0.    , 0.    , 0.    ],\n",
       "       [0.    , 1.0687, 0.    , ..., 0.    , 0.    , 0.    ],\n",
       "       [0.1289, 0.    , 0.9217, ..., 0.    , 0.    , 0.    ],\n",
       "       ...,\n",
       "       [0.    , 0.    , 0.    , ..., 2.7059, 0.    , 0.    ],\n",
       "       [0.    , 0.    , 0.    , ..., 0.    , 1.5336, 0.    ],\n",
       "       [0.    , 0.    , 0.    , ..., 0.    , 0.    , 4.3152]])"
      ]
     },
     "execution_count": 8,
     "metadata": {},
     "output_type": "execute_result"
    }
   ],
   "source": [
    "b_agent.d_smallagents[(0,500)].laplacian_mat"
   ]
  },
  {
   "cell_type": "code",
   "execution_count": 9,
   "metadata": {},
   "outputs": [],
   "source": [
    "b_agent.initialize_all_maps()"
   ]
  },
  {
   "cell_type": "code",
   "execution_count": 10,
   "metadata": {},
   "outputs": [
    {
     "data": {
      "text/plain": [
       "19"
      ]
     },
     "execution_count": 10,
     "metadata": {},
     "output_type": "execute_result"
    }
   ],
   "source": [
    "b_agent.n_window"
   ]
  },
  {
   "cell_type": "code",
   "execution_count": 10,
   "metadata": {},
   "outputs": [
    {
     "data": {
      "text/plain": [
       "[1, 2]"
      ]
     },
     "execution_count": 10,
     "metadata": {},
     "output_type": "execute_result"
    }
   ],
   "source": [
    "d = {'a': 1, 'b': 2, 'c': 3}\n",
    "key_lst = ['a', 'b']\n",
    "target_lst = [d[key] for key in key_lst]\n",
    "target_lst"
   ]
  },
  {
   "cell_type": "code",
   "execution_count": null,
   "metadata": {},
   "outputs": [],
   "source": []
  }
 ],
 "metadata": {
  "kernelspec": {
   "display_name": "Python 3",
   "language": "python",
   "name": "python3"
  },
  "language_info": {
   "codemirror_mode": {
    "name": "ipython",
    "version": 3
   },
   "file_extension": ".py",
   "mimetype": "text/x-python",
   "name": "python",
   "nbconvert_exporter": "python",
   "pygments_lexer": "ipython3",
   "version": "3.8.5"
  }
 },
 "nbformat": 4,
 "nbformat_minor": 4
}
