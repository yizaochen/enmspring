{
 "cells": [
  {
   "cell_type": "code",
   "execution_count": 1,
   "metadata": {},
   "outputs": [],
   "source": [
    "from os import path\n",
    "from enmspring.graphs import GraphAgent\n",
    "from enmspring import PDB\n",
    "from enmspring import atom\n",
    "import MDAnalysis as mda\n",
    "rootfolder = '/home/yizaochen/codes/dna_rna/fluctmatch_sequence'\n",
    "enmroot = '/home/yizaochen/codes/dna_rna/enmspring'"
   ]
  },
  {
   "cell_type": "markdown",
   "metadata": {},
   "source": [
    "### Part 1: Initialize"
   ]
  },
  {
   "cell_type": "code",
   "execution_count": 106,
   "metadata": {},
   "outputs": [
    {
     "name": "stdout",
     "output_type": "stream",
     "text": [
      "/home/yizaochen/codes/dna_rna/fluctmatch_sequence/a_tract_21mer/bdna+bdna/pd_dfs exists\n"
     ]
    }
   ],
   "source": [
    "host = 'a_tract_21mer'\n",
    "g_agent = GraphAgent(host, rootfolder)"
   ]
  },
  {
   "cell_type": "markdown",
   "metadata": {},
   "source": [
    "### Part 2: Show crd in VMD"
   ]
  },
  {
   "cell_type": "code",
   "execution_count": 107,
   "metadata": {},
   "outputs": [
    {
     "name": "stdout",
     "output_type": "stream",
     "text": [
      "vmd -cor /home/yizaochen/codes/dna_rna/fluctmatch_sequence/a_tract_21mer/bdna+bdna/input/bdna+bdna.nohydrogen.crd\n"
     ]
    }
   ],
   "source": [
    "g_agent.vmd_show_crd()"
   ]
  },
  {
   "cell_type": "markdown",
   "metadata": {},
   "source": [
    "### Part 3: Eigen-decomposition"
   ]
  },
  {
   "cell_type": "code",
   "execution_count": 108,
   "metadata": {},
   "outputs": [
    {
     "name": "stdout",
     "output_type": "stream",
     "text": [
      "Thare are 399 nodes.\n",
      "Finish the setup for Laplaican matrix.\n"
     ]
    }
   ],
   "source": [
    "g_agent.build_node_list_base()\n",
    "print(f\"Thare are {g_agent.n_node} nodes.\")\n",
    "g_agent.build_adjacency_from_df_st()\n",
    "g_agent.build_degree_from_adjacency()\n",
    "g_agent.build_laplacian_by_adjacency_degree()\n",
    "g_agent.eigen_decompose()"
   ]
  },
  {
   "cell_type": "markdown",
   "metadata": {},
   "source": [
    "### Part 4: Select Eigenvector"
   ]
  },
  {
   "cell_type": "code",
   "execution_count": 109,
   "metadata": {},
   "outputs": [],
   "source": [
    "sele_id = 3\n",
    "scale_factor = 10.\n",
    "eigv = g_agent.get_eigenvector_by_id(sele_id)\n",
    "eigv_scale = scale_factor * eigv"
   ]
  },
  {
   "cell_type": "code",
   "execution_count": 110,
   "metadata": {},
   "outputs": [
    {
     "data": {
      "text/plain": [
       "2.9610350647006465"
      ]
     },
     "execution_count": 110,
     "metadata": {},
     "output_type": "execute_result"
    }
   ],
   "source": [
    "eigv_scale.max()"
   ]
  },
  {
   "cell_type": "code",
   "execution_count": 111,
   "metadata": {},
   "outputs": [
    {
     "data": {
      "text/plain": [
       "-4.001294213177385"
      ]
     },
     "execution_count": 111,
     "metadata": {},
     "output_type": "execute_result"
    }
   ],
   "source": [
    "eigv_scale.min()"
   ]
  },
  {
   "cell_type": "markdown",
   "metadata": {},
   "source": [
    "### Part 5: Convert crd to pdb"
   ]
  },
  {
   "cell_type": "code",
   "execution_count": 112,
   "metadata": {},
   "outputs": [
    {
     "name": "stdout",
     "output_type": "stream",
     "text": [
      "vim /home/yizaochen/codes/dna_rna/fluctmatch_sequence/a_tract_21mer/bdna+bdna/input/bdna+bdna.nohydrogen.pdb\n"
     ]
    },
    {
     "name": "stderr",
     "output_type": "stream",
     "text": [
      "/home/yizaochen/miniconda3/envs/enmspring/lib/python3.8/site-packages/MDAnalysis/coordinates/PDB.py:722: UserWarning: Unit cell dimensions not found. CRYST1 record set to unitary values.\n",
      "  warnings.warn(\"Unit cell dimensions not found. \"\n",
      "/home/yizaochen/miniconda3/envs/enmspring/lib/python3.8/site-packages/MDAnalysis/coordinates/PDB.py:1026: UserWarning: Found no information for attr: 'altLocs' Using default value of ' '\n",
      "  warnings.warn(\"Found no information for attr: '{}'\"\n",
      "/home/yizaochen/miniconda3/envs/enmspring/lib/python3.8/site-packages/MDAnalysis/coordinates/PDB.py:1026: UserWarning: Found no information for attr: 'icodes' Using default value of ' '\n",
      "  warnings.warn(\"Found no information for attr: '{}'\"\n",
      "/home/yizaochen/miniconda3/envs/enmspring/lib/python3.8/site-packages/MDAnalysis/coordinates/PDB.py:1026: UserWarning: Found no information for attr: 'occupancies' Using default value of '1.0'\n",
      "  warnings.warn(\"Found no information for attr: '{}'\"\n"
     ]
    }
   ],
   "source": [
    "u = mda.Universe(g_agent.npt4_crd, g_agent.npt4_crd)\n",
    "npt4_pdb = path.join(g_agent.input_folder, 'bdna+bdna.nohydrogen.pdb')\n",
    "with mda.Writer(npt4_pdb, bonds=None, n_atoms=u.atoms.n_atoms) as pdbwriter:\n",
    "    pdbwriter.write(u.atoms)\n",
    "print(f'vim {npt4_pdb}')"
   ]
  },
  {
   "cell_type": "markdown",
   "metadata": {},
   "source": [
    "### Part 6: Read in to pdbreader"
   ]
  },
  {
   "cell_type": "code",
   "execution_count": 113,
   "metadata": {},
   "outputs": [],
   "source": [
    "reader = PDB.PDBReader(npt4_pdb, skip_header=9, skip_footer=2, withfragid=True)"
   ]
  },
  {
   "cell_type": "code",
   "execution_count": 75,
   "metadata": {},
   "outputs": [],
   "source": [
    "#for atg in reader.atomgroup:\n",
    "#    print(atg.tempFactor)"
   ]
  },
  {
   "cell_type": "markdown",
   "metadata": {},
   "source": [
    "### Part 7: Add two dummy atoms to keep color scale in [-1,1]"
   ]
  },
  {
   "cell_type": "code",
   "execution_count": 114,
   "metadata": {},
   "outputs": [],
   "source": [
    "minimum = eigv_scale.min()\n",
    "maximum = -eigv_scale.min()"
   ]
  },
  {
   "cell_type": "code",
   "execution_count": 101,
   "metadata": {},
   "outputs": [],
   "source": [
    "minimum = -eigv_scale.max()\n",
    "maximum = eigv_scale.max()"
   ]
  },
  {
   "cell_type": "code",
   "execution_count": 115,
   "metadata": {},
   "outputs": [],
   "source": [
    "# get serial and resid of the last atom\n",
    "serial = reader.atomgroup[-1].serial + 1\n",
    "resid = reader.atomgroup[-1].resid + 1\n",
    "dummy1_data = ['ATOM', serial, 'S1', 'DUM', resid, 0.0, 0.0, 0.0, 0.0, minimum]\n",
    "dummy2_data = ['ATOM', serial+1, 'S2', 'DUM', resid+1, 0.0, 0.0, 0.0, 0.0, maximum]\n",
    "reader.atomgroup.append(atom.Atom(dummy1_data, False))\n",
    "reader.atomgroup.append(atom.Atom(dummy2_data, False))"
   ]
  },
  {
   "cell_type": "markdown",
   "metadata": {},
   "source": [
    "### Part 8: Get nodes idx map to pdb"
   ]
  },
  {
   "cell_type": "code",
   "execution_count": 116,
   "metadata": {},
   "outputs": [],
   "source": [
    "for cgname, eigv_value in zip(g_agent.node_list, eigv_scale):\n",
    "    atomid = g_agent.atomid_map[cgname]\n",
    "    reader.atomgroup[atomid-1].set_tempFactor(eigv_value)"
   ]
  },
  {
   "cell_type": "markdown",
   "metadata": {},
   "source": [
    "### Part 9: Output PDB for eigenvector"
   ]
  },
  {
   "cell_type": "code",
   "execution_count": 117,
   "metadata": {},
   "outputs": [
    {
     "name": "stdout",
     "output_type": "stream",
     "text": [
      "Write PDB: /home/yizaochen/codes/dna_rna/fluctmatch_sequence/a_tract_21mer/bdna+bdna/input/eigv_3.pdb\n",
      "vim /home/yizaochen/codes/dna_rna/fluctmatch_sequence/a_tract_21mer/bdna+bdna/input/eigv_3.pdb\n"
     ]
    }
   ],
   "source": [
    "f_out = path.join(g_agent.input_folder, f'eigv_{sele_id}.pdb')\n",
    "writer = PDB.PDBWriter(f_out, reader.atomgroup)\n",
    "writer.write_pdb()\n",
    "print(f'vim {f_out}')"
   ]
  },
  {
   "cell_type": "markdown",
   "metadata": {},
   "source": [
    "### Part 10: Show PDB in vmd"
   ]
  },
  {
   "cell_type": "code",
   "execution_count": 118,
   "metadata": {},
   "outputs": [
    {
     "name": "stdout",
     "output_type": "stream",
     "text": [
      "vmd -cor /home/yizaochen/codes/dna_rna/fluctmatch_sequence/a_tract_21mer/bdna+bdna/input/bdna+bdna.nohydrogen.crd\n",
      "mol new /home/yizaochen/codes/dna_rna/fluctmatch_sequence/a_tract_21mer/bdna+bdna/input/eigv_3.pdb type pdb\n"
     ]
    }
   ],
   "source": [
    "g_agent.vmd_show_crd()\n",
    "print(f'mol new {f_out} type pdb')"
   ]
  },
  {
   "cell_type": "code",
   "execution_count": null,
   "metadata": {},
   "outputs": [],
   "source": []
  }
 ],
 "metadata": {
  "kernelspec": {
   "display_name": "Python 3",
   "language": "python",
   "name": "python3"
  },
  "language_info": {
   "codemirror_mode": {
    "name": "ipython",
    "version": 3
   },
   "file_extension": ".py",
   "mimetype": "text/x-python",
   "name": "python",
   "nbconvert_exporter": "python",
   "pygments_lexer": "ipython3",
   "version": "3.8.5"
  }
 },
 "nbformat": 4,
 "nbformat_minor": 4
}
