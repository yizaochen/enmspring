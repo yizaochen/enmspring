{
 "cells": [
  {
   "cell_type": "code",
   "execution_count": 1,
   "metadata": {},
   "outputs": [],
   "source": [
    "from os import path\n",
    "import numpy as np\n",
    "import matplotlib.pyplot as plt\n",
    "from enmspring.graph_decompose import Bar4PlotHB\n",
    "from enmspring.graphs import onlyHB\n",
    "from enmspring.vmddraw import HBWholeMolecule\n",
    "rootfolder = '/home/yizaochen/codes/dna_rna/fluctmatch_sequence'"
   ]
  },
  {
   "cell_type": "markdown",
   "metadata": {},
   "source": [
    "### Part 1: Initialize"
   ]
  },
  {
   "cell_type": "code",
   "execution_count": 2,
   "metadata": {},
   "outputs": [
    {
     "name": "stdout",
     "output_type": "stream",
     "text": [
      "/home/yizaochen/codes/dna_rna/fluctmatch_sequence/a_tract_21mer/bdna+bdna/pd_dfs exists\n",
      "Read Dataframe of stacking: df_st\n",
      "/home/yizaochen/codes/dna_rna/fluctmatch_sequence/a_tract_21mer/bdna+bdna/pd_dfs exists\n",
      "/home/yizaochen/codes/dna_rna/fluctmatch_sequence/a_tract_21mer/bdna+bdna/pd_dfs exists\n"
     ]
    }
   ],
   "source": [
    "host = 'a_tract_21mer'\n",
    "g_agent = onlyHB(host, rootfolder)"
   ]
  },
  {
   "cell_type": "markdown",
   "metadata": {},
   "source": [
    "#### Check $\\lambda_i=q_i^{T}\\textbf{A}q_i + q_i^{T}\\textbf{D}q_i$"
   ]
  },
  {
   "cell_type": "code",
   "execution_count": null,
   "metadata": {},
   "outputs": [],
   "source": [
    "sele_id = 1\n",
    "eigvalue = g_agent.get_eigenvalue_by_id(sele_id)\n",
    "q = g_agent.get_eigenvector_by_id(sele_id)\n",
    "A = g_agent.adjacency_mat\n",
    "D = g_agent.degree_mat\n",
    "eigvalue_from_decomp = np.dot(q.T, np.dot(A, q)) + np.dot(q.T, np.dot(D, q))\n",
    "print(f'The {sele_id}-th eigenvalue is: {eigvalue:.3f}')\n",
    "print(f'The {sele_id}-th eigenvalue from decompose is: {eigvalue_from_decomp:.3f}')"
   ]
  },
  {
   "cell_type": "markdown",
   "metadata": {},
   "source": [
    "### Part 2: Bar-Plot for 4 hosts"
   ]
  },
  {
   "cell_type": "code",
   "execution_count": 2,
   "metadata": {},
   "outputs": [
    {
     "name": "stdout",
     "output_type": "stream",
     "text": [
      "/home/yizaochen/codes/dna_rna/fluctmatch_sequence/a_tract_21mer/bdna+bdna/pd_dfs exists\n",
      "Read Dataframe of stacking: df_st\n",
      "/home/yizaochen/codes/dna_rna/fluctmatch_sequence/a_tract_21mer/bdna+bdna/pd_dfs exists\n",
      "/home/yizaochen/codes/dna_rna/fluctmatch_sequence/a_tract_21mer/bdna+bdna/pd_dfs exists\n",
      "Thare are 399 nodes.\n",
      "Initialize adjacency, degree and Laplacian matrices... Done.\n",
      "Finish the setup for Laplaican matrix.\n",
      "/home/yizaochen/codes/dna_rna/fluctmatch_sequence/g_tract_21mer/bdna+bdna/pd_dfs exists\n",
      "Read Dataframe of stacking: df_st\n",
      "/home/yizaochen/codes/dna_rna/fluctmatch_sequence/g_tract_21mer/bdna+bdna/pd_dfs exists\n",
      "/home/yizaochen/codes/dna_rna/fluctmatch_sequence/g_tract_21mer/bdna+bdna/pd_dfs exists\n",
      "Thare are 399 nodes.\n",
      "Initialize adjacency, degree and Laplacian matrices... Done.\n",
      "Finish the setup for Laplaican matrix.\n"
     ]
    }
   ],
   "source": [
    "b_agent = Bar4PlotHB(rootfolder)"
   ]
  },
  {
   "cell_type": "code",
   "execution_count": 4,
   "metadata": {},
   "outputs": [
    {
     "data": {
      "image/png": "[encoded data removed]",
      "text/plain": [
       "<Figure size 432x288 with 1 Axes>"
      ]
     },
     "metadata": {
      "needs_background": "light"
     },
     "output_type": "display_data"
    }
   ],
   "source": [
    "figsize = (6, 4)\n",
    "small_width = 1\n",
    "big_width = 1.2\n",
    "n_modes = 5\n",
    "ylim = (0, 12)\n",
    "\n",
    "b_agent.plot_main(figsize, small_width, big_width, n_modes, ylim)\n",
    "plt.tight_layout()\n",
    "#plt.savefig('hb_qTAq.png', dpi=300)\n",
    "plt.show()"
   ]
  },
  {
   "cell_type": "markdown",
   "metadata": {},
   "source": [
    "### Part 3: Show edges in molecule for a specific mode"
   ]
  },
  {
   "cell_type": "code",
   "execution_count": 47,
   "metadata": {},
   "outputs": [
    {
     "name": "stdout",
     "output_type": "stream",
     "text": [
      "/home/yizaochen/codes/dna_rna/fluctmatch_sequence/a_tract_21mer/bdna+bdna/pd_dfs exists\n",
      "Read Dataframe of stacking: df_st\n",
      "/home/yizaochen/codes/dna_rna/fluctmatch_sequence/a_tract_21mer/bdna+bdna/pd_dfs exists\n",
      "/home/yizaochen/codes/dna_rna/fluctmatch_sequence/a_tract_21mer/bdna+bdna/pd_dfs exists\n",
      "Thare are 399 nodes.\n",
      "Initialize adjacency, degree and Laplacian matrices... Done.\n",
      "Finish the setup for Laplaican matrix.\n"
     ]
    }
   ],
   "source": [
    "host = 'a_tract_21mer'\n",
    "g_agent = onlyHB(host, rootfolder)\n",
    "g_agent.pre_process()"
   ]
  },
  {
   "cell_type": "code",
   "execution_count": 43,
   "metadata": {},
   "outputs": [
    {
     "data": {
      "text/html": [
       "<div>\n",
       "<style scoped>\n",
       "    .dataframe tbody tr th:only-of-type {\n",
       "        vertical-align: middle;\n",
       "    }\n",
       "\n",
       "    .dataframe tbody tr th {\n",
       "        vertical-align: top;\n",
       "    }\n",
       "\n",
       "    .dataframe thead th {\n",
       "        text-align: right;\n",
       "    }\n",
       "</style>\n",
       "<table border=\"1\" class=\"dataframe\">\n",
       "  <thead>\n",
       "    <tr style=\"text-align: right;\">\n",
       "      <th></th>\n",
       "      <th>Strand_i</th>\n",
       "      <th>Resid_i</th>\n",
       "      <th>Atomname_i</th>\n",
       "      <th>Strand_j</th>\n",
       "      <th>Resid_j</th>\n",
       "      <th>Atomname_j</th>\n",
       "      <th>qTAq</th>\n",
       "    </tr>\n",
       "  </thead>\n",
       "  <tbody>\n",
       "    <tr>\n",
       "      <th>0</th>\n",
       "      <td>STRAND1</td>\n",
       "      <td>1</td>\n",
       "      <td>O6</td>\n",
       "      <td>STRAND2</td>\n",
       "      <td>21</td>\n",
       "      <td>N4</td>\n",
       "      <td>0.0</td>\n",
       "    </tr>\n",
       "    <tr>\n",
       "      <th>1</th>\n",
       "      <td>STRAND1</td>\n",
       "      <td>1</td>\n",
       "      <td>N1</td>\n",
       "      <td>STRAND2</td>\n",
       "      <td>21</td>\n",
       "      <td>N3</td>\n",
       "      <td>0.0</td>\n",
       "    </tr>\n",
       "    <tr>\n",
       "      <th>2</th>\n",
       "      <td>STRAND1</td>\n",
       "      <td>1</td>\n",
       "      <td>N2</td>\n",
       "      <td>STRAND2</td>\n",
       "      <td>21</td>\n",
       "      <td>O2</td>\n",
       "      <td>0.0</td>\n",
       "    </tr>\n",
       "    <tr>\n",
       "      <th>3</th>\n",
       "      <td>STRAND1</td>\n",
       "      <td>2</td>\n",
       "      <td>O6</td>\n",
       "      <td>STRAND2</td>\n",
       "      <td>20</td>\n",
       "      <td>N4</td>\n",
       "      <td>0.0</td>\n",
       "    </tr>\n",
       "    <tr>\n",
       "      <th>4</th>\n",
       "      <td>STRAND1</td>\n",
       "      <td>2</td>\n",
       "      <td>N1</td>\n",
       "      <td>STRAND2</td>\n",
       "      <td>20</td>\n",
       "      <td>N3</td>\n",
       "      <td>0.0</td>\n",
       "    </tr>\n",
       "  </tbody>\n",
       "</table>\n",
       "</div>"
      ],
      "text/plain": [
       "  Strand_i  Resid_i Atomname_i Strand_j  Resid_j Atomname_j  qTAq\n",
       "0  STRAND1        1         O6  STRAND2       21         N4   0.0\n",
       "1  STRAND1        1         N1  STRAND2       21         N3   0.0\n",
       "2  STRAND1        1         N2  STRAND2       21         O2   0.0\n",
       "3  STRAND1        2         O6  STRAND2       20         N4   0.0\n",
       "4  STRAND1        2         N1  STRAND2       20         N3   0.0"
      ]
     },
     "execution_count": 43,
     "metadata": {},
     "output_type": "execute_result"
    }
   ],
   "source": [
    "eigv_id = 1\n",
    "df = g_agent.get_df_qTAq_for_vmd_draw(eigv_id)\n",
    "df.head()"
   ]
  },
  {
   "cell_type": "code",
   "execution_count": 44,
   "metadata": {},
   "outputs": [
    {
     "name": "stdout",
     "output_type": "stream",
     "text": [
      "There are 1 bonds left.\n"
     ]
    }
   ],
   "source": [
    "filter_criteria = 1e-3\n",
    "mask = df['qTAq'] > filter_criteria\n",
    "df1 = df[mask]\n",
    "print(f'There are {df1.shape[0]} bonds left.')"
   ]
  },
  {
   "cell_type": "markdown",
   "metadata": {},
   "source": [
    "### Part 4: Use DataFrame obtained above to draw important bonds on VMD"
   ]
  },
  {
   "cell_type": "code",
   "execution_count": 45,
   "metadata": {},
   "outputs": [
    {
     "name": "stdout",
     "output_type": "stream",
     "text": [
      "/home/yizaochen/codes/dna_rna/fluctmatch_sequence/g_tract_21mer/bdna+bdna/pd_dfs exists\n",
      "Read Dataframe of stacking: df_st\n",
      "Thare are 399 nodes.\n",
      "Initialize adjacency, degree and Laplacian matrices... Done.\n",
      "Finish the setup for Laplaican matrix.\n",
      "Total number of nodes: 399\n",
      "There are 231 eigenvectors belonging to STRAND1.\n",
      "There are 168 eigenvectors belonging to STRAND2.\n",
      "Sum of two strands: 399\n",
      "/home/yizaochen/Desktop/dna_slide_202102/mol_structure exists\n"
     ]
    }
   ],
   "source": [
    "pic_out_folder = '/home/yizaochen/Desktop/dna_slide_202102'\n",
    "draw_agent = HBWholeMolecule(host, rootfolder, pic_out_folder)"
   ]
  },
  {
   "cell_type": "code",
   "execution_count": 46,
   "metadata": {},
   "outputs": [
    {
     "name": "stdout",
     "output_type": "stream",
     "text": [
      "vmd -gro /home/yizaochen/codes/dna_rna/all_systems/g_tract_21mer/bdna+bdna/input/allatoms/bdna+bdna.perfect.gro\n",
      "source /home/yizaochen/codes/dna_rna/enmspring/tclscripts/show_backbone_pair.tcl\n",
      "/home/yizaochen/Desktop/dna_slide_202102/mol_structure/g_tract_21mer_hb_1\n"
     ]
    }
   ],
   "source": [
    "radius = 0.5\n",
    "draw_agent.vmd_show_whole_HB(df1, radius, eigv_id)"
   ]
  },
  {
   "cell_type": "markdown",
   "metadata": {},
   "source": [
    "### Part : Draw Laplacian Matrix"
   ]
  },
  {
   "cell_type": "code",
   "execution_count": 48,
   "metadata": {},
   "outputs": [
    {
     "name": "stdout",
     "output_type": "stream",
     "text": [
      "/home/yizaochen/codes/dna_rna/fluctmatch_sequence/a_tract_21mer/bdna+bdna/pd_dfs exists\n",
      "Read Dataframe of stacking: df_st\n",
      "/home/yizaochen/codes/dna_rna/fluctmatch_sequence/a_tract_21mer/bdna+bdna/pd_dfs exists\n",
      "/home/yizaochen/codes/dna_rna/fluctmatch_sequence/a_tract_21mer/bdna+bdna/pd_dfs exists\n",
      "Thare are 399 nodes.\n",
      "Initialize adjacency, degree and Laplacian matrices... Done.\n",
      "Finish the setup for Laplaican matrix.\n"
     ]
    }
   ],
   "source": [
    "host = 'a_tract_21mer'\n",
    "g_agent = onlyHB(host, rootfolder)\n",
    "g_agent.pre_process()"
   ]
  },
  {
   "cell_type": "code",
   "execution_count": 58,
   "metadata": {},
   "outputs": [
    {
     "data": {
      "image/png": "[encoded data removed]",
      "text/plain": [
       "<Figure size 576x576 with 2 Axes>"
      ]
     },
     "metadata": {
      "needs_background": "light"
     },
     "output_type": "display_data"
    }
   ],
   "source": [
    "fig, ax = plt.subplots(figsize=(8,8))\n",
    "\n",
    "ims = ax.imshow(g_agent.laplacian_mat, cmap='Reds')\n",
    "ticks = [0, 50, 100, 150, 200, 250, 300, 350]\n",
    "ticklabels = [1,50,100,150,200,250,300,350]\n",
    "ax.set_xticks(ticks)\n",
    "ax.set_yticks(ticks)\n",
    "ax.set_xticklabels(ticklabels)\n",
    "ax.set_yticklabels(ticklabels)\n",
    "ax.xaxis.tick_top()\n",
    "ax.set_xlabel('heavy atom index', fontsize=14)\n",
    "ax.set_ylabel('heavy atom index', fontsize=14)\n",
    "ax.xaxis.set_label_position('top') \n",
    "cb = fig.colorbar(ims, shrink=0.75)\n",
    "cb.set_label('kcal/mol/Å$^2$')\n",
    "\n",
    "plt.tight_layout()\n",
    "plt.savefig('hb_laplacian.png', dpi=300)\n",
    "plt.show()"
   ]
  },
  {
   "cell_type": "code",
   "execution_count": null,
   "metadata": {},
   "outputs": [],
   "source": []
  }
 ],
 "metadata": {
  "kernelspec": {
   "display_name": "Python 3",
   "language": "python",
   "name": "python3"
  },
  "language_info": {
   "codemirror_mode": {
    "name": "ipython",
    "version": 3
   },
   "file_extension": ".py",
   "mimetype": "text/x-python",
   "name": "python",
   "nbconvert_exporter": "python",
   "pygments_lexer": "ipython3",
   "version": "3.8.5"
  }
 },
 "nbformat": 4,
 "nbformat_minor": 4
}
