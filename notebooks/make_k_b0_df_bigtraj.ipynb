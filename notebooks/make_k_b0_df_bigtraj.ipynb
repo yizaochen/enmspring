{
 "cells": [
  {
   "cell_type": "code",
   "execution_count": 1,
   "metadata": {},
   "outputs": [],
   "source": [
    "from enmspring.spring import BigTrajAgent\n",
    "interactions = ['other', 'backbone', 'stack', 'sugar', 'HB']"
   ]
  },
  {
   "cell_type": "markdown",
   "metadata": {},
   "source": [
    "### Part 0: Initialize"
   ]
  },
  {
   "cell_type": "code",
   "execution_count": 23,
   "metadata": {},
   "outputs": [
    {
     "name": "stdout",
     "output_type": "stream",
     "text": [
      "mkdir /home/ytcdata/bigtraj_fluctmatch/1000ns/tat_21mer/bdna+bdna/0_1000/pd_dfs\n",
      "mkdir /home/ytcdata/bigtraj_fluctmatch/1000ns/tat_21mer/bdna+bdna/500_1500/pd_dfs\n",
      "mkdir /home/ytcdata/bigtraj_fluctmatch/1000ns/tat_21mer/bdna+bdna/1000_2000/pd_dfs\n",
      "mkdir /home/ytcdata/bigtraj_fluctmatch/1000ns/tat_21mer/bdna+bdna/1500_2500/pd_dfs\n",
      "mkdir /home/ytcdata/bigtraj_fluctmatch/1000ns/tat_21mer/bdna+bdna/2000_3000/pd_dfs\n",
      "mkdir /home/ytcdata/bigtraj_fluctmatch/1000ns/tat_21mer/bdna+bdna/2500_3500/pd_dfs\n",
      "mkdir /home/ytcdata/bigtraj_fluctmatch/1000ns/tat_21mer/bdna+bdna/3000_4000/pd_dfs\n",
      "mkdir /home/ytcdata/bigtraj_fluctmatch/1000ns/tat_21mer/bdna+bdna/3500_4500/pd_dfs\n",
      "mkdir /home/ytcdata/bigtraj_fluctmatch/1000ns/tat_21mer/bdna+bdna/4000_5000/pd_dfs\n"
     ]
    }
   ],
   "source": [
    "host = 'tat_21mer'\n",
    "type_na = 'bdna+bdna'\n",
    "\n",
    "only_central = False\n",
    "split_5 = False\n",
    "one_big_window = False\n",
    "\n",
    "#bigtraj_folder = '/home/ytcdata/bigtraj_fluctmatch/split_5'\n",
    "#bigtraj_folder = '/home/ytcdata/bigtraj_fluctmatch/5000ns'\n",
    "bigtraj_folder = '/home/ytcdata/bigtraj_fluctmatch/1000ns'\n",
    "\n",
    "b_agent = BigTrajAgent(host, type_na, bigtraj_folder, only_central, split_5, one_big_window)"
   ]
  },
  {
   "cell_type": "markdown",
   "metadata": {},
   "source": [
    "### Part 1: Set requiedment map"
   ]
  },
  {
   "cell_type": "code",
   "execution_count": 24,
   "metadata": {},
   "outputs": [],
   "source": [
    "b_agent.set_required_dictionaries()"
   ]
  },
  {
   "cell_type": "markdown",
   "metadata": {},
   "source": [
    "### Part 2: Make DataFrame"
   ]
  },
  {
   "cell_type": "code",
   "execution_count": 25,
   "metadata": {},
   "outputs": [
    {
     "name": "stdout",
     "output_type": "stream",
     "text": [
      "For 0_1000\n",
      "There are 1208 other-bonds\n",
      "There are 1360 backbone-bonds\n",
      "There are 796 stack-bonds\n",
      "There are 1129 sugar-bonds\n",
      "There are 267 HB-bonds\n",
      "\n",
      "\n",
      "For 500_1500\n",
      "There are 1215 other-bonds\n",
      "There are 1368 backbone-bonds\n",
      "There are 801 stack-bonds\n",
      "There are 1142 sugar-bonds\n",
      "There are 255 HB-bonds\n",
      "\n",
      "\n",
      "For 1000_2000\n",
      "There are 1230 other-bonds\n",
      "There are 1370 backbone-bonds\n",
      "There are 795 stack-bonds\n",
      "There are 1143 sugar-bonds\n",
      "There are 257 HB-bonds\n",
      "\n",
      "\n",
      "For 1500_2500\n",
      "There are 1223 other-bonds\n",
      "There are 1383 backbone-bonds\n",
      "There are 811 stack-bonds\n",
      "There are 1154 sugar-bonds\n",
      "There are 282 HB-bonds\n",
      "\n",
      "\n",
      "For 2000_3000\n",
      "There are 1212 other-bonds\n",
      "There are 1354 backbone-bonds\n",
      "There are 788 stack-bonds\n",
      "There are 1128 sugar-bonds\n",
      "There are 268 HB-bonds\n",
      "\n",
      "\n",
      "For 2500_3500\n",
      "There are 1212 other-bonds\n",
      "There are 1371 backbone-bonds\n",
      "There are 785 stack-bonds\n",
      "There are 1136 sugar-bonds\n",
      "There are 256 HB-bonds\n",
      "\n",
      "\n",
      "For 3000_4000\n",
      "There are 1226 other-bonds\n",
      "There are 1361 backbone-bonds\n",
      "There are 795 stack-bonds\n",
      "There are 1141 sugar-bonds\n",
      "There are 254 HB-bonds\n",
      "\n",
      "\n",
      "For 3500_4500\n",
      "There are 1223 other-bonds\n",
      "There are 1365 backbone-bonds\n",
      "There are 794 stack-bonds\n",
      "There are 1126 sugar-bonds\n",
      "There are 256 HB-bonds\n",
      "\n",
      "\n",
      "For 4000_5000\n",
      "There are 1217 other-bonds\n",
      "There are 1363 backbone-bonds\n",
      "There are 791 stack-bonds\n",
      "There are 1126 sugar-bonds\n",
      "There are 265 HB-bonds\n",
      "\n",
      "\n"
     ]
    }
   ],
   "source": [
    "b_agent.make_all_k_b0_pairtype_df()"
   ]
  },
  {
   "cell_type": "code",
   "execution_count": null,
   "metadata": {},
   "outputs": [],
   "source": []
  }
 ],
 "metadata": {
  "kernelspec": {
   "display_name": "Python 3",
   "language": "python",
   "name": "python3"
  },
  "language_info": {
   "codemirror_mode": {
    "name": "ipython",
    "version": 3
   },
   "file_extension": ".py",
   "mimetype": "text/x-python",
   "name": "python",
   "nbconvert_exporter": "python",
   "pygments_lexer": "ipython3",
   "version": "3.8.5"
  }
 },
 "nbformat": 4,
 "nbformat_minor": 4
}
