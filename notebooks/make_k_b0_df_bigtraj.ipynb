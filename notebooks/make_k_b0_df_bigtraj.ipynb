{
 "cells": [
  {
   "cell_type": "code",
   "execution_count": 1,
   "metadata": {},
   "outputs": [],
   "source": [
    "from enmspring.spring import BigTrajAgent\n",
    "interactions = ['other', 'backbone', 'stack', 'sugar', 'HB']\n",
    "bigtraj_folder = '/home/ytcdata/bigtraj_fluctmatch'"
   ]
  },
  {
   "cell_type": "markdown",
   "metadata": {},
   "source": [
    "### Part 0: Initialize"
   ]
  },
  {
   "cell_type": "code",
   "execution_count": 15,
   "metadata": {},
   "outputs": [
    {
     "name": "stdout",
     "output_type": "stream",
     "text": [
      "mkdir /home/ytcdata/bigtraj_fluctmatch/tgtg_21mer/bdna+bdna/0_1000/pd_dfs\n",
      "mkdir /home/ytcdata/bigtraj_fluctmatch/tgtg_21mer/bdna+bdna/500_1500/pd_dfs\n",
      "mkdir /home/ytcdata/bigtraj_fluctmatch/tgtg_21mer/bdna+bdna/1000_2000/pd_dfs\n",
      "mkdir /home/ytcdata/bigtraj_fluctmatch/tgtg_21mer/bdna+bdna/1500_2500/pd_dfs\n",
      "mkdir /home/ytcdata/bigtraj_fluctmatch/tgtg_21mer/bdna+bdna/2000_3000/pd_dfs\n",
      "mkdir /home/ytcdata/bigtraj_fluctmatch/tgtg_21mer/bdna+bdna/2500_3500/pd_dfs\n",
      "mkdir /home/ytcdata/bigtraj_fluctmatch/tgtg_21mer/bdna+bdna/3000_4000/pd_dfs\n",
      "mkdir /home/ytcdata/bigtraj_fluctmatch/tgtg_21mer/bdna+bdna/3500_4500/pd_dfs\n",
      "mkdir /home/ytcdata/bigtraj_fluctmatch/tgtg_21mer/bdna+bdna/4000_5000/pd_dfs\n"
     ]
    }
   ],
   "source": [
    "host = 'tgtg_21mer'\n",
    "type_na = 'bdna+bdna'\n",
    "only_central = True\n",
    "b_agent = BigTrajAgent(host, type_na, bigtraj_folder, only_central)"
   ]
  },
  {
   "cell_type": "markdown",
   "metadata": {},
   "source": [
    "### Part 1: Set requiedment map"
   ]
  },
  {
   "cell_type": "code",
   "execution_count": 16,
   "metadata": {},
   "outputs": [],
   "source": [
    "b_agent.set_required_dictionaries()"
   ]
  },
  {
   "cell_type": "markdown",
   "metadata": {},
   "source": [
    "### Part 2: Make DataFrame"
   ]
  },
  {
   "cell_type": "code",
   "execution_count": 17,
   "metadata": {},
   "outputs": [
    {
     "name": "stdout",
     "output_type": "stream",
     "text": [
      "For 0_1000\n",
      "There are 1253 other-bonds\n",
      "There are 1374 backbone-bonds\n",
      "There are 655 stack-bonds\n",
      "There are 1066 sugar-bonds\n",
      "There are 280 HB-bonds\n",
      "\n",
      "\n",
      "For 500_1500\n",
      "There are 1254 other-bonds\n",
      "There are 1365 backbone-bonds\n",
      "There are 623 stack-bonds\n",
      "There are 1059 sugar-bonds\n",
      "There are 274 HB-bonds\n",
      "\n",
      "\n",
      "For 1000_2000\n",
      "There are 1249 other-bonds\n",
      "There are 1356 backbone-bonds\n",
      "There are 602 stack-bonds\n",
      "There are 1068 sugar-bonds\n",
      "There are 275 HB-bonds\n",
      "\n",
      "\n",
      "For 1500_2500\n",
      "There are 1250 other-bonds\n",
      "There are 1364 backbone-bonds\n",
      "There are 589 stack-bonds\n",
      "There are 1065 sugar-bonds\n",
      "There are 281 HB-bonds\n",
      "\n",
      "\n",
      "For 2000_3000\n",
      "There are 1248 other-bonds\n",
      "There are 1365 backbone-bonds\n",
      "There are 612 stack-bonds\n",
      "There are 1054 sugar-bonds\n",
      "There are 277 HB-bonds\n",
      "\n",
      "\n",
      "For 2500_3500\n",
      "There are 1255 other-bonds\n",
      "There are 1359 backbone-bonds\n",
      "There are 631 stack-bonds\n",
      "There are 1048 sugar-bonds\n",
      "There are 269 HB-bonds\n",
      "\n",
      "\n",
      "For 3000_4000\n",
      "There are 1253 other-bonds\n",
      "There are 1373 backbone-bonds\n",
      "There are 648 stack-bonds\n",
      "There are 1054 sugar-bonds\n",
      "There are 270 HB-bonds\n",
      "\n",
      "\n",
      "For 3500_4500\n",
      "There are 1246 other-bonds\n",
      "There are 1360 backbone-bonds\n",
      "There are 635 stack-bonds\n",
      "There are 1053 sugar-bonds\n",
      "There are 280 HB-bonds\n",
      "\n",
      "\n",
      "For 4000_5000\n",
      "There are 1251 other-bonds\n",
      "There are 1359 backbone-bonds\n",
      "There are 602 stack-bonds\n",
      "There are 1062 sugar-bonds\n",
      "There are 283 HB-bonds\n",
      "\n",
      "\n"
     ]
    }
   ],
   "source": [
    "b_agent.make_all_k_b0_pairtype_df()"
   ]
  },
  {
   "cell_type": "code",
   "execution_count": null,
   "metadata": {},
   "outputs": [],
   "source": []
  }
 ],
 "metadata": {
  "kernelspec": {
   "display_name": "Python 3",
   "language": "python",
   "name": "python3"
  },
  "language_info": {
   "codemirror_mode": {
    "name": "ipython",
    "version": 3
   },
   "file_extension": ".py",
   "mimetype": "text/x-python",
   "name": "python",
   "nbconvert_exporter": "python",
   "pygments_lexer": "ipython3",
   "version": "3.8.5"
  }
 },
 "nbformat": 4,
 "nbformat_minor": 4
}
