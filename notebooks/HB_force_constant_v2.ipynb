{
 "cells": [
  {
   "cell_type": "code",
   "execution_count": 12,
   "metadata": {},
   "outputs": [],
   "source": [
    "import matplotlib.pyplot as plt\n",
    "from matplotlib import rcParams\n",
    "from enmspring.hb_k import HBResidPlot\n",
    "bigtraj_folder = '/home/ytcdata/bigtraj_fluctmatch'\n",
    "df_folder = '/home/yizaochen/Documents/dna_2021_drawzone/local_hb'\n",
    "rcParams['font.family'] = 'Arial'"
   ]
  },
  {
   "cell_type": "markdown",
   "metadata": {},
   "source": [
    "### Part 1: Initialize"
   ]
  },
  {
   "cell_type": "code",
   "execution_count": 13,
   "metadata": {},
   "outputs": [],
   "source": [
    "interval_time = 500\n",
    "plot_agent = HBResidPlot(bigtraj_folder, interval_time, df_folder)"
   ]
  },
  {
   "cell_type": "markdown",
   "metadata": {},
   "source": [
    "### Part 2: Make/Read DataFrame"
   ]
  },
  {
   "cell_type": "code",
   "execution_count": 14,
   "metadata": {},
   "outputs": [],
   "source": [
    "# If Need\n",
    "#plot_agent.make_mean_std_df()"
   ]
  },
  {
   "cell_type": "code",
   "execution_count": 15,
   "metadata": {},
   "outputs": [
    {
     "name": "stdout",
     "output_type": "stream",
     "text": [
      "Read df_mean from /home/yizaochen/Documents/dna_2021_drawzone/local_hb/hb.mean.csv\n",
      "Read df_std from /home/yizaochen/Documents/dna_2021_drawzone/local_hb/hb.std.csv\n"
     ]
    }
   ],
   "source": [
    "plot_agent.read_mean_std_df()"
   ]
  },
  {
   "cell_type": "code",
   "execution_count": 16,
   "metadata": {},
   "outputs": [
    {
     "data": {
      "text/html": [
       "<div>\n",
       "<style scoped>\n",
       "    .dataframe tbody tr th:only-of-type {\n",
       "        vertical-align: middle;\n",
       "    }\n",
       "\n",
       "    .dataframe tbody tr th {\n",
       "        vertical-align: top;\n",
       "    }\n",
       "\n",
       "    .dataframe thead th {\n",
       "        text-align: right;\n",
       "    }\n",
       "</style>\n",
       "<table border=\"1\" class=\"dataframe\">\n",
       "  <thead>\n",
       "    <tr style=\"text-align: right;\">\n",
       "      <th></th>\n",
       "      <th>a_tract_21mer-type1</th>\n",
       "      <th>a_tract_21mer-type2</th>\n",
       "      <th>a_tract_21mer-type3</th>\n",
       "      <th>atat_21mer-type1</th>\n",
       "      <th>atat_21mer-type2</th>\n",
       "      <th>atat_21mer-type3</th>\n",
       "      <th>g_tract_21mer-type1</th>\n",
       "      <th>g_tract_21mer-type2</th>\n",
       "      <th>g_tract_21mer-type3</th>\n",
       "      <th>gcgc_21mer-type1</th>\n",
       "      <th>gcgc_21mer-type2</th>\n",
       "      <th>gcgc_21mer-type3</th>\n",
       "    </tr>\n",
       "  </thead>\n",
       "  <tbody>\n",
       "    <tr>\n",
       "      <th>0</th>\n",
       "      <td>0.000000</td>\n",
       "      <td>0.000000</td>\n",
       "      <td>0.002953</td>\n",
       "      <td>0.000000</td>\n",
       "      <td>0.000000</td>\n",
       "      <td>0.000000</td>\n",
       "      <td>0.133611</td>\n",
       "      <td>0.284374</td>\n",
       "      <td>0.551089</td>\n",
       "      <td>0.724489</td>\n",
       "      <td>1.944032</td>\n",
       "      <td>2.308989</td>\n",
       "    </tr>\n",
       "    <tr>\n",
       "      <th>1</th>\n",
       "      <td>0.182095</td>\n",
       "      <td>0.271021</td>\n",
       "      <td>0.049021</td>\n",
       "      <td>0.000000</td>\n",
       "      <td>0.000000</td>\n",
       "      <td>0.002674</td>\n",
       "      <td>2.762421</td>\n",
       "      <td>3.939426</td>\n",
       "      <td>4.460532</td>\n",
       "      <td>4.030279</td>\n",
       "      <td>7.402021</td>\n",
       "      <td>6.661105</td>\n",
       "    </tr>\n",
       "    <tr>\n",
       "      <th>2</th>\n",
       "      <td>2.284226</td>\n",
       "      <td>3.488068</td>\n",
       "      <td>0.639942</td>\n",
       "      <td>2.122068</td>\n",
       "      <td>2.034663</td>\n",
       "      <td>0.526689</td>\n",
       "      <td>3.928100</td>\n",
       "      <td>6.767711</td>\n",
       "      <td>7.008705</td>\n",
       "      <td>5.285542</td>\n",
       "      <td>9.003642</td>\n",
       "      <td>7.062516</td>\n",
       "    </tr>\n",
       "    <tr>\n",
       "      <th>3</th>\n",
       "      <td>2.983037</td>\n",
       "      <td>5.049595</td>\n",
       "      <td>0.813816</td>\n",
       "      <td>2.040437</td>\n",
       "      <td>3.125358</td>\n",
       "      <td>0.754916</td>\n",
       "      <td>3.814068</td>\n",
       "      <td>7.137226</td>\n",
       "      <td>7.714626</td>\n",
       "      <td>5.261747</td>\n",
       "      <td>9.158689</td>\n",
       "      <td>7.531832</td>\n",
       "    </tr>\n",
       "    <tr>\n",
       "      <th>4</th>\n",
       "      <td>3.626137</td>\n",
       "      <td>5.908568</td>\n",
       "      <td>1.005637</td>\n",
       "      <td>2.058479</td>\n",
       "      <td>4.488879</td>\n",
       "      <td>0.836584</td>\n",
       "      <td>3.974411</td>\n",
       "      <td>7.655605</td>\n",
       "      <td>8.209858</td>\n",
       "      <td>4.940189</td>\n",
       "      <td>8.564932</td>\n",
       "      <td>7.380726</td>\n",
       "    </tr>\n",
       "  </tbody>\n",
       "</table>\n",
       "</div>"
      ],
      "text/plain": [
       "   a_tract_21mer-type1  a_tract_21mer-type2  a_tract_21mer-type3  \\\n",
       "0             0.000000             0.000000             0.002953   \n",
       "1             0.182095             0.271021             0.049021   \n",
       "2             2.284226             3.488068             0.639942   \n",
       "3             2.983037             5.049595             0.813816   \n",
       "4             3.626137             5.908568             1.005637   \n",
       "\n",
       "   atat_21mer-type1  atat_21mer-type2  atat_21mer-type3  g_tract_21mer-type1  \\\n",
       "0          0.000000          0.000000          0.000000             0.133611   \n",
       "1          0.000000          0.000000          0.002674             2.762421   \n",
       "2          2.122068          2.034663          0.526689             3.928100   \n",
       "3          2.040437          3.125358          0.754916             3.814068   \n",
       "4          2.058479          4.488879          0.836584             3.974411   \n",
       "\n",
       "   g_tract_21mer-type2  g_tract_21mer-type3  gcgc_21mer-type1  \\\n",
       "0             0.284374             0.551089          0.724489   \n",
       "1             3.939426             4.460532          4.030279   \n",
       "2             6.767711             7.008705          5.285542   \n",
       "3             7.137226             7.714626          5.261747   \n",
       "4             7.655605             8.209858          4.940189   \n",
       "\n",
       "   gcgc_21mer-type2  gcgc_21mer-type3  \n",
       "0          1.944032          2.308989  \n",
       "1          7.402021          6.661105  \n",
       "2          9.003642          7.062516  \n",
       "3          9.158689          7.531832  \n",
       "4          8.564932          7.380726  "
      ]
     },
     "execution_count": 16,
     "metadata": {},
     "output_type": "execute_result"
    }
   ],
   "source": [
    "plot_agent.df_mean.head()\n",
    "#plot_agent.df_std.head()"
   ]
  },
  {
   "cell_type": "markdown",
   "metadata": {},
   "source": [
    "### Part 2: Plot"
   ]
  },
  {
   "cell_type": "code",
   "execution_count": 17,
   "metadata": {},
   "outputs": [
    {
     "data": {
      "image/png": "[encoded data removed]",
      "text/plain": [
       "<Figure size 237.6x180 with 6 Axes>"
      ]
     },
     "metadata": {},
     "output_type": "display_data"
    }
   ],
   "source": [
    "figsize = (3.3, 2.5)\n",
    "plot_agent.plot_hb_vs_resids(figsize)\n",
    "plt.savefig(f'/home/yizaochen/Desktop/drawzone_temp/hb_resids.svg', dpi=300, transparent=False)\n",
    "plt.show()"
   ]
  },
  {
   "cell_type": "code",
   "execution_count": null,
   "metadata": {},
   "outputs": [],
   "source": []
  }
 ],
 "metadata": {
  "kernelspec": {
   "display_name": "Python 3",
   "language": "python",
   "name": "python3"
  },
  "language_info": {
   "codemirror_mode": {
    "name": "ipython",
    "version": 3
   },
   "file_extension": ".py",
   "mimetype": "text/x-python",
   "name": "python",
   "nbconvert_exporter": "python",
   "pygments_lexer": "ipython3",
   "version": "3.8.5"
  }
 },
 "nbformat": 4,
 "nbformat_minor": 4
}
