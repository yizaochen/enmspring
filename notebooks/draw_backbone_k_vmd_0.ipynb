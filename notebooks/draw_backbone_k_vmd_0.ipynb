{
 "cells": [
  {
   "cell_type": "code",
   "execution_count": 1,
   "metadata": {},
   "outputs": [],
   "source": [
    "from enmspring.vmddraw_backbone import TriBaseStepsBackboneVMD\n",
    "all_folder = '/home/yizaochen/codes/dna_rna/all_systems'\n",
    "drawzone_folder = '/home/yizaochen/Desktop/drawzone_temp'\n",
    "tcl_folder = '/home/yizaochen/Desktop/drawzone_temp/tcl_folder'\n",
    "radius = 0.05\n",
    "colorname = 'orange'"
   ]
  },
  {
   "cell_type": "markdown",
   "metadata": {},
   "source": [
    "### Part 1: Initialize"
   ]
  },
  {
   "cell_type": "code",
   "execution_count": 2,
   "metadata": {},
   "outputs": [],
   "source": [
    "host = 'gcgc_21mer'\n",
    "resid_i = 11 # a_tract, g_tract -> 10     atat, gcgc -> 11\n",
    "tri_agent = TriBaseStepsBackboneVMD(all_folder, tcl_folder, host, resid_i)"
   ]
  },
  {
   "cell_type": "markdown",
   "metadata": {},
   "source": [
    "### Part 2: Open Tri-basesteps by VMD"
   ]
  },
  {
   "cell_type": "code",
   "execution_count": 3,
   "metadata": {},
   "outputs": [
    {
     "name": "stdout",
     "output_type": "stream",
     "text": [
      "vmd -pdb /home/yizaochen/codes/dna_rna/all_systems/gcgc_21mer/bdna+bdna/animations/tri_bs_resid11.pdb\n",
      "display resize 660 800\n"
     ]
    }
   ],
   "source": [
    "tri_agent.vmd_show()\n",
    "print('display resize 660 800')"
   ]
  },
  {
   "cell_type": "markdown",
   "metadata": {},
   "source": [
    "### Part 3: Highlight Single Nucleotide"
   ]
  },
  {
   "cell_type": "code",
   "execution_count": 8,
   "metadata": {},
   "outputs": [],
   "source": [
    "i_or_j = 'i+1' # 'i', 'j', 'i+1'"
   ]
  },
  {
   "cell_type": "code",
   "execution_count": 5,
   "metadata": {},
   "outputs": [
    {
     "name": "stdout",
     "output_type": "stream",
     "text": [
      "source /home/yizaochen/Desktop/drawzone_temp/tcl_folder/highlight_single_nucleotide_i.tcl\n"
     ]
    }
   ],
   "source": [
    "tri_agent.highlight_single_nucleotdie(i_or_j) # 'i', 'j'"
   ]
  },
  {
   "cell_type": "markdown",
   "metadata": {},
   "source": [
    "### Part 4: Highlight Springs"
   ]
  },
  {
   "cell_type": "code",
   "execution_count": 12,
   "metadata": {},
   "outputs": [],
   "source": [
    "d_springs = {\n",
    "    'a_tract_21mer': {('i', 'i'): [(\"C1'\", 'N3')],\n",
    "                      ('j', 'j'): [(\"C1'\", 'O2')]},\n",
    "    'g_tract_21mer': {('i', 'i'): [(\"C1'\", 'N3')],\n",
    "                      ('j', 'j'): [(\"C1'\", 'O2')]}\n",
    "}"
   ]
  },
  {
   "cell_type": "code",
   "execution_count": 10,
   "metadata": {},
   "outputs": [],
   "source": [
    "d_springs = {\n",
    "    'a_tract_21mer': {('i', 'i'): [(\"C1'\", \"N3\"), (\"C2'\", \"P\"), (\"C2'\", \"O1P\")],\n",
    "                      ('j', 'j+1'): [(\"C4'\", \"O5'\"), (\"C2'\", \"P\"), (\"C2'\", \"O1P\")]},\n",
    "    'g_tract_21mer': {('i', 'i'): [(\"C1'\", \"N3\"), (\"C2'\", \"C8\"), (\"O4'\", \"O5'\")],\n",
    "                      ('j', 'j'): [(\"C1'\", \"O2\"), (\"C2'\", \"C6\"), (\"O4'\", \"O5'\")]},\n",
    "    'gcgc_21mer': {('i', 'i'): [(\"C1'\", \"N3\"), (\"O4'\", \"O5'\")],\n",
    "                   ('i+1', 'i+1'): [(\"C1'\", \"O2\"), (\"O4'\", \"O5'\")]},\n",
    "\n",
    "}"
   ]
  },
  {
   "cell_type": "code",
   "execution_count": 11,
   "metadata": {},
   "outputs": [
    {
     "name": "stdout",
     "output_type": "stream",
     "text": [
      "source /home/yizaochen/Desktop/drawzone_temp/tcl_folder/highlight_springs_i+1.tcl\n"
     ]
    }
   ],
   "source": [
    "tri_agent.highlight_springs(i_or_j, d_springs, radius, colorname)"
   ]
  },
  {
   "cell_type": "code",
   "execution_count": 12,
   "metadata": {},
   "outputs": [
    {
     "name": "stdout",
     "output_type": "stream",
     "text": [
      "render Tachyon /home/yizaochen/Desktop/drawzone_temp/gcgc_21mer_i+1_outline \"/usr/local/lib/vmd/tachyon_LINUXAMD64\" -aasamples 12 %s -format TARGA -o %s.tga\n"
     ]
    }
   ],
   "source": [
    "tga_name = f'{host}_{i_or_j}_outline'\n",
    "tri_agent.tachyon_take_photo_cmd(drawzone_folder, tga_name)"
   ]
  },
  {
   "cell_type": "code",
   "execution_count": null,
   "metadata": {},
   "outputs": [],
   "source": []
  }
 ],
 "metadata": {
  "kernelspec": {
   "display_name": "Python 3",
   "language": "python",
   "name": "python3"
  },
  "language_info": {
   "codemirror_mode": {
    "name": "ipython",
    "version": 3
   },
   "file_extension": ".py",
   "mimetype": "text/x-python",
   "name": "python",
   "nbconvert_exporter": "python",
   "pygments_lexer": "ipython3",
   "version": "3.8.5"
  }
 },
 "nbformat": 4,
 "nbformat_minor": 4
}
