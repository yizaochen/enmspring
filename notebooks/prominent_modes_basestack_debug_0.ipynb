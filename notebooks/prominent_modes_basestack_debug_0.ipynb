{
 "cells": [
  {
   "cell_type": "code",
   "execution_count": 1,
   "metadata": {},
   "outputs": [],
   "source": [
    "import matplotlib.pyplot as plt\n",
    "import numpy as np\n",
    "import pandas as pd\n",
    "from enmspring.graphs_bigtraj import StackMeanModeAgent, ProminentModes\n",
    "from enmspring.abbr import Abbreviation\n",
    "\n",
    "rootfolder = '/home/ytcdata/bigtraj_fluctmatch/500ns'"
   ]
  },
  {
   "cell_type": "markdown",
   "metadata": {},
   "source": [
    "### Part 1: Initialize"
   ]
  },
  {
   "cell_type": "code",
   "execution_count": 2,
   "metadata": {
    "collapsed": true,
    "jupyter": {
     "outputs_hidden": true
    }
   },
   "outputs": [
    {
     "name": "stdout",
     "output_type": "stream",
     "text": [
      "/home/ytcdata/bigtraj_fluctmatch/500ns/a_tract_21mer/mean_mode_npy exists\n",
      "/home/ytcdata/bigtraj_fluctmatch/500ns/a_tract_21mer/bdna+bdna/0_500/pd_dfs exists\n",
      "Read Dataframe of stacking: df_st\n",
      "/home/ytcdata/bigtraj_fluctmatch/500ns/a_tract_21mer/bdna+bdna/250_750/pd_dfs exists\n",
      "Read Dataframe of stacking: df_st\n",
      "/home/ytcdata/bigtraj_fluctmatch/500ns/a_tract_21mer/bdna+bdna/500_1000/pd_dfs exists\n",
      "Read Dataframe of stacking: df_st\n",
      "/home/ytcdata/bigtraj_fluctmatch/500ns/a_tract_21mer/bdna+bdna/750_1250/pd_dfs exists\n",
      "Read Dataframe of stacking: df_st\n",
      "/home/ytcdata/bigtraj_fluctmatch/500ns/a_tract_21mer/bdna+bdna/1000_1500/pd_dfs exists\n",
      "Read Dataframe of stacking: df_st\n",
      "/home/ytcdata/bigtraj_fluctmatch/500ns/a_tract_21mer/bdna+bdna/1250_1750/pd_dfs exists\n",
      "Read Dataframe of stacking: df_st\n",
      "/home/ytcdata/bigtraj_fluctmatch/500ns/a_tract_21mer/bdna+bdna/1500_2000/pd_dfs exists\n",
      "Read Dataframe of stacking: df_st\n",
      "/home/ytcdata/bigtraj_fluctmatch/500ns/a_tract_21mer/bdna+bdna/1750_2250/pd_dfs exists\n",
      "Read Dataframe of stacking: df_st\n",
      "/home/ytcdata/bigtraj_fluctmatch/500ns/a_tract_21mer/bdna+bdna/2000_2500/pd_dfs exists\n",
      "Read Dataframe of stacking: df_st\n",
      "/home/ytcdata/bigtraj_fluctmatch/500ns/a_tract_21mer/bdna+bdna/2250_2750/pd_dfs exists\n",
      "Read Dataframe of stacking: df_st\n",
      "/home/ytcdata/bigtraj_fluctmatch/500ns/a_tract_21mer/bdna+bdna/2500_3000/pd_dfs exists\n",
      "Read Dataframe of stacking: df_st\n",
      "/home/ytcdata/bigtraj_fluctmatch/500ns/a_tract_21mer/bdna+bdna/2750_3250/pd_dfs exists\n",
      "Read Dataframe of stacking: df_st\n",
      "/home/ytcdata/bigtraj_fluctmatch/500ns/a_tract_21mer/bdna+bdna/3000_3500/pd_dfs exists\n",
      "Read Dataframe of stacking: df_st\n",
      "/home/ytcdata/bigtraj_fluctmatch/500ns/a_tract_21mer/bdna+bdna/3250_3750/pd_dfs exists\n",
      "Read Dataframe of stacking: df_st\n",
      "/home/ytcdata/bigtraj_fluctmatch/500ns/a_tract_21mer/bdna+bdna/3500_4000/pd_dfs exists\n",
      "Read Dataframe of stacking: df_st\n",
      "/home/ytcdata/bigtraj_fluctmatch/500ns/a_tract_21mer/bdna+bdna/3750_4250/pd_dfs exists\n",
      "Read Dataframe of stacking: df_st\n",
      "/home/ytcdata/bigtraj_fluctmatch/500ns/a_tract_21mer/bdna+bdna/4000_4500/pd_dfs exists\n",
      "Read Dataframe of stacking: df_st\n",
      "/home/ytcdata/bigtraj_fluctmatch/500ns/a_tract_21mer/bdna+bdna/4250_4750/pd_dfs exists\n",
      "Read Dataframe of stacking: df_st\n",
      "/home/ytcdata/bigtraj_fluctmatch/500ns/a_tract_21mer/bdna+bdna/4500_5000/pd_dfs exists\n",
      "Read Dataframe of stacking: df_st\n",
      "Load laplacian_mat from /home/ytcdata/bigtraj_fluctmatch/500ns/a_tract_21mer/mean_mode_npy/laplacian.npy\n"
     ]
    }
   ],
   "source": [
    "host = 'a_tract_21mer'\n",
    "interval_time = 500\n",
    "p_agent = ProminentModes(host, rootfolder, interval_time)"
   ]
  },
  {
   "cell_type": "markdown",
   "metadata": {},
   "source": [
    "### Part 2: Initialize all small agents"
   ]
  },
  {
   "cell_type": "code",
   "execution_count": 3,
   "metadata": {
    "collapsed": true,
    "jupyter": {
     "outputs_hidden": true
    }
   },
   "outputs": [
    {
     "name": "stdout",
     "output_type": "stream",
     "text": [
      "Thare are 399 nodes.\n",
      "Initialize adjacency, degree and Laplacian matrices... Done.\n",
      "Finish the setup for Laplaican matrix.\n",
      "Total number of nodes: 399\n",
      "There are 210 eigenvectors belonging to STRAND1.\n",
      "There are 189 eigenvectors belonging to STRAND2.\n",
      "Sum of two strands: 399\n",
      "Thare are 399 nodes.\n",
      "Initialize adjacency, degree and Laplacian matrices... Done.\n",
      "Finish the setup for Laplaican matrix.\n",
      "Total number of nodes: 399\n",
      "There are 210 eigenvectors belonging to STRAND1.\n",
      "There are 189 eigenvectors belonging to STRAND2.\n",
      "Sum of two strands: 399\n",
      "Thare are 399 nodes.\n",
      "Initialize adjacency, degree and Laplacian matrices... Done.\n",
      "Finish the setup for Laplaican matrix.\n",
      "Total number of nodes: 399\n",
      "There are 210 eigenvectors belonging to STRAND1.\n",
      "There are 189 eigenvectors belonging to STRAND2.\n",
      "Sum of two strands: 399\n",
      "Thare are 399 nodes.\n",
      "Initialize adjacency, degree and Laplacian matrices... Done.\n",
      "Finish the setup for Laplaican matrix.\n",
      "Total number of nodes: 399\n",
      "There are 210 eigenvectors belonging to STRAND1.\n",
      "There are 189 eigenvectors belonging to STRAND2.\n",
      "Sum of two strands: 399\n",
      "Thare are 399 nodes.\n",
      "Initialize adjacency, degree and Laplacian matrices... Done.\n",
      "Finish the setup for Laplaican matrix.\n",
      "Total number of nodes: 399\n",
      "There are 210 eigenvectors belonging to STRAND1.\n",
      "There are 189 eigenvectors belonging to STRAND2.\n",
      "Sum of two strands: 399\n",
      "Thare are 399 nodes.\n",
      "Initialize adjacency, degree and Laplacian matrices... Done.\n",
      "Finish the setup for Laplaican matrix.\n",
      "Total number of nodes: 399\n",
      "There are 209 eigenvectors belonging to STRAND1.\n",
      "There are 190 eigenvectors belonging to STRAND2.\n",
      "Sum of two strands: 399\n",
      "Thare are 399 nodes.\n",
      "Initialize adjacency, degree and Laplacian matrices... Done.\n",
      "Finish the setup for Laplaican matrix.\n",
      "Total number of nodes: 399\n",
      "There are 211 eigenvectors belonging to STRAND1.\n",
      "There are 188 eigenvectors belonging to STRAND2.\n",
      "Sum of two strands: 399\n",
      "Thare are 399 nodes.\n",
      "Initialize adjacency, degree and Laplacian matrices... Done.\n",
      "Finish the setup for Laplaican matrix.\n",
      "Total number of nodes: 399\n",
      "There are 211 eigenvectors belonging to STRAND1.\n",
      "There are 188 eigenvectors belonging to STRAND2.\n",
      "Sum of two strands: 399\n",
      "Thare are 399 nodes.\n",
      "Initialize adjacency, degree and Laplacian matrices... Done.\n",
      "Finish the setup for Laplaican matrix.\n",
      "Total number of nodes: 399\n",
      "There are 211 eigenvectors belonging to STRAND1.\n",
      "There are 188 eigenvectors belonging to STRAND2.\n",
      "Sum of two strands: 399\n",
      "Thare are 399 nodes.\n",
      "Initialize adjacency, degree and Laplacian matrices... Done.\n",
      "Finish the setup for Laplaican matrix.\n",
      "Total number of nodes: 399\n",
      "There are 211 eigenvectors belonging to STRAND1.\n",
      "There are 188 eigenvectors belonging to STRAND2.\n",
      "Sum of two strands: 399\n",
      "Thare are 399 nodes.\n",
      "Initialize adjacency, degree and Laplacian matrices... Done.\n",
      "Finish the setup for Laplaican matrix.\n",
      "Total number of nodes: 399\n",
      "There are 211 eigenvectors belonging to STRAND1.\n",
      "There are 188 eigenvectors belonging to STRAND2.\n",
      "Sum of two strands: 399\n",
      "Thare are 399 nodes.\n",
      "Initialize adjacency, degree and Laplacian matrices... Done.\n",
      "Finish the setup for Laplaican matrix.\n",
      "Total number of nodes: 399\n",
      "There are 211 eigenvectors belonging to STRAND1.\n",
      "There are 188 eigenvectors belonging to STRAND2.\n",
      "Sum of two strands: 399\n",
      "Thare are 399 nodes.\n",
      "Initialize adjacency, degree and Laplacian matrices... Done.\n",
      "Finish the setup for Laplaican matrix.\n",
      "Total number of nodes: 399\n",
      "There are 211 eigenvectors belonging to STRAND1.\n",
      "There are 188 eigenvectors belonging to STRAND2.\n",
      "Sum of two strands: 399\n",
      "Thare are 399 nodes.\n",
      "Initialize adjacency, degree and Laplacian matrices... Done.\n",
      "Finish the setup for Laplaican matrix.\n",
      "Total number of nodes: 399\n",
      "There are 211 eigenvectors belonging to STRAND1.\n",
      "There are 188 eigenvectors belonging to STRAND2.\n",
      "Sum of two strands: 399\n",
      "Thare are 399 nodes.\n",
      "Initialize adjacency, degree and Laplacian matrices... Done.\n",
      "Finish the setup for Laplaican matrix.\n",
      "Total number of nodes: 399\n",
      "There are 211 eigenvectors belonging to STRAND1.\n",
      "There are 188 eigenvectors belonging to STRAND2.\n",
      "Sum of two strands: 399\n",
      "Thare are 399 nodes.\n",
      "Initialize adjacency, degree and Laplacian matrices... Done.\n",
      "Finish the setup for Laplaican matrix.\n",
      "Total number of nodes: 399\n",
      "There are 211 eigenvectors belonging to STRAND1.\n",
      "There are 188 eigenvectors belonging to STRAND2.\n",
      "Sum of two strands: 399\n",
      "Thare are 399 nodes.\n",
      "Initialize adjacency, degree and Laplacian matrices... Done.\n",
      "Finish the setup for Laplaican matrix.\n",
      "Total number of nodes: 399\n",
      "There are 211 eigenvectors belonging to STRAND1.\n",
      "There are 188 eigenvectors belonging to STRAND2.\n",
      "Sum of two strands: 399\n",
      "Thare are 399 nodes.\n",
      "Initialize adjacency, degree and Laplacian matrices... Done.\n",
      "Finish the setup for Laplaican matrix.\n",
      "Total number of nodes: 399\n",
      "There are 211 eigenvectors belonging to STRAND1.\n",
      "There are 188 eigenvectors belonging to STRAND2.\n",
      "Sum of two strands: 399\n",
      "Thare are 399 nodes.\n",
      "Initialize adjacency, degree and Laplacian matrices... Done.\n",
      "Finish the setup for Laplaican matrix.\n",
      "Total number of nodes: 399\n",
      "There are 211 eigenvectors belonging to STRAND1.\n",
      "There are 188 eigenvectors belonging to STRAND2.\n",
      "Sum of two strands: 399\n"
     ]
    }
   ],
   "source": [
    "execute = True\n",
    "if execute:\n",
    "    p_agent.initialize_small_agents()"
   ]
  },
  {
   "cell_type": "markdown",
   "metadata": {},
   "source": [
    "### Part 3: Get $\\textbf{v}_{1'}$"
   ]
  },
  {
   "cell_type": "code",
   "execution_count": 19,
   "metadata": {},
   "outputs": [],
   "source": [
    "eigv_id = 1\n",
    "v1_prime = p_agent.s_agent.get_eigenvector_by_id(eigv_id)\n",
    "#v2_prime = p_agent.s_agent.get_eigenvector_by_id(2)"
   ]
  },
  {
   "cell_type": "code",
   "execution_count": 20,
   "metadata": {},
   "outputs": [
    {
     "data": {
      "text/plain": [
       "1.0000000000000002"
      ]
     },
     "execution_count": 20,
     "metadata": {},
     "output_type": "execute_result"
    }
   ],
   "source": [
    "np.dot(v1_prime, v1_prime)"
   ]
  },
  {
   "cell_type": "markdown",
   "metadata": {},
   "source": [
    "### Part 4: Get $\\textbf{v}_{n1}$"
   ]
  },
  {
   "cell_type": "code",
   "execution_count": 21,
   "metadata": {},
   "outputs": [
    {
     "name": "stdout",
     "output_type": "stream",
     "text": [
      "(0, 500): -0.975\n",
      "(250, 750): 0.984\n",
      "(500, 1000): -0.997\n",
      "(750, 1250): 0.998\n",
      "(1000, 1500): 0.996\n",
      "(1250, 1750): 0.976\n",
      "(1500, 2000): 0.966\n",
      "(1750, 2250): -0.991\n",
      "(2000, 2500): 0.983\n",
      "(2250, 2750): 0.991\n",
      "(2500, 3000): 0.993\n",
      "(2750, 3250): -0.992\n",
      "(3000, 3500): 0.987\n",
      "(3250, 3750): -0.992\n",
      "(3500, 4000): 0.982\n",
      "(3750, 4250): 0.855\n",
      "(4000, 4500): 0.950\n",
      "(4250, 4750): 0.992\n",
      "(4500, 5000): -0.967\n"
     ]
    }
   ],
   "source": [
    "dot_product_list = list()\n",
    "for key in p_agent.time_list:\n",
    "    v1_window = p_agent.d_smallagents[key].get_eigenvector_by_id(eigv_id)\n",
    "    dot_product = np.dot(v1_prime, v1_window)\n",
    "    print(f'{key}: {dot_product:.3f}')\n",
    "    dot_product_list.append(dot_product)"
   ]
  },
  {
   "cell_type": "code",
   "execution_count": 22,
   "metadata": {},
   "outputs": [
    {
     "data": {
      "text/plain": [
       "0.9771698175154354"
      ]
     },
     "execution_count": 22,
     "metadata": {},
     "output_type": "execute_result"
    }
   ],
   "source": [
    "dot_product_array = np.abs(dot_product_list)\n",
    "dot_product_array.mean()"
   ]
  },
  {
   "cell_type": "code",
   "execution_count": 14,
   "metadata": {},
   "outputs": [],
   "source": [
    "dot_product_list = list()\n",
    "key = p_agent.time_list[0]\n",
    "\n",
    "for eigv_id in range(p_agent.n_eigenvalues):\n",
    "    dot_product = np.dot(v1_prime, p_agent.d_smallagents[key].get_eigenvector_by_id(eigv_id))\n",
    "    dot_product_list.append(dot_product)"
   ]
  },
  {
   "cell_type": "code",
   "execution_count": 15,
   "metadata": {},
   "outputs": [
    {
     "data": {
      "text/plain": [
       "0.9745642625285575"
      ]
     },
     "execution_count": 15,
     "metadata": {},
     "output_type": "execute_result"
    }
   ],
   "source": [
    "dot_product_array = np.abs(dot_product_list)\n",
    "dot_product_array.max()"
   ]
  },
  {
   "cell_type": "markdown",
   "metadata": {},
   "source": [
    "### Part 5: Matrix Multiplication"
   ]
  },
  {
   "cell_type": "code",
   "execution_count": 5,
   "metadata": {},
   "outputs": [],
   "source": [
    "mean_modes_v_mat_T = p_agent.get_mean_modes_v_mat().T\n",
    "#np.dot(mean_modes_v_mat_T[0, :], v1_prime)"
   ]
  },
  {
   "cell_type": "code",
   "execution_count": 7,
   "metadata": {
    "collapsed": true,
    "jupyter": {
     "outputs_hidden": true
    }
   },
   "outputs": [
    {
     "data": {
      "text/plain": [
       "array([[ 1.21912282e-06, -3.79377620e-06,  8.52962505e-06, ...,\n",
       "         0.00000000e+00, -6.90065559e-02,  0.00000000e+00],\n",
       "       [ 4.95229417e-08, -1.56508108e-07,  3.65751711e-07, ...,\n",
       "         0.00000000e+00, -6.90065559e-02,  0.00000000e+00],\n",
       "       [ 2.36322576e-07, -7.22799898e-07,  1.57758612e-06, ...,\n",
       "         0.00000000e+00, -6.90065559e-02,  0.00000000e+00],\n",
       "       ...,\n",
       "       [ 0.00000000e+00,  0.00000000e+00,  0.00000000e+00, ...,\n",
       "         0.00000000e+00,  0.00000000e+00,  7.31272424e-02],\n",
       "       [ 0.00000000e+00,  0.00000000e+00,  0.00000000e+00, ...,\n",
       "         0.00000000e+00,  0.00000000e+00,  7.31272424e-02],\n",
       "       [ 0.00000000e+00,  0.00000000e+00,  0.00000000e+00, ...,\n",
       "         0.00000000e+00,  0.00000000e+00,  7.31272424e-02]])"
      ]
     },
     "execution_count": 7,
     "metadata": {},
     "output_type": "execute_result"
    }
   ],
   "source": [
    "r_n_alpha_mat = np.zeros((p_agent.n_window, p_agent.n_eigenvalues))\n",
    "window_modes_v_mat = p_agent.get_window_modes_v_mat(window_id)\n",
    "window_modes_v_mat"
   ]
  },
  {
   "cell_type": "code",
   "execution_count": 12,
   "metadata": {},
   "outputs": [],
   "source": [
    "product_mat = np.abs(np.dot(mean_modes_v_mat_T, window_modes_v_mat))"
   ]
  },
  {
   "cell_type": "code",
   "execution_count": 13,
   "metadata": {},
   "outputs": [
    {
     "data": {
      "text/plain": [
       "0.9745642625285578"
      ]
     },
     "execution_count": 13,
     "metadata": {},
     "output_type": "execute_result"
    }
   ],
   "source": [
    "product_mat[0,:].max()"
   ]
  }
 ],
 "metadata": {
  "kernelspec": {
   "display_name": "Python 3",
   "language": "python",
   "name": "python3"
  },
  "language_info": {
   "codemirror_mode": {
    "name": "ipython",
    "version": 3
   },
   "file_extension": ".py",
   "mimetype": "text/x-python",
   "name": "python",
   "nbconvert_exporter": "python",
   "pygments_lexer": "ipython3",
   "version": "3.8.5"
  }
 },
 "nbformat": 4,
 "nbformat_minor": 4
}
