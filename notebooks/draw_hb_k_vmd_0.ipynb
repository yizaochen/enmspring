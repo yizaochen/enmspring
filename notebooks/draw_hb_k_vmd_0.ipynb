{
 "cells": [
  {
   "cell_type": "code",
   "execution_count": 1,
   "metadata": {},
   "outputs": [],
   "source": [
    "from enmspring.vmddraw_tribasesteps import TriBaseStepsVMD\n",
    "all_folder = '/home/yizaochen/codes/dna_rna/all_systems'\n",
    "drawzone_folder = '/home/yizaochen/Desktop/drawzone_temp'\n",
    "tcl_folder = '/home/yizaochen/Desktop/drawzone_temp/tcl_folder'\n",
    "radius = 0.05\n",
    "colorname = 'orange'"
   ]
  },
  {
   "cell_type": "markdown",
   "metadata": {},
   "source": [
    "### Part 1: Initialize"
   ]
  },
  {
   "cell_type": "code",
   "execution_count": 7,
   "metadata": {},
   "outputs": [],
   "source": [
    "host = 'g_tract_21mer'\n",
    "resid_i = 10 # a_tract, g_tract -> 10     atat, gcgc -> 11\n",
    "tri_agent = TriBaseStepsVMD(all_folder, tcl_folder, host, resid_i)"
   ]
  },
  {
   "cell_type": "markdown",
   "metadata": {},
   "source": [
    "### Part 2: Open Tri-basesteps by VMD"
   ]
  },
  {
   "cell_type": "code",
   "execution_count": 8,
   "metadata": {},
   "outputs": [
    {
     "name": "stdout",
     "output_type": "stream",
     "text": [
      "vmd -pdb /home/yizaochen/codes/dna_rna/all_systems/g_tract_21mer/bdna+bdna/animations/tri_bs_resid10.pdb\n",
      "display resize 800 500\n"
     ]
    }
   ],
   "source": [
    "tri_agent.vmd_show()\n",
    "print('display resize 800 500')"
   ]
  },
  {
   "cell_type": "markdown",
   "metadata": {},
   "source": [
    "### Part 3: Highlight All Tri-baseatoms"
   ]
  },
  {
   "cell_type": "code",
   "execution_count": 9,
   "metadata": {},
   "outputs": [
    {
     "name": "stdout",
     "output_type": "stream",
     "text": [
      "source /home/yizaochen/Desktop/drawzone_temp/tcl_folder/highlight_hb.tcl\n"
     ]
    }
   ],
   "source": [
    "tri_agent.highlight_ij_for_hb_basepairing()"
   ]
  },
  {
   "cell_type": "code",
   "execution_count": 10,
   "metadata": {},
   "outputs": [
    {
     "name": "stdout",
     "output_type": "stream",
     "text": [
      "render Tachyon /home/yizaochen/Desktop/drawzone_temp/g_tract_21mer_hb \"/usr/local/lib/vmd/tachyon_LINUXAMD64\" -aasamples 12 %s -format TARGA -o %s.tga\n"
     ]
    }
   ],
   "source": [
    "tga_name = f'{host}_hb'\n",
    "tri_agent.tachyon_take_photo_cmd(drawzone_folder, tga_name)"
   ]
  },
  {
   "cell_type": "markdown",
   "metadata": {},
   "source": [
    "### Others"
   ]
  },
  {
   "cell_type": "code",
   "execution_count": 6,
   "metadata": {},
   "outputs": [
    {
     "name": "stdout",
     "output_type": "stream",
     "text": [
      "draw delete all\n"
     ]
    }
   ],
   "source": [
    "print('draw delete all')"
   ]
  },
  {
   "cell_type": "code",
   "execution_count": 9,
   "metadata": {},
   "outputs": [
    {
     "name": "stdout",
     "output_type": "stream",
     "text": [
      "scale by 0.9\n"
     ]
    }
   ],
   "source": [
    "print('scale by 0.9')"
   ]
  },
  {
   "cell_type": "code",
   "execution_count": null,
   "metadata": {},
   "outputs": [],
   "source": []
  }
 ],
 "metadata": {
  "kernelspec": {
   "display_name": "Python 3",
   "language": "python",
   "name": "python3"
  },
  "language_info": {
   "codemirror_mode": {
    "name": "ipython",
    "version": 3
   },
   "file_extension": ".py",
   "mimetype": "text/x-python",
   "name": "python",
   "nbconvert_exporter": "python",
   "pygments_lexer": "ipython3",
   "version": "3.8.5"
  }
 },
 "nbformat": 4,
 "nbformat_minor": 4
}
