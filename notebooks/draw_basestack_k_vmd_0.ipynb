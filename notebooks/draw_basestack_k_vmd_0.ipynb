{
 "cells": [
  {
   "cell_type": "code",
   "execution_count": 1,
   "metadata": {},
   "outputs": [],
   "source": [
    "from enmspring.vmddraw_tribasesteps import TriBaseStepsVMD\n",
    "all_folder = '/home/yizaochen/codes/dna_rna/all_systems'\n",
    "tcl_folder = '/home/yizaochen/Desktop/drawzone_temp/tcl_folder'"
   ]
  },
  {
   "cell_type": "markdown",
   "metadata": {},
   "source": [
    "### Part 1: Initialize"
   ]
  },
  {
   "cell_type": "code",
   "execution_count": 2,
   "metadata": {},
   "outputs": [],
   "source": [
    "host = 'a_tract_21mer'\n",
    "resid_i = 10\n",
    "tri_agent = TriBaseStepsVMD(all_folder, tcl_folder, host, resid_i)"
   ]
  },
  {
   "cell_type": "markdown",
   "metadata": {},
   "source": [
    "### Part 2: Open Tri-basesteps by VMD"
   ]
  },
  {
   "cell_type": "code",
   "execution_count": 4,
   "metadata": {},
   "outputs": [
    {
     "name": "stdout",
     "output_type": "stream",
     "text": [
      "vmd -pdb /home/yizaochen/codes/dna_rna/all_systems/a_tract_21mer/bdna+bdna/animations/tri_bs_resid10.pdb\n"
     ]
    }
   ],
   "source": [
    "tri_agent.vmd_show()"
   ]
  },
  {
   "cell_type": "markdown",
   "metadata": {},
   "source": [
    "### Part 3: Set i or j"
   ]
  },
  {
   "cell_type": "code",
   "execution_count": 3,
   "metadata": {},
   "outputs": [],
   "source": [
    "i_or_j = 'i' # 'i' or 'j'"
   ]
  },
  {
   "cell_type": "markdown",
   "metadata": {},
   "source": [
    "### Part 4: Highlight Tri-baseatoms"
   ]
  },
  {
   "cell_type": "code",
   "execution_count": 6,
   "metadata": {},
   "outputs": [
    {
     "name": "stdout",
     "output_type": "stream",
     "text": [
      "source /home/yizaochen/Desktop/drawzone_temp/tcl_folder/highlight_tribasesteps.tcl\n"
     ]
    }
   ],
   "source": [
    "tri_agent.highlight_tribasesteps(i_or_j)"
   ]
  },
  {
   "cell_type": "markdown",
   "metadata": {},
   "source": [
    "### Part 5: Highlight Springs"
   ]
  },
  {
   "cell_type": "code",
   "execution_count": 4,
   "metadata": {},
   "outputs": [],
   "source": [
    "d_springs = {\n",
    "    'a_tract_21mer': {('i', 'i-1'): [('C6', 'C6'), ('C6', 'N1'), ('N1', 'N1'), ('N6', 'N6'), ('N6', 'C6'), ('C4', 'N3'), ('C5', 'C4'), ('N7', 'C4')], \n",
    "                      ('i', 'i+1'): [('C6', 'C6'), ('C6', 'N6'), ('N6', 'N6'), ('N1', 'N1'), ('N1', 'C6'), ('N3', 'C4'), ('C4', 'N7'), ('C4', 'C5')]}\n",
    "}"
   ]
  },
  {
   "cell_type": "code",
   "execution_count": 5,
   "metadata": {},
   "outputs": [
    {
     "name": "stdout",
     "output_type": "stream",
     "text": [
      "source /home/yizaochen/Desktop/drawzone_temp/tcl_folder/highlight_springs.tcl\n"
     ]
    }
   ],
   "source": [
    "radius = 0.5\n",
    "tri_agent.highlight_springs(i_or_j, d_springs, radius)"
   ]
  },
  {
   "cell_type": "markdown",
   "metadata": {},
   "source": [
    "### Others"
   ]
  },
  {
   "cell_type": "code",
   "execution_count": 6,
   "metadata": {},
   "outputs": [
    {
     "name": "stdout",
     "output_type": "stream",
     "text": [
      "draw delete all\n"
     ]
    }
   ],
   "source": [
    "print('draw delete all')"
   ]
  },
  {
   "cell_type": "code",
   "execution_count": null,
   "metadata": {},
   "outputs": [],
   "source": []
  }
 ],
 "metadata": {
  "kernelspec": {
   "display_name": "Python 3",
   "language": "python",
   "name": "python3"
  },
  "language_info": {
   "codemirror_mode": {
    "name": "ipython",
    "version": 3
   },
   "file_extension": ".py",
   "mimetype": "text/x-python",
   "name": "python",
   "nbconvert_exporter": "python",
   "pygments_lexer": "ipython3",
   "version": "3.8.5"
  }
 },
 "nbformat": 4,
 "nbformat_minor": 4
}
