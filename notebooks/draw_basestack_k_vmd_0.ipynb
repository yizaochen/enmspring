{
 "cells": [
  {
   "cell_type": "code",
   "execution_count": 1,
   "metadata": {},
   "outputs": [],
   "source": [
    "from enmspring.vmddraw_tribasesteps import TriBaseStepsVMD\n",
    "all_folder = '/home/yizaochen/codes/dna_rna/all_systems'\n",
    "drawzone_folder = '/home/yizaochen/Desktop/drawzone_temp'\n",
    "tcl_folder = '/home/yizaochen/Desktop/drawzone_temp/tcl_folder'\n",
    "radius = 0.05\n",
    "colorname = 'orange'"
   ]
  },
  {
   "cell_type": "markdown",
   "metadata": {},
   "source": [
    "### Part 1: Initialize"
   ]
  },
  {
   "cell_type": "code",
   "execution_count": 2,
   "metadata": {},
   "outputs": [],
   "source": [
    "host = 'gcgc_21mer'\n",
    "resid_i = 11 # a_tract, g_tract -> 10     atat, gcgc -> 11\n",
    "tri_agent = TriBaseStepsVMD(all_folder, tcl_folder, host, resid_i)"
   ]
  },
  {
   "cell_type": "markdown",
   "metadata": {},
   "source": [
    "### Part 2: Open Tri-basesteps by VMD"
   ]
  },
  {
   "cell_type": "code",
   "execution_count": 3,
   "metadata": {},
   "outputs": [
    {
     "name": "stdout",
     "output_type": "stream",
     "text": [
      "vmd -pdb /home/yizaochen/codes/dna_rna/all_systems/gcgc_21mer/bdna+bdna/animations/tri_bs_resid11.pdb\n",
      "display resize 800 800\n"
     ]
    }
   ],
   "source": [
    "tri_agent.vmd_show()\n",
    "print('display resize 800 800')"
   ]
  },
  {
   "cell_type": "markdown",
   "metadata": {},
   "source": [
    "### Part 3: Highlight All Tri-baseatoms"
   ]
  },
  {
   "cell_type": "code",
   "execution_count": 4,
   "metadata": {},
   "outputs": [
    {
     "name": "stdout",
     "output_type": "stream",
     "text": [
      "source /home/yizaochen/Desktop/drawzone_temp/tcl_folder/highlight_tribasesteps_i.tcl\n",
      "source /home/yizaochen/Desktop/drawzone_temp/tcl_folder/highlight_tribasesteps_j.tcl\n"
     ]
    }
   ],
   "source": [
    "tri_agent.highlight_tribasesteps('i')\n",
    "tri_agent.highlight_tribasesteps('j')"
   ]
  },
  {
   "cell_type": "markdown",
   "metadata": {},
   "source": [
    "### Part 4: Highlight Springs"
   ]
  },
  {
   "cell_type": "code",
   "execution_count": 4,
   "metadata": {},
   "outputs": [],
   "source": [
    "d_springs = {\n",
    "    'a_tract_21mer': {('i', 'i-1'): [('C6', 'C6'), ('C6', 'N1'), ('N1', 'N1'), ('N6', 'N6'), ('N6', 'C6'), ('C4', 'N3'), ('C5', 'C4'), ('N7', 'C4')], \n",
    "                      ('i', 'i+1'): [('C6', 'C6'), ('N1', 'N1'), ('N1', 'C6'), ('N3', 'C4'), ('C4', 'N7'), ('C4', 'C5')],\n",
    "                      ('j', 'j-1'): [('C6', 'C2'), ('C5', 'C2'), ('C5', 'N3'), ('C5', 'N1'), ('C4' ,'N3'), ('C7', 'C6'), ('C7', 'N1')],\n",
    "                      ('j', 'j+1'): [('N1', 'C5'), ('N3', 'C4'), ('C2', 'C5')]},\n",
    "    'g_tract_21mer': {('i', 'i-1'): [('N7', 'C4'), ('C4', 'N3'), ('N3', 'N2'), ('C6', 'N1'), ('C6', 'C6')],\n",
    "                      ('i', 'i+1'): [('N3', 'C4'), ('N1', 'C6')],\n",
    "                      ('j', 'j-1'): [('C5', 'N1'), ('C4', 'C2'), ('C4', 'N3'), ('N4', 'N3')],\n",
    "                      ('j', 'j+1'): [('N3', 'C4')]},\n",
    "    'atat_21mer': {('i', 'i-1'): [], \n",
    "                   ('i', 'i+1'): [('C5', 'C4'), ('C4', 'C5'), ('C2', 'C2'), ('N1', 'N3'), ('C6', 'C4')],\n",
    "                   ('j', 'j-1'): [('C2', 'N3'), ('C2', 'C2'), ('N3', 'C2'), ('N3', 'N1'), ('C4', 'C6'), ('C4', 'C4'), ('C4', 'C5'), ('C5', 'C4'), ('C5', 'N9')],\n",
    "                   ('j', 'j+1'): []},\n",
    "    'gcgc_21mer': {('i', 'i-1'): [('C5', 'C2'), ('C6', 'N3')], \n",
    "                   ('i', 'i+1'): [('N9', 'C5'), ('C4', 'C4'), ('N3', 'C2'), ('C2', 'C2'), ('N1', 'N3')],\n",
    "                   ('j', 'j-1'): [('C2', 'N3'), ('C2', 'C2'), ('N3', 'N1'), ('C4', 'C4'), ('C5', 'C4'), ('C5', 'N9'), ('N4', 'C5'), ('O2', 'N2')],\n",
    "                   ('j', 'j+1'): [('C2', 'C5'), ('N3', 'C6')]}\n",
    "}"
   ]
  },
  {
   "cell_type": "code",
   "execution_count": 15,
   "metadata": {},
   "outputs": [
    {
     "name": "stdout",
     "output_type": "stream",
     "text": [
      "source /home/yizaochen/Desktop/drawzone_temp/tcl_folder/highlight_springs_i.tcl\n",
      "source /home/yizaochen/Desktop/drawzone_temp/tcl_folder/highlight_springs_j.tcl\n"
     ]
    }
   ],
   "source": [
    "tri_agent.highlight_springs('i', d_springs, radius, colorname)\n",
    "tri_agent.highlight_springs('j', d_springs, radius, colorname)"
   ]
  },
  {
   "cell_type": "markdown",
   "metadata": {},
   "source": [
    "### Part 5: Use Tachyon to take a photo"
   ]
  },
  {
   "cell_type": "code",
   "execution_count": 10,
   "metadata": {},
   "outputs": [
    {
     "name": "stdout",
     "output_type": "stream",
     "text": [
      "render Tachyon /home/yizaochen/Desktop/drawzone_temp/gcgc_21mer_outline \"/usr/local/lib/vmd/tachyon_LINUXAMD64\" -aasamples 12 %s -format TARGA -o %s.tga\n"
     ]
    }
   ],
   "source": [
    "tga_name = f'{host}_outline'\n",
    "tri_agent.tachyon_take_photo_cmd(drawzone_folder, tga_name)"
   ]
  },
  {
   "cell_type": "code",
   "execution_count": 11,
   "metadata": {},
   "outputs": [
    {
     "name": "stdout",
     "output_type": "stream",
     "text": [
      "Change Licorice Material from Transparent to AOChalky.\n",
      "render Tachyon /home/yizaochen/Desktop/drawzone_temp/gcgc_21mer_topview \"/usr/local/lib/vmd/tachyon_LINUXAMD64\" -aasamples 12 %s -format TARGA -o %s.tga\n"
     ]
    }
   ],
   "source": [
    "print('Change Licorice Material from Transparent to AOChalky.')\n",
    "tga_name = f'{host}_topview'\n",
    "tri_agent.tachyon_take_photo_cmd(drawzone_folder, tga_name)"
   ]
  },
  {
   "cell_type": "markdown",
   "metadata": {},
   "source": [
    "### Part 6: Delete All"
   ]
  },
  {
   "cell_type": "code",
   "execution_count": 12,
   "metadata": {},
   "outputs": [
    {
     "name": "stdout",
     "output_type": "stream",
     "text": [
      "draw delete all\n"
     ]
    }
   ],
   "source": [
    "print('draw delete all')"
   ]
  },
  {
   "cell_type": "markdown",
   "metadata": {},
   "source": [
    "### Part 7-1: Highlight $i$ and $i+1$ baseatoms"
   ]
  },
  {
   "cell_type": "code",
   "execution_count": 5,
   "metadata": {},
   "outputs": [
    {
     "name": "stdout",
     "output_type": "stream",
     "text": [
      "source /home/yizaochen/Desktop/drawzone_temp/tcl_folder/highlight_dibasesteps_i_i+1.tcl\n"
     ]
    }
   ],
   "source": [
    "tri_agent.highlight_dibasesteps_baseatoms('i', 'i+1')"
   ]
  },
  {
   "cell_type": "markdown",
   "metadata": {},
   "source": [
    "### Part 7-2: Highlight $i$ and $i+1$ springs"
   ]
  },
  {
   "cell_type": "code",
   "execution_count": 6,
   "metadata": {},
   "outputs": [
    {
     "name": "stdout",
     "output_type": "stream",
     "text": [
      "source /home/yizaochen/Desktop/drawzone_temp/tcl_folder/highlight_springs_i_i+1.tcl\n"
     ]
    }
   ],
   "source": [
    "tri_agent.highlight_dibasesteps_springs(('i', 'i+1'), d_springs, radius, colorname)"
   ]
  },
  {
   "cell_type": "code",
   "execution_count": 7,
   "metadata": {},
   "outputs": [
    {
     "name": "stdout",
     "output_type": "stream",
     "text": [
      "render Tachyon /home/yizaochen/Desktop/drawzone_temp/gcgc_21mer_i_i+1 \"/usr/local/lib/vmd/tachyon_LINUXAMD64\" -aasamples 12 %s -format TARGA -o %s.tga\n"
     ]
    }
   ],
   "source": [
    "tga_name = f'{host}_i_i+1'\n",
    "tri_agent.tachyon_take_photo_cmd(drawzone_folder, tga_name)"
   ]
  },
  {
   "cell_type": "markdown",
   "metadata": {},
   "source": [
    "### Part 8-1: Highlight $j$ and $j+1$ baseatoms"
   ]
  },
  {
   "cell_type": "code",
   "execution_count": 20,
   "metadata": {},
   "outputs": [
    {
     "name": "stdout",
     "output_type": "stream",
     "text": [
      "draw delete all\n"
     ]
    }
   ],
   "source": [
    "print('draw delete all')"
   ]
  },
  {
   "cell_type": "code",
   "execution_count": 21,
   "metadata": {},
   "outputs": [
    {
     "name": "stdout",
     "output_type": "stream",
     "text": [
      "source /home/yizaochen/Desktop/drawzone_temp/tcl_folder/highlight_dibasesteps_j_j+1.tcl\n"
     ]
    }
   ],
   "source": [
    "tri_agent.highlight_dibasesteps_baseatoms('j', 'j+1')"
   ]
  },
  {
   "cell_type": "markdown",
   "metadata": {},
   "source": [
    "### Part 8-2: Highlight $j$ and $j+1$ springs"
   ]
  },
  {
   "cell_type": "code",
   "execution_count": 22,
   "metadata": {},
   "outputs": [
    {
     "name": "stdout",
     "output_type": "stream",
     "text": [
      "source /home/yizaochen/Desktop/drawzone_temp/tcl_folder/highlight_springs_j_j+1.tcl\n"
     ]
    }
   ],
   "source": [
    "tri_agent.highlight_dibasesteps_springs(('j', 'j+1'), d_springs, radius, colorname)"
   ]
  },
  {
   "cell_type": "code",
   "execution_count": 23,
   "metadata": {},
   "outputs": [
    {
     "name": "stdout",
     "output_type": "stream",
     "text": [
      "render Tachyon /home/yizaochen/Desktop/drawzone_temp/g_tract_21mer_j_j+1 \"/usr/local/lib/vmd/tachyon_LINUXAMD64\" -aasamples 12 %s -format TARGA -o %s.tga\n"
     ]
    }
   ],
   "source": [
    "tga_name = f'{host}_j_j+1'\n",
    "tri_agent.tachyon_take_photo_cmd(drawzone_folder, tga_name)"
   ]
  },
  {
   "cell_type": "markdown",
   "metadata": {},
   "source": [
    "### Others"
   ]
  },
  {
   "cell_type": "code",
   "execution_count": 6,
   "metadata": {},
   "outputs": [
    {
     "name": "stdout",
     "output_type": "stream",
     "text": [
      "draw delete all\n"
     ]
    }
   ],
   "source": [
    "print('draw delete all')"
   ]
  },
  {
   "cell_type": "code",
   "execution_count": 9,
   "metadata": {},
   "outputs": [
    {
     "name": "stdout",
     "output_type": "stream",
     "text": [
      "scale by 0.9\n"
     ]
    }
   ],
   "source": [
    "print('scale by 0.9')"
   ]
  },
  {
   "cell_type": "code",
   "execution_count": null,
   "metadata": {},
   "outputs": [],
   "source": []
  }
 ],
 "metadata": {
  "kernelspec": {
   "display_name": "Python 3",
   "language": "python",
   "name": "python3"
  },
  "language_info": {
   "codemirror_mode": {
    "name": "ipython",
    "version": 3
   },
   "file_extension": ".py",
   "mimetype": "text/x-python",
   "name": "python",
   "nbconvert_exporter": "python",
   "pygments_lexer": "ipython3",
   "version": "3.8.5"
  }
 },
 "nbformat": 4,
 "nbformat_minor": 4
}
