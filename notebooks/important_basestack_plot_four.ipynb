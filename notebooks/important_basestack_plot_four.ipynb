{
 "cells": [
  {
   "cell_type": "code",
   "execution_count": 1,
   "metadata": {},
   "outputs": [],
   "source": [
    "from os import path\n",
    "import numpy as np\n",
    "import matplotlib\n",
    "import matplotlib.pyplot as plt\n",
    "from enmspring.graphs import Stack\n",
    "from enmspring.importance_atom import StackPlot\n",
    "rootfolder = '/home/yizaochen/codes/dna_rna/fluctmatch_sequence'\n",
    "enmroot = '/home/yizaochen/codes/dna_rna/enmspring'\n",
    "pic_out_folder = '/home/yizaochen/Documents/JPCL_ytc_2021/images/atom_importance'"
   ]
  },
  {
   "cell_type": "markdown",
   "metadata": {},
   "source": [
    "### Part 1: A-tract"
   ]
  },
  {
   "cell_type": "code",
   "execution_count": 2,
   "metadata": {},
   "outputs": [
    {
     "name": "stdout",
     "output_type": "stream",
     "text": [
      "/home/yizaochen/codes/dna_rna/fluctmatch_sequence/a_tract_21mer/bdna+bdna/pd_dfs exists\n",
      "Read Dataframe of stacking: df_st\n",
      "Thare are 399 nodes.\n",
      "Initialize adjacency, degree and Laplacian matrices... Done.\n",
      "Finish the setup for Laplaican matrix.\n",
      "Total number of nodes: 399\n",
      "There are 210 eigenvectors belonging to STRAND1.\n",
      "There are 189 eigenvectors belonging to STRAND2.\n",
      "Sum of two strands: 399\n"
     ]
    }
   ],
   "source": [
    "host = 'a_tract_21mer'\n",
    "plot_agent = StackPlot(host, rootfolder)"
   ]
  },
  {
   "cell_type": "code",
   "execution_count": 3,
   "metadata": {},
   "outputs": [
    {
     "name": "stdout",
     "output_type": "stream",
     "text": [
      "vmd -gro /home/yizaochen/codes/dna_rna/all_systems/a_tract_21mer/bdna+bdna/input/allatoms/bdna+bdna.perfect.gro\n",
      "source ../tclscripts/draw_fourmer.tcl\n",
      "/home/yizaochen/Documents/JPCL_ytc_2021/images/atom_importance/mol_structure/a_tract_21mer_aaaa_mol_fourmer\n"
     ]
    }
   ],
   "source": [
    "plot_agent.vmd_show_a_tract_aaaa()"
   ]
  },
  {
   "cell_type": "code",
   "execution_count": 3,
   "metadata": {},
   "outputs": [
    {
     "name": "stdout",
     "output_type": "stream",
     "text": [
      "vmd -gro /home/yizaochen/codes/dna_rna/all_systems/a_tract_21mer/bdna+bdna/input/allatoms/bdna+bdna.perfect.gro\n",
      "source ../tclscripts/draw_fourmer.tcl\n",
      "/home/yizaochen/Documents/JPCL_ytc_2021/images/atom_importance/mol_structure/a_tract_21mer_tttt_mol_fourmer\n"
     ]
    }
   ],
   "source": [
    "plot_agent.vmd_show_a_tract_tttt()"
   ]
  },
  {
   "cell_type": "markdown",
   "metadata": {},
   "source": [
    "### Part 2: G-tract"
   ]
  },
  {
   "cell_type": "code",
   "execution_count": 4,
   "metadata": {},
   "outputs": [
    {
     "name": "stdout",
     "output_type": "stream",
     "text": [
      "/home/yizaochen/codes/dna_rna/fluctmatch_sequence/g_tract_21mer/bdna+bdna/pd_dfs exists\n",
      "Read Dataframe of stacking: df_st\n",
      "Thare are 399 nodes.\n",
      "Initialize adjacency, degree and Laplacian matrices... Done.\n",
      "Finish the setup for Laplaican matrix.\n",
      "Total number of nodes: 399\n",
      "There are 231 eigenvectors belonging to STRAND1.\n",
      "There are 168 eigenvectors belonging to STRAND2.\n",
      "Sum of two strands: 399\n"
     ]
    }
   ],
   "source": [
    "host = 'g_tract_21mer'\n",
    "plot_agent = StackPlot(host, rootfolder)"
   ]
  },
  {
   "cell_type": "code",
   "execution_count": 5,
   "metadata": {},
   "outputs": [
    {
     "name": "stdout",
     "output_type": "stream",
     "text": [
      "vmd -gro /home/yizaochen/codes/dna_rna/all_systems/g_tract_21mer/bdna+bdna/input/allatoms/bdna+bdna.perfect.gro\n",
      "source ../tclscripts/draw_fourmer.tcl\n",
      "/home/yizaochen/Documents/JPCL_ytc_2021/images/atom_importance/mol_structure/g_tract_21mer_gggg_mol_fourmer\n"
     ]
    }
   ],
   "source": [
    "plot_agent.vmd_show_g_tract_gggg()"
   ]
  },
  {
   "cell_type": "code",
   "execution_count": 6,
   "metadata": {},
   "outputs": [
    {
     "name": "stdout",
     "output_type": "stream",
     "text": [
      "vmd -gro /home/yizaochen/codes/dna_rna/all_systems/g_tract_21mer/bdna+bdna/input/allatoms/bdna+bdna.perfect.gro\n",
      "source ../tclscripts/draw_fourmer.tcl\n",
      "/home/yizaochen/Documents/JPCL_ytc_2021/images/atom_importance/mol_structure/g_tract_21mer_cccc_mol_fourmer\n"
     ]
    }
   ],
   "source": [
    "plot_agent.vmd_show_g_tract_cccc()"
   ]
  },
  {
   "cell_type": "markdown",
   "metadata": {},
   "source": [
    "### Part 3: ATAT-21mer"
   ]
  },
  {
   "cell_type": "code",
   "execution_count": 7,
   "metadata": {},
   "outputs": [
    {
     "name": "stdout",
     "output_type": "stream",
     "text": [
      "/home/yizaochen/codes/dna_rna/fluctmatch_sequence/atat_21mer/bdna+bdna/pd_dfs exists\n",
      "Read Dataframe of stacking: df_st\n",
      "Thare are 399 nodes.\n",
      "Initialize adjacency, degree and Laplacian matrices... Done.\n",
      "Finish the setup for Laplaican matrix.\n",
      "Total number of nodes: 399\n",
      "There are 200 eigenvectors belonging to STRAND1.\n",
      "There are 199 eigenvectors belonging to STRAND2.\n",
      "Sum of two strands: 399\n"
     ]
    }
   ],
   "source": [
    "host = 'atat_21mer'\n",
    "plot_agent = StackPlot(host, rootfolder)"
   ]
  },
  {
   "cell_type": "code",
   "execution_count": 8,
   "metadata": {},
   "outputs": [
    {
     "name": "stdout",
     "output_type": "stream",
     "text": [
      "vmd -gro /home/yizaochen/codes/dna_rna/all_systems/atat_21mer/bdna+bdna/input/allatoms/bdna+bdna.perfect.gro\n",
      "source ../tclscripts/draw_fourmer.tcl\n",
      "/home/yizaochen/Documents/JPCL_ytc_2021/images/atom_importance/mol_structure/atat_21mer_atat_mol_fourmer\n"
     ]
    }
   ],
   "source": [
    "plot_agent.vmd_show_atat()"
   ]
  },
  {
   "cell_type": "markdown",
   "metadata": {},
   "source": [
    "### Part 4: GCGC-21mer"
   ]
  },
  {
   "cell_type": "code",
   "execution_count": 9,
   "metadata": {},
   "outputs": [
    {
     "name": "stdout",
     "output_type": "stream",
     "text": [
      "/home/yizaochen/codes/dna_rna/fluctmatch_sequence/gcgc_21mer/bdna+bdna/pd_dfs exists\n",
      "Read Dataframe of stacking: df_st\n",
      "Thare are 399 nodes.\n",
      "Initialize adjacency, degree and Laplacian matrices... Done.\n",
      "Finish the setup for Laplaican matrix.\n",
      "Total number of nodes: 399\n",
      "There are 201 eigenvectors belonging to STRAND1.\n",
      "There are 198 eigenvectors belonging to STRAND2.\n",
      "Sum of two strands: 399\n"
     ]
    }
   ],
   "source": [
    "host = 'gcgc_21mer'\n",
    "plot_agent = StackPlot(host, rootfolder)"
   ]
  },
  {
   "cell_type": "code",
   "execution_count": 10,
   "metadata": {},
   "outputs": [
    {
     "name": "stdout",
     "output_type": "stream",
     "text": [
      "vmd -gro /home/yizaochen/codes/dna_rna/all_systems/gcgc_21mer/bdna+bdna/input/allatoms/bdna+bdna.perfect.gro\n",
      "source ../tclscripts/draw_fourmer.tcl\n",
      "/home/yizaochen/Documents/JPCL_ytc_2021/images/atom_importance/mol_structure/gcgc_21mer_gcgc_mol_fourmer\n"
     ]
    }
   ],
   "source": [
    "plot_agent.vmd_show_gcgc()"
   ]
  },
  {
   "cell_type": "markdown",
   "metadata": {},
   "source": [
    "### Part 5: CTCT-21mer"
   ]
  },
  {
   "cell_type": "code",
   "execution_count": 11,
   "metadata": {},
   "outputs": [
    {
     "name": "stdout",
     "output_type": "stream",
     "text": [
      "/home/yizaochen/codes/dna_rna/fluctmatch_sequence/ctct_21mer/bdna+bdna/pd_dfs exists\n",
      "Read Dataframe of stacking: df_st\n",
      "Thare are 399 nodes.\n",
      "Initialize adjacency, degree and Laplacian matrices... Done.\n",
      "Finish the setup for Laplaican matrix.\n",
      "Total number of nodes: 399\n",
      "There are 178 eigenvectors belonging to STRAND1.\n",
      "There are 221 eigenvectors belonging to STRAND2.\n",
      "Sum of two strands: 399\n"
     ]
    }
   ],
   "source": [
    "host = 'ctct_21mer'\n",
    "plot_agent = StackPlot(host, rootfolder)"
   ]
  },
  {
   "cell_type": "code",
   "execution_count": 12,
   "metadata": {},
   "outputs": [
    {
     "name": "stdout",
     "output_type": "stream",
     "text": [
      "vmd -gro /home/yizaochen/codes/dna_rna/all_systems/ctct_21mer/bdna+bdna/input/allatoms/bdna+bdna.perfect.gro\n",
      "source ../tclscripts/draw_fourmer.tcl\n",
      "/home/yizaochen/Documents/JPCL_ytc_2021/images/atom_importance/mol_structure/ctct_21mer_ctct_mol_fourmer\n"
     ]
    }
   ],
   "source": [
    "plot_agent.vmd_show_ctct()"
   ]
  },
  {
   "cell_type": "code",
   "execution_count": 13,
   "metadata": {},
   "outputs": [
    {
     "name": "stdout",
     "output_type": "stream",
     "text": [
      "vmd -gro /home/yizaochen/codes/dna_rna/all_systems/ctct_21mer/bdna+bdna/input/allatoms/bdna+bdna.perfect.gro\n",
      "source ../tclscripts/draw_fourmer.tcl\n",
      "/home/yizaochen/Documents/JPCL_ytc_2021/images/atom_importance/mol_structure/ctct_21mer_gaga_mol_fourmer\n"
     ]
    }
   ],
   "source": [
    "plot_agent.vmd_show_gaga()"
   ]
  },
  {
   "cell_type": "markdown",
   "metadata": {},
   "source": [
    "### Part 6: TGTG-21mer"
   ]
  },
  {
   "cell_type": "code",
   "execution_count": 14,
   "metadata": {},
   "outputs": [
    {
     "name": "stdout",
     "output_type": "stream",
     "text": [
      "/home/yizaochen/codes/dna_rna/fluctmatch_sequence/tgtg_21mer/bdna+bdna/pd_dfs exists\n",
      "Read Dataframe of stacking: df_st\n",
      "Thare are 399 nodes.\n",
      "Initialize adjacency, degree and Laplacian matrices... Done.\n",
      "Finish the setup for Laplaican matrix.\n",
      "Total number of nodes: 399\n",
      "There are 210 eigenvectors belonging to STRAND1.\n",
      "There are 189 eigenvectors belonging to STRAND2.\n",
      "Sum of two strands: 399\n"
     ]
    }
   ],
   "source": [
    "host = 'tgtg_21mer'\n",
    "plot_agent = StackPlot(host, rootfolder)"
   ]
  },
  {
   "cell_type": "code",
   "execution_count": 15,
   "metadata": {},
   "outputs": [
    {
     "name": "stdout",
     "output_type": "stream",
     "text": [
      "vmd -gro /home/yizaochen/codes/dna_rna/all_systems/tgtg_21mer/bdna+bdna/input/allatoms/bdna+bdna.perfect.gro\n",
      "source ../tclscripts/draw_fourmer.tcl\n",
      "/home/yizaochen/Documents/JPCL_ytc_2021/images/atom_importance/mol_structure/tgtg_21mer_tgtg_mol_fourmer\n"
     ]
    }
   ],
   "source": [
    "plot_agent.vmd_show_tgtg()"
   ]
  },
  {
   "cell_type": "code",
   "execution_count": 17,
   "metadata": {},
   "outputs": [
    {
     "name": "stdout",
     "output_type": "stream",
     "text": [
      "vmd -gro /home/yizaochen/codes/dna_rna/all_systems/tgtg_21mer/bdna+bdna/input/allatoms/bdna+bdna.perfect.gro\n",
      "source ../tclscripts/draw_fourmer.tcl\n",
      "/home/yizaochen/Documents/JPCL_ytc_2021/images/atom_importance/mol_structure/tgtg_21mer_acac_mol_fourmer\n"
     ]
    }
   ],
   "source": [
    "plot_agent.vmd_show_acac()"
   ]
  },
  {
   "cell_type": "code",
   "execution_count": null,
   "metadata": {},
   "outputs": [],
   "source": []
  }
 ],
 "metadata": {
  "kernelspec": {
   "display_name": "Python 3",
   "language": "python",
   "name": "python3"
  },
  "language_info": {
   "codemirror_mode": {
    "name": "ipython",
    "version": 3
   },
   "file_extension": ".py",
   "mimetype": "text/x-python",
   "name": "python",
   "nbconvert_exporter": "python",
   "pygments_lexer": "ipython3",
   "version": "3.8.5"
  }
 },
 "nbformat": 4,
 "nbformat_minor": 4
}
